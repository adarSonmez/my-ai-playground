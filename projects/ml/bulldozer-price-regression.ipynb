{
 "cells": [
  {
   "cell_type": "markdown",
   "metadata": {},
   "source": [
    "# Predicting the Sale Price of Bulldozers using Machine Learning \n",
    "\n",
    "In this notebook, we're going to go through an example machine learning project with the goal of predicting the sale price of bulldozers.\n",
    "\n",
    "Since we're trying to predict a number, this kind of problem is known as a **regression problem**.\n",
    "\n",
    "The data and evaluation metric we'll be using (root-mean-square log error or RMSLE) is from the [Kaggle Bluebook for Bulldozers competition](https://www.kaggle.com/c/bluebook-for-bulldozers/overview).\n",
    "\n",
    "The techniques used in here have been inspired and adapted from [the fast.ai machine learning course](https://course18.fast.ai/ml).\n",
    "\n",
    "## What we'll end up with\n",
    "\n",
    "Since we already have a dataset, we'll approach the problem with the following machine learning modelling framework.\n",
    "\n",
    "|                     <img src=\"../images/ml101-6-step-ml-framework.png\" width=\"900\"/>                     | \n",
    "|:-------------------------------------------------------------------------------------------------------:| \n",
    "| 6 Step Machine Learning Modelling Framework ([read more](https://whimsical.com/9g65jgoRYTxMXxDosndYTB)) |\n",
    "\n",
    "To work through these topics, we'll use pandas, Matplotlib and NumPy for data analysis, as well as, Scikit-Learn for machine learning and modelling tasks.\n",
    "\n",
    "| <img src=\"../images/supervised-projects-6-step-ml-framework-tools-highlight.png\" width=\"900\"/> | \n",
    "|:----------------------------------------------------------------------------------------------:| \n",
    "|        Tools which can be used for each step of the machine learning modelling process.        |\n",
    "\n",
    "We'll work through each step, and by the end of the notebook, we'll have a trained machine learning model which predicts the sale price of a bulldozer given different characteristics about it."
   ]
  },
  {
   "cell_type": "markdown",
   "metadata": {},
   "source": [
    "## 1. Problem Definition\n",
    "\n",
    "For this dataset, the problem we're trying to solve, or better, the question we're trying to answer is,\n",
    "\n",
    "> How well can we predict the future sale price of a bulldozer, given its characteristics previous examples of how much similar bulldozers have been sold for?\n",
    "\n",
    "## 2. Data\n",
    "\n",
    "Looking at the [dataset from Kaggle](https://www.kaggle.com/c/bluebook-for-bulldozers/data), you can you it's a time series problem. This means there's a time attribute to dataset.\n",
    "\n",
    "In this case, it's historical sales data of bulldozers. Including things like, model type, size, sale date and more.\n",
    "\n",
    "There are 3 datasets:\n",
    "1. **Train.csv** - Historical bulldozer sales examples up to 2011 (close to 400,000 examples with 50+ different attributes, including `SalePrice` which is the **target variable**).\n",
    "2. **Valid.csv** - Historical bulldozer sales examples from January 1 2012 to April 30 2012 (close to 12,000 examples with the same attributes as **Train.csv**).\n",
    "3. **Test.csv** - Historical bulldozer sales examples from May 1 2012 to November 2012 (close to 12,000 examples but missing the `SalePrice` attribute, as this is what we'll be trying to predict).\n",
    "\n",
    "## 3. Evaluation\n",
    "\n",
    "For this problem, [Kaggle has set the evaluation metric to being root mean squared log error (RMSLE)](https://www.kaggle.com/c/bluebook-for-bulldozers/overview/evaluation). As with many regression evaluations, the goal will be to get this value as low as possible.\n",
    "\n",
    "To see how well our model is doing, we'll calculate the RMSLE and then compare our results to others on the [Kaggle leaderboard](https://www.kaggle.com/c/bluebook-for-bulldozers/leaderboard).\n",
    "\n",
    "## 4. Features\n",
    "\n",
    "Features are different parts of the data. During this step, you'll want to start finding out what you can about the data.\n",
    "\n",
    "One of the most common ways to do this, is to create a **data dictionary**.\n",
    "\n",
    "For this dataset, Kaggle provide a data dictionary which contains information about what each attribute of the dataset means. You can [download this file directly from the Kaggle competition page](https://www.kaggle.com/c/bluebook-for-bulldozers/download/Bnl6RAHA0enbg0UfAvGA%2Fversions%2FwBG4f35Q8mAbfkzwCeZn%2Ffiles%2FData%20Dictionary.xlsx) (account required) or view it on Google Sheets.\n",
    "\n",
    "With all of this being known, let's get started! \n",
    "\n",
    "First, we'll import the dataset and start exploring. Since we know the evaluation metric we're trying to minimise, our first goal will be building a baseline model and seeing how it stacks up against the competition."
   ]
  },
  {
   "cell_type": "code",
   "execution_count": 2,
   "metadata": {
    "ExecuteTime": {
     "end_time": "2024-03-19T19:19:35.823462Z",
     "start_time": "2024-03-19T19:19:35.820487Z"
    }
   },
   "outputs": [
    {
     "name": "stdout",
     "output_type": "stream",
     "text": [
      "Notebook last run (end-to-end): 2024-03-19 22:19:35.821604\n"
     ]
    }
   ],
   "source": [
    "# Timestamp\n",
    "import datetime\n",
    "print(f\"Notebook last run (end-to-end): {datetime.datetime.now()}\")"
   ]
  },
  {
   "cell_type": "markdown",
   "metadata": {},
   "source": [
    "\n",
    "### Importing the data and preparing it for modeling"
   ]
  },
  {
   "cell_type": "code",
   "execution_count": 3,
   "metadata": {
    "ExecuteTime": {
     "end_time": "2024-03-19T19:19:36.463943Z",
     "start_time": "2024-03-19T19:19:36.461194Z"
    }
   },
   "outputs": [],
   "source": [
    "# Import data analysis tools \n",
    "import pandas as pd\n",
    "import numpy as np\n",
    "import matplotlib.pyplot as plt"
   ]
  },
  {
   "cell_type": "markdown",
   "metadata": {},
   "source": [
    "Now we've got our tools for data analysis ready, we can import the data and start to explore it.\n",
    "\n",
    "For this project, we've [downloaded the data from Kaggle](https://www.kaggle.com/c/bluebook-for-bulldozers/data) and stored it under the file path `\"../data/\"`."
   ]
  },
  {
   "cell_type": "code",
   "execution_count": 4,
   "metadata": {
    "ExecuteTime": {
     "end_time": "2024-03-19T19:19:38.190090Z",
     "start_time": "2024-03-19T19:19:36.478694Z"
    }
   },
   "outputs": [],
   "source": [
    "# Import the training and validation set\n",
    "df = pd.read_csv(\"../data/bluebook-for-bulldozers/TrainAndValid.csv\", low_memory=False)"
   ]
  },
  {
   "cell_type": "code",
   "execution_count": 5,
   "metadata": {
    "ExecuteTime": {
     "end_time": "2024-03-19T19:19:38.440252Z",
     "start_time": "2024-03-19T19:19:38.191611Z"
    }
   },
   "outputs": [
    {
     "name": "stdout",
     "output_type": "stream",
     "text": [
      "<class 'pandas.core.frame.DataFrame'>\n",
      "RangeIndex: 412698 entries, 0 to 412697\n",
      "Data columns (total 53 columns):\n",
      " #   Column                    Non-Null Count   Dtype  \n",
      "---  ------                    --------------   -----  \n",
      " 0   SalesID                   412698 non-null  int64  \n",
      " 1   SalePrice                 412698 non-null  float64\n",
      " 2   MachineID                 412698 non-null  int64  \n",
      " 3   ModelID                   412698 non-null  int64  \n",
      " 4   datasource                412698 non-null  int64  \n",
      " 5   auctioneerID              392562 non-null  float64\n",
      " 6   YearMade                  412698 non-null  int64  \n",
      " 7   MachineHoursCurrentMeter  147504 non-null  float64\n",
      " 8   UsageBand                 73670 non-null   object \n",
      " 9   saledate                  412698 non-null  object \n",
      " 10  fiModelDesc               412698 non-null  object \n",
      " 11  fiBaseModel               412698 non-null  object \n",
      " 12  fiSecondaryDesc           271971 non-null  object \n",
      " 13  fiModelSeries             58667 non-null   object \n",
      " 14  fiModelDescriptor         74816 non-null   object \n",
      " 15  ProductSize               196093 non-null  object \n",
      " 16  fiProductClassDesc        412698 non-null  object \n",
      " 17  state                     412698 non-null  object \n",
      " 18  ProductGroup              412698 non-null  object \n",
      " 19  ProductGroupDesc          412698 non-null  object \n",
      " 20  Drive_System              107087 non-null  object \n",
      " 21  Enclosure                 412364 non-null  object \n",
      " 22  Forks                     197715 non-null  object \n",
      " 23  Pad_Type                  81096 non-null   object \n",
      " 24  Ride_Control              152728 non-null  object \n",
      " 25  Stick                     81096 non-null   object \n",
      " 26  Transmission              188007 non-null  object \n",
      " 27  Turbocharged              81096 non-null   object \n",
      " 28  Blade_Extension           25983 non-null   object \n",
      " 29  Blade_Width               25983 non-null   object \n",
      " 30  Enclosure_Type            25983 non-null   object \n",
      " 31  Engine_Horsepower         25983 non-null   object \n",
      " 32  Hydraulics                330133 non-null  object \n",
      " 33  Pushblock                 25983 non-null   object \n",
      " 34  Ripper                    106945 non-null  object \n",
      " 35  Scarifier                 25994 non-null   object \n",
      " 36  Tip_Control               25983 non-null   object \n",
      " 37  Tire_Size                 97638 non-null   object \n",
      " 38  Coupler                   220679 non-null  object \n",
      " 39  Coupler_System            44974 non-null   object \n",
      " 40  Grouser_Tracks            44875 non-null   object \n",
      " 41  Hydraulics_Flow           44875 non-null   object \n",
      " 42  Track_Type                102193 non-null  object \n",
      " 43  Undercarriage_Pad_Width   102916 non-null  object \n",
      " 44  Stick_Length              102261 non-null  object \n",
      " 45  Thumb                     102332 non-null  object \n",
      " 46  Pattern_Changer           102261 non-null  object \n",
      " 47  Grouser_Type              102193 non-null  object \n",
      " 48  Backhoe_Mounting          80712 non-null   object \n",
      " 49  Blade_Type                81875 non-null   object \n",
      " 50  Travel_Controls           81877 non-null   object \n",
      " 51  Differential_Type         71564 non-null   object \n",
      " 52  Steering_Controls         71522 non-null   object \n",
      "dtypes: float64(3), int64(5), object(45)\n",
      "memory usage: 166.9+ MB\n"
     ]
    }
   ],
   "source": [
    "# No parse_dates... check dtype of \"saledate\"\n",
    "df.info()"
   ]
  },
  {
   "cell_type": "code",
   "execution_count": 6,
   "metadata": {
    "ExecuteTime": {
     "end_time": "2024-03-19T19:19:39.588449Z",
     "start_time": "2024-03-19T19:19:38.440923Z"
    }
   },
   "outputs": [
    {
     "data": {
      "text/plain": "<matplotlib.collections.PathCollection at 0x74316a903610>"
     },
     "execution_count": 6,
     "metadata": {},
     "output_type": "execute_result"
    },
    {
     "data": {
      "text/plain": "<Figure size 640x480 with 1 Axes>",
      "image/png": "[encoded data removed]"
     },
     "metadata": {},
     "output_type": "display_data"
    }
   ],
   "source": [
    "fig, ax = plt.subplots()\n",
    "ax.scatter(df[\"saledate\"][:1000], df[\"SalePrice\"][:1000])"
   ]
  },
  {
   "cell_type": "code",
   "execution_count": 7,
   "metadata": {
    "ExecuteTime": {
     "end_time": "2024-03-19T19:19:39.747879Z",
     "start_time": "2024-03-19T19:19:39.589458Z"
    }
   },
   "outputs": [
    {
     "data": {
      "text/plain": "<Axes: ylabel='Frequency'>"
     },
     "execution_count": 7,
     "metadata": {},
     "output_type": "execute_result"
    },
    {
     "data": {
      "text/plain": "<Figure size 640x480 with 1 Axes>",
      "image/png": "[encoded data removed]"
     },
     "metadata": {},
     "output_type": "display_data"
    }
   ],
   "source": [
    "df.SalePrice.plot.hist()"
   ]
  },
  {
   "cell_type": "markdown",
   "metadata": {},
   "source": [
    "### Parsing dates\n",
    "When working with time series data, it's a good idea to make sure any date data is the format of a [datetime object](https://docs.python.org/3/library/datetime.html) (a Python data type which encodes specific information about dates)."
   ]
  },
  {
   "cell_type": "code",
   "execution_count": 8,
   "metadata": {
    "ExecuteTime": {
     "end_time": "2024-03-19T19:19:41.585027Z",
     "start_time": "2024-03-19T19:19:39.748550Z"
    }
   },
   "outputs": [],
   "source": [
    "df = pd.read_csv(\"../data/bluebook-for-bulldozers/TrainAndValid.csv\",\n",
    "                 low_memory=False,\n",
    "                 parse_dates=[\"saledate\"])"
   ]
  },
  {
   "cell_type": "code",
   "execution_count": 9,
   "metadata": {
    "ExecuteTime": {
     "end_time": "2024-03-19T19:19:41.809315Z",
     "start_time": "2024-03-19T19:19:41.586349Z"
    }
   },
   "outputs": [
    {
     "name": "stdout",
     "output_type": "stream",
     "text": [
      "<class 'pandas.core.frame.DataFrame'>\n",
      "RangeIndex: 412698 entries, 0 to 412697\n",
      "Data columns (total 53 columns):\n",
      " #   Column                    Non-Null Count   Dtype         \n",
      "---  ------                    --------------   -----         \n",
      " 0   SalesID                   412698 non-null  int64         \n",
      " 1   SalePrice                 412698 non-null  float64       \n",
      " 2   MachineID                 412698 non-null  int64         \n",
      " 3   ModelID                   412698 non-null  int64         \n",
      " 4   datasource                412698 non-null  int64         \n",
      " 5   auctioneerID              392562 non-null  float64       \n",
      " 6   YearMade                  412698 non-null  int64         \n",
      " 7   MachineHoursCurrentMeter  147504 non-null  float64       \n",
      " 8   UsageBand                 73670 non-null   object        \n",
      " 9   saledate                  412698 non-null  datetime64[ns]\n",
      " 10  fiModelDesc               412698 non-null  object        \n",
      " 11  fiBaseModel               412698 non-null  object        \n",
      " 12  fiSecondaryDesc           271971 non-null  object        \n",
      " 13  fiModelSeries             58667 non-null   object        \n",
      " 14  fiModelDescriptor         74816 non-null   object        \n",
      " 15  ProductSize               196093 non-null  object        \n",
      " 16  fiProductClassDesc        412698 non-null  object        \n",
      " 17  state                     412698 non-null  object        \n",
      " 18  ProductGroup              412698 non-null  object        \n",
      " 19  ProductGroupDesc          412698 non-null  object        \n",
      " 20  Drive_System              107087 non-null  object        \n",
      " 21  Enclosure                 412364 non-null  object        \n",
      " 22  Forks                     197715 non-null  object        \n",
      " 23  Pad_Type                  81096 non-null   object        \n",
      " 24  Ride_Control              152728 non-null  object        \n",
      " 25  Stick                     81096 non-null   object        \n",
      " 26  Transmission              188007 non-null  object        \n",
      " 27  Turbocharged              81096 non-null   object        \n",
      " 28  Blade_Extension           25983 non-null   object        \n",
      " 29  Blade_Width               25983 non-null   object        \n",
      " 30  Enclosure_Type            25983 non-null   object        \n",
      " 31  Engine_Horsepower         25983 non-null   object        \n",
      " 32  Hydraulics                330133 non-null  object        \n",
      " 33  Pushblock                 25983 non-null   object        \n",
      " 34  Ripper                    106945 non-null  object        \n",
      " 35  Scarifier                 25994 non-null   object        \n",
      " 36  Tip_Control               25983 non-null   object        \n",
      " 37  Tire_Size                 97638 non-null   object        \n",
      " 38  Coupler                   220679 non-null  object        \n",
      " 39  Coupler_System            44974 non-null   object        \n",
      " 40  Grouser_Tracks            44875 non-null   object        \n",
      " 41  Hydraulics_Flow           44875 non-null   object        \n",
      " 42  Track_Type                102193 non-null  object        \n",
      " 43  Undercarriage_Pad_Width   102916 non-null  object        \n",
      " 44  Stick_Length              102261 non-null  object        \n",
      " 45  Thumb                     102332 non-null  object        \n",
      " 46  Pattern_Changer           102261 non-null  object        \n",
      " 47  Grouser_Type              102193 non-null  object        \n",
      " 48  Backhoe_Mounting          80712 non-null   object        \n",
      " 49  Blade_Type                81875 non-null   object        \n",
      " 50  Travel_Controls           81877 non-null   object        \n",
      " 51  Differential_Type         71564 non-null   object        \n",
      " 52  Steering_Controls         71522 non-null   object        \n",
      "dtypes: datetime64[ns](1), float64(3), int64(5), object(44)\n",
      "memory usage: 166.9+ MB\n"
     ]
    }
   ],
   "source": [
    "# With parse_dates... check dtype of \"saledate\"\n",
    "df.info()"
   ]
  },
  {
   "cell_type": "code",
   "execution_count": 10,
   "metadata": {
    "ExecuteTime": {
     "end_time": "2024-03-19T19:19:42.002562Z",
     "start_time": "2024-03-19T19:19:41.810512Z"
    }
   },
   "outputs": [
    {
     "data": {
      "text/plain": "<matplotlib.collections.PathCollection at 0x743169d87250>"
     },
     "execution_count": 10,
     "metadata": {},
     "output_type": "execute_result"
    },
    {
     "data": {
      "text/plain": "<Figure size 640x480 with 1 Axes>",
      "image/png": "[encoded data removed]"
     },
     "metadata": {},
     "output_type": "display_data"
    }
   ],
   "source": [
    "_, ax = plt.subplots()\n",
    "ax.scatter(df[\"saledate\"][:1000], df[\"SalePrice\"][:1000])"
   ]
  },
  {
   "cell_type": "code",
   "execution_count": 11,
   "metadata": {
    "ExecuteTime": {
     "end_time": "2024-03-19T19:19:42.019522Z",
     "start_time": "2024-03-19T19:19:42.003463Z"
    }
   },
   "outputs": [
    {
     "data": {
      "text/plain": "   SalesID  SalePrice  MachineID  ModelID  datasource  auctioneerID  YearMade  \\\n0  1139246    66000.0     999089     3157         121           3.0      2004   \n1  1139248    57000.0     117657       77         121           3.0      1996   \n2  1139249    10000.0     434808     7009         121           3.0      2001   \n3  1139251    38500.0    1026470      332         121           3.0      2001   \n4  1139253    11000.0    1057373    17311         121           3.0      2007   \n\n   MachineHoursCurrentMeter UsageBand   saledate  ... Undercarriage_Pad_Width  \\\n0                      68.0       Low 2006-11-16  ...                     NaN   \n1                    4640.0       Low 2004-03-26  ...                     NaN   \n2                    2838.0      High 2004-02-26  ...                     NaN   \n3                    3486.0      High 2011-05-19  ...                     NaN   \n4                     722.0    Medium 2009-07-23  ...                     NaN   \n\n  Stick_Length Thumb Pattern_Changer Grouser_Type Backhoe_Mounting Blade_Type  \\\n0          NaN   NaN             NaN          NaN              NaN        NaN   \n1          NaN   NaN             NaN          NaN              NaN        NaN   \n2          NaN   NaN             NaN          NaN              NaN        NaN   \n3          NaN   NaN             NaN          NaN              NaN        NaN   \n4          NaN   NaN             NaN          NaN              NaN        NaN   \n\n  Travel_Controls Differential_Type Steering_Controls  \n0             NaN          Standard      Conventional  \n1             NaN          Standard      Conventional  \n2             NaN               NaN               NaN  \n3             NaN               NaN               NaN  \n4             NaN               NaN               NaN  \n\n[5 rows x 53 columns]",
      "text/html": "<div>\n<style scoped>\n    .dataframe tbody tr th:only-of-type {\n        vertical-align: middle;\n    }\n\n    .dataframe tbody tr th {\n        vertical-align: top;\n    }\n\n    .dataframe thead th {\n        text-align: right;\n    }\n</style>\n<table border=\"1\" class=\"dataframe\">\n  <thead>\n    <tr style=\"text-align: right;\">\n      <th></th>\n      <th>SalesID</th>\n      <th>SalePrice</th>\n      <th>MachineID</th>\n      <th>ModelID</th>\n      <th>datasource</th>\n      <th>auctioneerID</th>\n      <th>YearMade</th>\n      <th>MachineHoursCurrentMeter</th>\n      <th>UsageBand</th>\n      <th>saledate</th>\n      <th>...</th>\n      <th>Undercarriage_Pad_Width</th>\n      <th>Stick_Length</th>\n      <th>Thumb</th>\n      <th>Pattern_Changer</th>\n      <th>Grouser_Type</th>\n      <th>Backhoe_Mounting</th>\n      <th>Blade_Type</th>\n      <th>Travel_Controls</th>\n      <th>Differential_Type</th>\n      <th>Steering_Controls</th>\n    </tr>\n  </thead>\n  <tbody>\n    <tr>\n      <th>0</th>\n      <td>1139246</td>\n      <td>66000.0</td>\n      <td>999089</td>\n      <td>3157</td>\n      <td>121</td>\n      <td>3.0</td>\n      <td>2004</td>\n      <td>68.0</td>\n      <td>Low</td>\n      <td>2006-11-16</td>\n      <td>...</td>\n      <td>NaN</td>\n      <td>NaN</td>\n      <td>NaN</td>\n      <td>NaN</td>\n      <td>NaN</td>\n      <td>NaN</td>\n      <td>NaN</td>\n      <td>NaN</td>\n      <td>Standard</td>\n      <td>Conventional</td>\n    </tr>\n    <tr>\n      <th>1</th>\n      <td>1139248</td>\n      <td>57000.0</td>\n      <td>117657</td>\n      <td>77</td>\n      <td>121</td>\n      <td>3.0</td>\n      <td>1996</td>\n      <td>4640.0</td>\n      <td>Low</td>\n      <td>2004-03-26</td>\n      <td>...</td>\n      <td>NaN</td>\n      <td>NaN</td>\n      <td>NaN</td>\n      <td>NaN</td>\n      <td>NaN</td>\n      <td>NaN</td>\n      <td>NaN</td>\n      <td>NaN</td>\n      <td>Standard</td>\n      <td>Conventional</td>\n    </tr>\n    <tr>\n      <th>2</th>\n      <td>1139249</td>\n      <td>10000.0</td>\n      <td>434808</td>\n      <td>7009</td>\n      <td>121</td>\n      <td>3.0</td>\n      <td>2001</td>\n      <td>2838.0</td>\n      <td>High</td>\n      <td>2004-02-26</td>\n      <td>...</td>\n      <td>NaN</td>\n      <td>NaN</td>\n      <td>NaN</td>\n      <td>NaN</td>\n      <td>NaN</td>\n      <td>NaN</td>\n      <td>NaN</td>\n      <td>NaN</td>\n      <td>NaN</td>\n      <td>NaN</td>\n    </tr>\n    <tr>\n      <th>3</th>\n      <td>1139251</td>\n      <td>38500.0</td>\n      <td>1026470</td>\n      <td>332</td>\n      <td>121</td>\n      <td>3.0</td>\n      <td>2001</td>\n      <td>3486.0</td>\n      <td>High</td>\n      <td>2011-05-19</td>\n      <td>...</td>\n      <td>NaN</td>\n      <td>NaN</td>\n      <td>NaN</td>\n      <td>NaN</td>\n      <td>NaN</td>\n      <td>NaN</td>\n      <td>NaN</td>\n      <td>NaN</td>\n      <td>NaN</td>\n      <td>NaN</td>\n    </tr>\n    <tr>\n      <th>4</th>\n      <td>1139253</td>\n      <td>11000.0</td>\n      <td>1057373</td>\n      <td>17311</td>\n      <td>121</td>\n      <td>3.0</td>\n      <td>2007</td>\n      <td>722.0</td>\n      <td>Medium</td>\n      <td>2009-07-23</td>\n      <td>...</td>\n      <td>NaN</td>\n      <td>NaN</td>\n      <td>NaN</td>\n      <td>NaN</td>\n      <td>NaN</td>\n      <td>NaN</td>\n      <td>NaN</td>\n      <td>NaN</td>\n      <td>NaN</td>\n      <td>NaN</td>\n    </tr>\n  </tbody>\n</table>\n<p>5 rows × 53 columns</p>\n</div>"
     },
     "execution_count": 11,
     "metadata": {},
     "output_type": "execute_result"
    }
   ],
   "source": [
    "df.head()"
   ]
  },
  {
   "cell_type": "code",
   "execution_count": 12,
   "metadata": {
    "ExecuteTime": {
     "end_time": "2024-03-19T19:19:42.026911Z",
     "start_time": "2024-03-19T19:19:42.020110Z"
    }
   },
   "outputs": [
    {
     "data": {
      "text/plain": "                                                                 0  \\\nSalesID                                                    1139246   \nSalePrice                                                  66000.0   \nMachineID                                                   999089   \nModelID                                                       3157   \ndatasource                                                     121   \nauctioneerID                                                   3.0   \nYearMade                                                      2004   \nMachineHoursCurrentMeter                                      68.0   \nUsageBand                                                      Low   \nsaledate                                       2006-11-16 00:00:00   \nfiModelDesc                                                   521D   \nfiBaseModel                                                    521   \nfiSecondaryDesc                                                  D   \nfiModelSeries                                                  NaN   \nfiModelDescriptor                                              NaN   \nProductSize                                                    NaN   \nfiProductClassDesc        Wheel Loader - 110.0 to 120.0 Horsepower   \nstate                                                      Alabama   \nProductGroup                                                    WL   \nProductGroupDesc                                      Wheel Loader   \nDrive_System                                                   NaN   \nEnclosure                                               EROPS w AC   \nForks                                          None or Unspecified   \nPad_Type                                                       NaN   \nRide_Control                                   None or Unspecified   \nStick                                                          NaN   \nTransmission                                                   NaN   \nTurbocharged                                                   NaN   \nBlade_Extension                                                NaN   \nBlade_Width                                                    NaN   \nEnclosure_Type                                                 NaN   \nEngine_Horsepower                                              NaN   \nHydraulics                                                 2 Valve   \nPushblock                                                      NaN   \nRipper                                                         NaN   \nScarifier                                                      NaN   \nTip_Control                                                    NaN   \nTire_Size                                      None or Unspecified   \nCoupler                                        None or Unspecified   \nCoupler_System                                                 NaN   \nGrouser_Tracks                                                 NaN   \nHydraulics_Flow                                                NaN   \nTrack_Type                                                     NaN   \nUndercarriage_Pad_Width                                        NaN   \nStick_Length                                                   NaN   \nThumb                                                          NaN   \nPattern_Changer                                                NaN   \nGrouser_Type                                                   NaN   \nBackhoe_Mounting                                               NaN   \nBlade_Type                                                     NaN   \nTravel_Controls                                                NaN   \nDifferential_Type                                         Standard   \nSteering_Controls                                     Conventional   \n\n                                                                 1  \\\nSalesID                                                    1139248   \nSalePrice                                                  57000.0   \nMachineID                                                   117657   \nModelID                                                         77   \ndatasource                                                     121   \nauctioneerID                                                   3.0   \nYearMade                                                      1996   \nMachineHoursCurrentMeter                                    4640.0   \nUsageBand                                                      Low   \nsaledate                                       2004-03-26 00:00:00   \nfiModelDesc                                                 950FII   \nfiBaseModel                                                    950   \nfiSecondaryDesc                                                  F   \nfiModelSeries                                                   II   \nfiModelDescriptor                                              NaN   \nProductSize                                                 Medium   \nfiProductClassDesc        Wheel Loader - 150.0 to 175.0 Horsepower   \nstate                                               North Carolina   \nProductGroup                                                    WL   \nProductGroupDesc                                      Wheel Loader   \nDrive_System                                                   NaN   \nEnclosure                                               EROPS w AC   \nForks                                          None or Unspecified   \nPad_Type                                                       NaN   \nRide_Control                                   None or Unspecified   \nStick                                                          NaN   \nTransmission                                                   NaN   \nTurbocharged                                                   NaN   \nBlade_Extension                                                NaN   \nBlade_Width                                                    NaN   \nEnclosure_Type                                                 NaN   \nEngine_Horsepower                                              NaN   \nHydraulics                                                 2 Valve   \nPushblock                                                      NaN   \nRipper                                                         NaN   \nScarifier                                                      NaN   \nTip_Control                                                    NaN   \nTire_Size                                                     23.5   \nCoupler                                        None or Unspecified   \nCoupler_System                                                 NaN   \nGrouser_Tracks                                                 NaN   \nHydraulics_Flow                                                NaN   \nTrack_Type                                                     NaN   \nUndercarriage_Pad_Width                                        NaN   \nStick_Length                                                   NaN   \nThumb                                                          NaN   \nPattern_Changer                                                NaN   \nGrouser_Type                                                   NaN   \nBackhoe_Mounting                                               NaN   \nBlade_Type                                                     NaN   \nTravel_Controls                                                NaN   \nDifferential_Type                                         Standard   \nSteering_Controls                                     Conventional   \n\n                                                                          2  \\\nSalesID                                                             1139249   \nSalePrice                                                           10000.0   \nMachineID                                                            434808   \nModelID                                                                7009   \ndatasource                                                              121   \nauctioneerID                                                            3.0   \nYearMade                                                               2001   \nMachineHoursCurrentMeter                                             2838.0   \nUsageBand                                                              High   \nsaledate                                                2004-02-26 00:00:00   \nfiModelDesc                                                             226   \nfiBaseModel                                                             226   \nfiSecondaryDesc                                                         NaN   \nfiModelSeries                                                           NaN   \nfiModelDescriptor                                                       NaN   \nProductSize                                                             NaN   \nfiProductClassDesc        Skid Steer Loader - 1351.0 to 1601.0 Lb Operat...   \nstate                                                              New York   \nProductGroup                                                            SSL   \nProductGroupDesc                                         Skid Steer Loaders   \nDrive_System                                                            NaN   \nEnclosure                                                             OROPS   \nForks                                                   None or Unspecified   \nPad_Type                                                                NaN   \nRide_Control                                                            NaN   \nStick                                                                   NaN   \nTransmission                                                            NaN   \nTurbocharged                                                            NaN   \nBlade_Extension                                                         NaN   \nBlade_Width                                                             NaN   \nEnclosure_Type                                                          NaN   \nEngine_Horsepower                                                       NaN   \nHydraulics                                                        Auxiliary   \nPushblock                                                               NaN   \nRipper                                                                  NaN   \nScarifier                                                               NaN   \nTip_Control                                                             NaN   \nTire_Size                                                               NaN   \nCoupler                                                 None or Unspecified   \nCoupler_System                                          None or Unspecified   \nGrouser_Tracks                                          None or Unspecified   \nHydraulics_Flow                                                    Standard   \nTrack_Type                                                              NaN   \nUndercarriage_Pad_Width                                                 NaN   \nStick_Length                                                            NaN   \nThumb                                                                   NaN   \nPattern_Changer                                                         NaN   \nGrouser_Type                                                            NaN   \nBackhoe_Mounting                                                        NaN   \nBlade_Type                                                              NaN   \nTravel_Controls                                                         NaN   \nDifferential_Type                                                       NaN   \nSteering_Controls                                                       NaN   \n\n                                                                          3  \\\nSalesID                                                             1139251   \nSalePrice                                                           38500.0   \nMachineID                                                           1026470   \nModelID                                                                 332   \ndatasource                                                              121   \nauctioneerID                                                            3.0   \nYearMade                                                               2001   \nMachineHoursCurrentMeter                                             3486.0   \nUsageBand                                                              High   \nsaledate                                                2011-05-19 00:00:00   \nfiModelDesc                                                        PC120-6E   \nfiBaseModel                                                           PC120   \nfiSecondaryDesc                                                         NaN   \nfiModelSeries                                                           -6E   \nfiModelDescriptor                                                       NaN   \nProductSize                                                           Small   \nfiProductClassDesc        Hydraulic Excavator, Track - 12.0 to 14.0 Metr...   \nstate                                                                 Texas   \nProductGroup                                                            TEX   \nProductGroupDesc                                           Track Excavators   \nDrive_System                                                            NaN   \nEnclosure                                                        EROPS w AC   \nForks                                                                   NaN   \nPad_Type                                                                NaN   \nRide_Control                                                            NaN   \nStick                                                                   NaN   \nTransmission                                                            NaN   \nTurbocharged                                                            NaN   \nBlade_Extension                                                         NaN   \nBlade_Width                                                             NaN   \nEnclosure_Type                                                          NaN   \nEngine_Horsepower                                                       NaN   \nHydraulics                                                          2 Valve   \nPushblock                                                               NaN   \nRipper                                                                  NaN   \nScarifier                                                               NaN   \nTip_Control                                                             NaN   \nTire_Size                                                               NaN   \nCoupler                                                 None or Unspecified   \nCoupler_System                                                          NaN   \nGrouser_Tracks                                                          NaN   \nHydraulics_Flow                                                         NaN   \nTrack_Type                                                              NaN   \nUndercarriage_Pad_Width                                                 NaN   \nStick_Length                                                            NaN   \nThumb                                                                   NaN   \nPattern_Changer                                                         NaN   \nGrouser_Type                                                            NaN   \nBackhoe_Mounting                                                        NaN   \nBlade_Type                                                              NaN   \nTravel_Controls                                                         NaN   \nDifferential_Type                                                       NaN   \nSteering_Controls                                                       NaN   \n\n                                                                          4  \nSalesID                                                             1139253  \nSalePrice                                                           11000.0  \nMachineID                                                           1057373  \nModelID                                                               17311  \ndatasource                                                              121  \nauctioneerID                                                            3.0  \nYearMade                                                               2007  \nMachineHoursCurrentMeter                                              722.0  \nUsageBand                                                            Medium  \nsaledate                                                2009-07-23 00:00:00  \nfiModelDesc                                                            S175  \nfiBaseModel                                                            S175  \nfiSecondaryDesc                                                         NaN  \nfiModelSeries                                                           NaN  \nfiModelDescriptor                                                       NaN  \nProductSize                                                             NaN  \nfiProductClassDesc        Skid Steer Loader - 1601.0 to 1751.0 Lb Operat...  \nstate                                                              New York  \nProductGroup                                                            SSL  \nProductGroupDesc                                         Skid Steer Loaders  \nDrive_System                                                            NaN  \nEnclosure                                                             EROPS  \nForks                                                   None or Unspecified  \nPad_Type                                                                NaN  \nRide_Control                                                            NaN  \nStick                                                                   NaN  \nTransmission                                                            NaN  \nTurbocharged                                                            NaN  \nBlade_Extension                                                         NaN  \nBlade_Width                                                             NaN  \nEnclosure_Type                                                          NaN  \nEngine_Horsepower                                                       NaN  \nHydraulics                                                        Auxiliary  \nPushblock                                                               NaN  \nRipper                                                                  NaN  \nScarifier                                                               NaN  \nTip_Control                                                             NaN  \nTire_Size                                                               NaN  \nCoupler                                                 None or Unspecified  \nCoupler_System                                          None or Unspecified  \nGrouser_Tracks                                          None or Unspecified  \nHydraulics_Flow                                                    Standard  \nTrack_Type                                                              NaN  \nUndercarriage_Pad_Width                                                 NaN  \nStick_Length                                                            NaN  \nThumb                                                                   NaN  \nPattern_Changer                                                         NaN  \nGrouser_Type                                                            NaN  \nBackhoe_Mounting                                                        NaN  \nBlade_Type                                                              NaN  \nTravel_Controls                                                         NaN  \nDifferential_Type                                                       NaN  \nSteering_Controls                                                       NaN  ",
      "text/html": "<div>\n<style scoped>\n    .dataframe tbody tr th:only-of-type {\n        vertical-align: middle;\n    }\n\n    .dataframe tbody tr th {\n        vertical-align: top;\n    }\n\n    .dataframe thead th {\n        text-align: right;\n    }\n</style>\n<table border=\"1\" class=\"dataframe\">\n  <thead>\n    <tr style=\"text-align: right;\">\n      <th></th>\n      <th>0</th>\n      <th>1</th>\n      <th>2</th>\n      <th>3</th>\n      <th>4</th>\n    </tr>\n  </thead>\n  <tbody>\n    <tr>\n      <th>SalesID</th>\n      <td>1139246</td>\n      <td>1139248</td>\n      <td>1139249</td>\n      <td>1139251</td>\n      <td>1139253</td>\n    </tr>\n    <tr>\n      <th>SalePrice</th>\n      <td>66000.0</td>\n      <td>57000.0</td>\n      <td>10000.0</td>\n      <td>38500.0</td>\n      <td>11000.0</td>\n    </tr>\n    <tr>\n      <th>MachineID</th>\n      <td>999089</td>\n      <td>117657</td>\n      <td>434808</td>\n      <td>1026470</td>\n      <td>1057373</td>\n    </tr>\n    <tr>\n      <th>ModelID</th>\n      <td>3157</td>\n      <td>77</td>\n      <td>7009</td>\n      <td>332</td>\n      <td>17311</td>\n    </tr>\n    <tr>\n      <th>datasource</th>\n      <td>121</td>\n      <td>121</td>\n      <td>121</td>\n      <td>121</td>\n      <td>121</td>\n    </tr>\n    <tr>\n      <th>auctioneerID</th>\n      <td>3.0</td>\n      <td>3.0</td>\n      <td>3.0</td>\n      <td>3.0</td>\n      <td>3.0</td>\n    </tr>\n    <tr>\n      <th>YearMade</th>\n      <td>2004</td>\n      <td>1996</td>\n      <td>2001</td>\n      <td>2001</td>\n      <td>2007</td>\n    </tr>\n    <tr>\n      <th>MachineHoursCurrentMeter</th>\n      <td>68.0</td>\n      <td>4640.0</td>\n      <td>2838.0</td>\n      <td>3486.0</td>\n      <td>722.0</td>\n    </tr>\n    <tr>\n      <th>UsageBand</th>\n      <td>Low</td>\n      <td>Low</td>\n      <td>High</td>\n      <td>High</td>\n      <td>Medium</td>\n    </tr>\n    <tr>\n      <th>saledate</th>\n      <td>2006-11-16 00:00:00</td>\n      <td>2004-03-26 00:00:00</td>\n      <td>2004-02-26 00:00:00</td>\n      <td>2011-05-19 00:00:00</td>\n      <td>2009-07-23 00:00:00</td>\n    </tr>\n    <tr>\n      <th>fiModelDesc</th>\n      <td>521D</td>\n      <td>950FII</td>\n      <td>226</td>\n      <td>PC120-6E</td>\n      <td>S175</td>\n    </tr>\n    <tr>\n      <th>fiBaseModel</th>\n      <td>521</td>\n      <td>950</td>\n      <td>226</td>\n      <td>PC120</td>\n      <td>S175</td>\n    </tr>\n    <tr>\n      <th>fiSecondaryDesc</th>\n      <td>D</td>\n      <td>F</td>\n      <td>NaN</td>\n      <td>NaN</td>\n      <td>NaN</td>\n    </tr>\n    <tr>\n      <th>fiModelSeries</th>\n      <td>NaN</td>\n      <td>II</td>\n      <td>NaN</td>\n      <td>-6E</td>\n      <td>NaN</td>\n    </tr>\n    <tr>\n      <th>fiModelDescriptor</th>\n      <td>NaN</td>\n      <td>NaN</td>\n      <td>NaN</td>\n      <td>NaN</td>\n      <td>NaN</td>\n    </tr>\n    <tr>\n      <th>ProductSize</th>\n      <td>NaN</td>\n      <td>Medium</td>\n      <td>NaN</td>\n      <td>Small</td>\n      <td>NaN</td>\n    </tr>\n    <tr>\n      <th>fiProductClassDesc</th>\n      <td>Wheel Loader - 110.0 to 120.0 Horsepower</td>\n      <td>Wheel Loader - 150.0 to 175.0 Horsepower</td>\n      <td>Skid Steer Loader - 1351.0 to 1601.0 Lb Operat...</td>\n      <td>Hydraulic Excavator, Track - 12.0 to 14.0 Metr...</td>\n      <td>Skid Steer Loader - 1601.0 to 1751.0 Lb Operat...</td>\n    </tr>\n    <tr>\n      <th>state</th>\n      <td>Alabama</td>\n      <td>North Carolina</td>\n      <td>New York</td>\n      <td>Texas</td>\n      <td>New York</td>\n    </tr>\n    <tr>\n      <th>ProductGroup</th>\n      <td>WL</td>\n      <td>WL</td>\n      <td>SSL</td>\n      <td>TEX</td>\n      <td>SSL</td>\n    </tr>\n    <tr>\n      <th>ProductGroupDesc</th>\n      <td>Wheel Loader</td>\n      <td>Wheel Loader</td>\n      <td>Skid Steer Loaders</td>\n      <td>Track Excavators</td>\n      <td>Skid Steer Loaders</td>\n    </tr>\n    <tr>\n      <th>Drive_System</th>\n      <td>NaN</td>\n      <td>NaN</td>\n      <td>NaN</td>\n      <td>NaN</td>\n      <td>NaN</td>\n    </tr>\n    <tr>\n      <th>Enclosure</th>\n      <td>EROPS w AC</td>\n      <td>EROPS w AC</td>\n      <td>OROPS</td>\n      <td>EROPS w AC</td>\n      <td>EROPS</td>\n    </tr>\n    <tr>\n      <th>Forks</th>\n      <td>None or Unspecified</td>\n      <td>None or Unspecified</td>\n      <td>None or Unspecified</td>\n      <td>NaN</td>\n      <td>None or Unspecified</td>\n    </tr>\n    <tr>\n      <th>Pad_Type</th>\n      <td>NaN</td>\n      <td>NaN</td>\n      <td>NaN</td>\n      <td>NaN</td>\n      <td>NaN</td>\n    </tr>\n    <tr>\n      <th>Ride_Control</th>\n      <td>None or Unspecified</td>\n      <td>None or Unspecified</td>\n      <td>NaN</td>\n      <td>NaN</td>\n      <td>NaN</td>\n    </tr>\n    <tr>\n      <th>Stick</th>\n      <td>NaN</td>\n      <td>NaN</td>\n      <td>NaN</td>\n      <td>NaN</td>\n      <td>NaN</td>\n    </tr>\n    <tr>\n      <th>Transmission</th>\n      <td>NaN</td>\n      <td>NaN</td>\n      <td>NaN</td>\n      <td>NaN</td>\n      <td>NaN</td>\n    </tr>\n    <tr>\n      <th>Turbocharged</th>\n      <td>NaN</td>\n      <td>NaN</td>\n      <td>NaN</td>\n      <td>NaN</td>\n      <td>NaN</td>\n    </tr>\n    <tr>\n      <th>Blade_Extension</th>\n      <td>NaN</td>\n      <td>NaN</td>\n      <td>NaN</td>\n      <td>NaN</td>\n      <td>NaN</td>\n    </tr>\n    <tr>\n      <th>Blade_Width</th>\n      <td>NaN</td>\n      <td>NaN</td>\n      <td>NaN</td>\n      <td>NaN</td>\n      <td>NaN</td>\n    </tr>\n    <tr>\n      <th>Enclosure_Type</th>\n      <td>NaN</td>\n      <td>NaN</td>\n      <td>NaN</td>\n      <td>NaN</td>\n      <td>NaN</td>\n    </tr>\n    <tr>\n      <th>Engine_Horsepower</th>\n      <td>NaN</td>\n      <td>NaN</td>\n      <td>NaN</td>\n      <td>NaN</td>\n      <td>NaN</td>\n    </tr>\n    <tr>\n      <th>Hydraulics</th>\n      <td>2 Valve</td>\n      <td>2 Valve</td>\n      <td>Auxiliary</td>\n      <td>2 Valve</td>\n      <td>Auxiliary</td>\n    </tr>\n    <tr>\n      <th>Pushblock</th>\n      <td>NaN</td>\n      <td>NaN</td>\n      <td>NaN</td>\n      <td>NaN</td>\n      <td>NaN</td>\n    </tr>\n    <tr>\n      <th>Ripper</th>\n      <td>NaN</td>\n      <td>NaN</td>\n      <td>NaN</td>\n      <td>NaN</td>\n      <td>NaN</td>\n    </tr>\n    <tr>\n      <th>Scarifier</th>\n      <td>NaN</td>\n      <td>NaN</td>\n      <td>NaN</td>\n      <td>NaN</td>\n      <td>NaN</td>\n    </tr>\n    <tr>\n      <th>Tip_Control</th>\n      <td>NaN</td>\n      <td>NaN</td>\n      <td>NaN</td>\n      <td>NaN</td>\n      <td>NaN</td>\n    </tr>\n    <tr>\n      <th>Tire_Size</th>\n      <td>None or Unspecified</td>\n      <td>23.5</td>\n      <td>NaN</td>\n      <td>NaN</td>\n      <td>NaN</td>\n    </tr>\n    <tr>\n      <th>Coupler</th>\n      <td>None or Unspecified</td>\n      <td>None or Unspecified</td>\n      <td>None or Unspecified</td>\n      <td>None or Unspecified</td>\n      <td>None or Unspecified</td>\n    </tr>\n    <tr>\n      <th>Coupler_System</th>\n      <td>NaN</td>\n      <td>NaN</td>\n      <td>None or Unspecified</td>\n      <td>NaN</td>\n      <td>None or Unspecified</td>\n    </tr>\n    <tr>\n      <th>Grouser_Tracks</th>\n      <td>NaN</td>\n      <td>NaN</td>\n      <td>None or Unspecified</td>\n      <td>NaN</td>\n      <td>None or Unspecified</td>\n    </tr>\n    <tr>\n      <th>Hydraulics_Flow</th>\n      <td>NaN</td>\n      <td>NaN</td>\n      <td>Standard</td>\n      <td>NaN</td>\n      <td>Standard</td>\n    </tr>\n    <tr>\n      <th>Track_Type</th>\n      <td>NaN</td>\n      <td>NaN</td>\n      <td>NaN</td>\n      <td>NaN</td>\n      <td>NaN</td>\n    </tr>\n    <tr>\n      <th>Undercarriage_Pad_Width</th>\n      <td>NaN</td>\n      <td>NaN</td>\n      <td>NaN</td>\n      <td>NaN</td>\n      <td>NaN</td>\n    </tr>\n    <tr>\n      <th>Stick_Length</th>\n      <td>NaN</td>\n      <td>NaN</td>\n      <td>NaN</td>\n      <td>NaN</td>\n      <td>NaN</td>\n    </tr>\n    <tr>\n      <th>Thumb</th>\n      <td>NaN</td>\n      <td>NaN</td>\n      <td>NaN</td>\n      <td>NaN</td>\n      <td>NaN</td>\n    </tr>\n    <tr>\n      <th>Pattern_Changer</th>\n      <td>NaN</td>\n      <td>NaN</td>\n      <td>NaN</td>\n      <td>NaN</td>\n      <td>NaN</td>\n    </tr>\n    <tr>\n      <th>Grouser_Type</th>\n      <td>NaN</td>\n      <td>NaN</td>\n      <td>NaN</td>\n      <td>NaN</td>\n      <td>NaN</td>\n    </tr>\n    <tr>\n      <th>Backhoe_Mounting</th>\n      <td>NaN</td>\n      <td>NaN</td>\n      <td>NaN</td>\n      <td>NaN</td>\n      <td>NaN</td>\n    </tr>\n    <tr>\n      <th>Blade_Type</th>\n      <td>NaN</td>\n      <td>NaN</td>\n      <td>NaN</td>\n      <td>NaN</td>\n      <td>NaN</td>\n    </tr>\n    <tr>\n      <th>Travel_Controls</th>\n      <td>NaN</td>\n      <td>NaN</td>\n      <td>NaN</td>\n      <td>NaN</td>\n      <td>NaN</td>\n    </tr>\n    <tr>\n      <th>Differential_Type</th>\n      <td>Standard</td>\n      <td>Standard</td>\n      <td>NaN</td>\n      <td>NaN</td>\n      <td>NaN</td>\n    </tr>\n    <tr>\n      <th>Steering_Controls</th>\n      <td>Conventional</td>\n      <td>Conventional</td>\n      <td>NaN</td>\n      <td>NaN</td>\n      <td>NaN</td>\n    </tr>\n  </tbody>\n</table>\n</div>"
     },
     "execution_count": 12,
     "metadata": {},
     "output_type": "execute_result"
    }
   ],
   "source": [
    "df.head().T"
   ]
  },
  {
   "cell_type": "code",
   "execution_count": 13,
   "metadata": {
    "ExecuteTime": {
     "end_time": "2024-03-19T19:19:42.031095Z",
     "start_time": "2024-03-19T19:19:42.028290Z"
    }
   },
   "outputs": [
    {
     "data": {
      "text/plain": "0    2006-11-16\n1    2004-03-26\n2    2004-02-26\n3    2011-05-19\n4    2009-07-23\n5    2008-12-18\n6    2004-08-26\n7    2005-11-17\n8    2009-08-27\n9    2007-08-09\n10   2008-08-21\n11   2006-08-24\n12   2005-10-20\n13   2006-01-26\n14   2006-01-03\n15   2006-11-16\n16   2007-06-14\n17   2010-01-28\n18   2006-03-09\n19   2005-11-17\nName: saledate, dtype: datetime64[ns]"
     },
     "execution_count": 13,
     "metadata": {},
     "output_type": "execute_result"
    }
   ],
   "source": [
    "df.saledate.head(20)"
   ]
  },
  {
   "cell_type": "markdown",
   "metadata": {},
   "source": [
    "### Sort DataFrame by saledate\n",
    "\n",
    "As we're working on a time series problem and trying to predict future examples given past examples, it makes sense to sort our data by date."
   ]
  },
  {
   "cell_type": "code",
   "execution_count": 14,
   "metadata": {
    "ExecuteTime": {
     "end_time": "2024-03-19T19:19:42.240384Z",
     "start_time": "2024-03-19T19:19:42.031946Z"
    }
   },
   "outputs": [
    {
     "data": {
      "text/plain": "205615   1989-01-17\n274835   1989-01-31\n141296   1989-01-31\n212552   1989-01-31\n62755    1989-01-31\n54653    1989-01-31\n81383    1989-01-31\n204924   1989-01-31\n135376   1989-01-31\n113390   1989-01-31\n113394   1989-01-31\n116419   1989-01-31\n32138    1989-01-31\n127610   1989-01-31\n76171    1989-01-31\n127000   1989-01-31\n128130   1989-01-31\n127626   1989-01-31\n55455    1989-01-31\n55454    1989-01-31\nName: saledate, dtype: datetime64[ns]"
     },
     "execution_count": 14,
     "metadata": {},
     "output_type": "execute_result"
    }
   ],
   "source": [
    "# Sort DataFrame in date order\n",
    "df.sort_values(by=[\"saledate\"], inplace=True, ascending=True)\n",
    "df.saledate.head(20)"
   ]
  },
  {
   "cell_type": "markdown",
   "metadata": {},
   "source": [
    "### Make a copy of the original DataFrame\n",
    "\n",
    "Since we're going to be manipulating the data, we'll make a copy of the original DataFrame and perform our changes there.\n",
    "\n",
    "This will keep the original DataFrame in tact if we need it again."
   ]
  },
  {
   "cell_type": "code",
   "execution_count": 15,
   "metadata": {
    "ExecuteTime": {
     "end_time": "2024-03-19T19:19:42.317405Z",
     "start_time": "2024-03-19T19:19:42.240983Z"
    }
   },
   "outputs": [],
   "source": [
    "# Make a copy of the original DataFrame to perform edits on\n",
    "df_tmp = df.copy()"
   ]
  },
  {
   "cell_type": "markdown",
   "metadata": {},
   "source": [
    "### Add datetime parameters for saledate column\n",
    "\n",
    "Why?\n",
    "\n",
    "So we can enrich our dataset with as much information as possible.\n",
    "\n",
    "Because we imported the data using `read_csv()` and we asked pandas to parse the dates using `parase_dates=[\"saledate\"]`, we can now access the [different datetime attributes](https://pandas.pydata.org/pandas-docs/stable/reference/api/pandas.DatetimeIndex.html) of the `saledate` column."
   ]
  },
  {
   "cell_type": "code",
   "execution_count": 16,
   "metadata": {
    "ExecuteTime": {
     "end_time": "2024-03-19T19:19:42.468189Z",
     "start_time": "2024-03-19T19:19:42.318062Z"
    }
   },
   "outputs": [],
   "source": [
    "# Add datetime parameters for saledate\n",
    "df_tmp[\"saleYear\"] = df_tmp.saledate.dt.year\n",
    "df_tmp[\"saleMonth\"] = df_tmp.saledate.dt.month\n",
    "df_tmp[\"saleDay\"] = df_tmp.saledate.dt.day\n",
    "df_tmp[\"saleDayofweek\"] = df_tmp.saledate.dt.dayofweek\n",
    "df_tmp[\"saleDayofyear\"] = df_tmp.saledate.dt.dayofyear\n",
    "\n",
    "# Drop original saledate\n",
    "df_tmp.drop(\"saledate\", axis=1, inplace=True)"
   ]
  },
  {
   "cell_type": "markdown",
   "metadata": {},
   "source": [
    "We could add more of these styles of columns, such as, whether it was the start or end of a quarter but these will do for now.\n",
    "\n",
    "**Challenge:** See what other [datetime attributes](https://pandas.pydata.org/pandas-docs/stable/reference/api/pandas.DatetimeIndex.html) you can add to `df_tmp` using a similar technique to what we've used above. Hint: check the bottom of the pandas.DatetimeIndex docs."
   ]
  },
  {
   "cell_type": "code",
   "execution_count": 17,
   "metadata": {
    "ExecuteTime": {
     "end_time": "2024-03-19T19:19:42.475662Z",
     "start_time": "2024-03-19T19:19:42.468839Z"
    }
   },
   "outputs": [
    {
     "data": {
      "text/plain": "                                                                     205615  \\\nSalesID                                                             1646770   \nSalePrice                                                            9500.0   \nMachineID                                                           1126363   \nModelID                                                                8434   \ndatasource                                                              132   \nauctioneerID                                                           18.0   \nYearMade                                                               1974   \nMachineHoursCurrentMeter                                                NaN   \nUsageBand                                                               NaN   \nfiModelDesc                                                            TD20   \nfiBaseModel                                                            TD20   \nfiSecondaryDesc                                                         NaN   \nfiModelSeries                                                           NaN   \nfiModelDescriptor                                                       NaN   \nProductSize                                                          Medium   \nfiProductClassDesc        Track Type Tractor, Dozer - 105.0 to 130.0 Hor...   \nstate                                                                 Texas   \nProductGroup                                                            TTT   \nProductGroupDesc                                        Track Type Tractors   \nDrive_System                                                            NaN   \nEnclosure                                                             OROPS   \nForks                                                                   NaN   \nPad_Type                                                                NaN   \nRide_Control                                                            NaN   \nStick                                                                   NaN   \nTransmission                                                   Direct Drive   \nTurbocharged                                                            NaN   \nBlade_Extension                                                         NaN   \nBlade_Width                                                             NaN   \nEnclosure_Type                                                          NaN   \nEngine_Horsepower                                                       NaN   \nHydraulics                                                          2 Valve   \nPushblock                                                               NaN   \nRipper                                                  None or Unspecified   \nScarifier                                                               NaN   \nTip_Control                                                             NaN   \nTire_Size                                                               NaN   \nCoupler                                                                 NaN   \nCoupler_System                                                          NaN   \nGrouser_Tracks                                                          NaN   \nHydraulics_Flow                                                         NaN   \nTrack_Type                                                              NaN   \nUndercarriage_Pad_Width                                                 NaN   \nStick_Length                                                            NaN   \nThumb                                                                   NaN   \nPattern_Changer                                                         NaN   \nGrouser_Type                                                            NaN   \nBackhoe_Mounting                                        None or Unspecified   \nBlade_Type                                                         Straight   \nTravel_Controls                                         None or Unspecified   \nDifferential_Type                                                       NaN   \nSteering_Controls                                                       NaN   \nsaleYear                                                               1989   \nsaleMonth                                                                 1   \nsaleDay                                                                  17   \nsaleDayofweek                                                             1   \nsaleDayofyear                                                            17   \n\n                                                            274835  \\\nSalesID                                                    1821514   \nSalePrice                                                  14000.0   \nMachineID                                                  1194089   \nModelID                                                      10150   \ndatasource                                                     132   \nauctioneerID                                                  99.0   \nYearMade                                                      1980   \nMachineHoursCurrentMeter                                       NaN   \nUsageBand                                                      NaN   \nfiModelDesc                                                    A66   \nfiBaseModel                                                    A66   \nfiSecondaryDesc                                                NaN   \nfiModelSeries                                                  NaN   \nfiModelDescriptor                                              NaN   \nProductSize                                                    NaN   \nfiProductClassDesc        Wheel Loader - 120.0 to 135.0 Horsepower   \nstate                                                      Florida   \nProductGroup                                                    WL   \nProductGroupDesc                                      Wheel Loader   \nDrive_System                                                   NaN   \nEnclosure                                                    OROPS   \nForks                                          None or Unspecified   \nPad_Type                                                       NaN   \nRide_Control                                   None or Unspecified   \nStick                                                          NaN   \nTransmission                                                   NaN   \nTurbocharged                                                   NaN   \nBlade_Extension                                                NaN   \nBlade_Width                                                    NaN   \nEnclosure_Type                                                 NaN   \nEngine_Horsepower                                              NaN   \nHydraulics                                                 2 Valve   \nPushblock                                                      NaN   \nRipper                                                         NaN   \nScarifier                                                      NaN   \nTip_Control                                                    NaN   \nTire_Size                                      None or Unspecified   \nCoupler                                        None or Unspecified   \nCoupler_System                                                 NaN   \nGrouser_Tracks                                                 NaN   \nHydraulics_Flow                                                NaN   \nTrack_Type                                                     NaN   \nUndercarriage_Pad_Width                                        NaN   \nStick_Length                                                   NaN   \nThumb                                                          NaN   \nPattern_Changer                                                NaN   \nGrouser_Type                                                   NaN   \nBackhoe_Mounting                                               NaN   \nBlade_Type                                                     NaN   \nTravel_Controls                                                NaN   \nDifferential_Type                                         Standard   \nSteering_Controls                                     Conventional   \nsaleYear                                                      1989   \nsaleMonth                                                        1   \nsaleDay                                                         31   \nsaleDayofweek                                                    1   \nsaleDayofyear                                                   31   \n\n                                                                     141296  \\\nSalesID                                                             1505138   \nSalePrice                                                           50000.0   \nMachineID                                                           1473654   \nModelID                                                                4139   \ndatasource                                                              132   \nauctioneerID                                                           99.0   \nYearMade                                                               1978   \nMachineHoursCurrentMeter                                                NaN   \nUsageBand                                                               NaN   \nfiModelDesc                                                             D7G   \nfiBaseModel                                                              D7   \nfiSecondaryDesc                                                           G   \nfiModelSeries                                                           NaN   \nfiModelDescriptor                                                       NaN   \nProductSize                                                           Large   \nfiProductClassDesc        Track Type Tractor, Dozer - 190.0 to 260.0 Hor...   \nstate                                                               Florida   \nProductGroup                                                            TTT   \nProductGroupDesc                                        Track Type Tractors   \nDrive_System                                                            NaN   \nEnclosure                                                             OROPS   \nForks                                                                   NaN   \nPad_Type                                                                NaN   \nRide_Control                                                            NaN   \nStick                                                                   NaN   \nTransmission                                                       Standard   \nTurbocharged                                                            NaN   \nBlade_Extension                                                         NaN   \nBlade_Width                                                             NaN   \nEnclosure_Type                                                          NaN   \nEngine_Horsepower                                                       NaN   \nHydraulics                                                          2 Valve   \nPushblock                                                               NaN   \nRipper                                                  None or Unspecified   \nScarifier                                                               NaN   \nTip_Control                                                             NaN   \nTire_Size                                                               NaN   \nCoupler                                                                 NaN   \nCoupler_System                                                          NaN   \nGrouser_Tracks                                                          NaN   \nHydraulics_Flow                                                         NaN   \nTrack_Type                                                              NaN   \nUndercarriage_Pad_Width                                                 NaN   \nStick_Length                                                            NaN   \nThumb                                                                   NaN   \nPattern_Changer                                                         NaN   \nGrouser_Type                                                            NaN   \nBackhoe_Mounting                                        None or Unspecified   \nBlade_Type                                                         Straight   \nTravel_Controls                                         None or Unspecified   \nDifferential_Type                                                       NaN   \nSteering_Controls                                                       NaN   \nsaleYear                                                               1989   \nsaleMonth                                                                 1   \nsaleDay                                                                  31   \nsaleDayofweek                                                             1   \nsaleDayofyear                                                            31   \n\n                                               212552  \\\nSalesID                                       1671174   \nSalePrice                                     16000.0   \nMachineID                                     1327630   \nModelID                                          8591   \ndatasource                                        132   \nauctioneerID                                     99.0   \nYearMade                                         1980   \nMachineHoursCurrentMeter                          NaN   \nUsageBand                                         NaN   \nfiModelDesc                                       A62   \nfiBaseModel                                       A62   \nfiSecondaryDesc                                   NaN   \nfiModelSeries                                     NaN   \nfiModelDescriptor                                 NaN   \nProductSize                                       NaN   \nfiProductClassDesc        Wheel Loader - Unidentified   \nstate                                         Florida   \nProductGroup                                       WL   \nProductGroupDesc                         Wheel Loader   \nDrive_System                                      NaN   \nEnclosure                                       EROPS   \nForks                             None or Unspecified   \nPad_Type                                          NaN   \nRide_Control                      None or Unspecified   \nStick                                             NaN   \nTransmission                                      NaN   \nTurbocharged                                      NaN   \nBlade_Extension                                   NaN   \nBlade_Width                                       NaN   \nEnclosure_Type                                    NaN   \nEngine_Horsepower                                 NaN   \nHydraulics                                    2 Valve   \nPushblock                                         NaN   \nRipper                                            NaN   \nScarifier                                         NaN   \nTip_Control                                       NaN   \nTire_Size                         None or Unspecified   \nCoupler                           None or Unspecified   \nCoupler_System                                    NaN   \nGrouser_Tracks                                    NaN   \nHydraulics_Flow                                   NaN   \nTrack_Type                                        NaN   \nUndercarriage_Pad_Width                           NaN   \nStick_Length                                      NaN   \nThumb                                             NaN   \nPattern_Changer                                   NaN   \nGrouser_Type                                      NaN   \nBackhoe_Mounting                                  NaN   \nBlade_Type                                        NaN   \nTravel_Controls                                   NaN   \nDifferential_Type                            Standard   \nSteering_Controls                        Conventional   \nsaleYear                                         1989   \nsaleMonth                                           1   \nsaleDay                                            31   \nsaleDayofweek                                       1   \nsaleDayofyear                                      31   \n\n                                                                     62755   \nSalesID                                                             1329056  \nSalePrice                                                           22000.0  \nMachineID                                                           1336053  \nModelID                                                                4089  \ndatasource                                                              132  \nauctioneerID                                                           99.0  \nYearMade                                                               1984  \nMachineHoursCurrentMeter                                                NaN  \nUsageBand                                                               NaN  \nfiModelDesc                                                             D3B  \nfiBaseModel                                                              D3  \nfiSecondaryDesc                                                           B  \nfiModelSeries                                                           NaN  \nfiModelDescriptor                                                       NaN  \nProductSize                                                             NaN  \nfiProductClassDesc        Track Type Tractor, Dozer - 20.0 to 75.0 Horse...  \nstate                                                               Florida  \nProductGroup                                                            TTT  \nProductGroupDesc                                        Track Type Tractors  \nDrive_System                                                            NaN  \nEnclosure                                                             OROPS  \nForks                                                                   NaN  \nPad_Type                                                                NaN  \nRide_Control                                                            NaN  \nStick                                                                   NaN  \nTransmission                                                       Standard  \nTurbocharged                                                            NaN  \nBlade_Extension                                                         NaN  \nBlade_Width                                                             NaN  \nEnclosure_Type                                                          NaN  \nEngine_Horsepower                                                       NaN  \nHydraulics                                                          2 Valve  \nPushblock                                                               NaN  \nRipper                                                  None or Unspecified  \nScarifier                                                               NaN  \nTip_Control                                                             NaN  \nTire_Size                                                               NaN  \nCoupler                                                                 NaN  \nCoupler_System                                                          NaN  \nGrouser_Tracks                                                          NaN  \nHydraulics_Flow                                                         NaN  \nTrack_Type                                                              NaN  \nUndercarriage_Pad_Width                                                 NaN  \nStick_Length                                                            NaN  \nThumb                                                                   NaN  \nPattern_Changer                                                         NaN  \nGrouser_Type                                                            NaN  \nBackhoe_Mounting                                        None or Unspecified  \nBlade_Type                                                              PAT  \nTravel_Controls                                                       Lever  \nDifferential_Type                                                       NaN  \nSteering_Controls                                                       NaN  \nsaleYear                                                               1989  \nsaleMonth                                                                 1  \nsaleDay                                                                  31  \nsaleDayofweek                                                             1  \nsaleDayofyear                                                            31  ",
      "text/html": "<div>\n<style scoped>\n    .dataframe tbody tr th:only-of-type {\n        vertical-align: middle;\n    }\n\n    .dataframe tbody tr th {\n        vertical-align: top;\n    }\n\n    .dataframe thead th {\n        text-align: right;\n    }\n</style>\n<table border=\"1\" class=\"dataframe\">\n  <thead>\n    <tr style=\"text-align: right;\">\n      <th></th>\n      <th>205615</th>\n      <th>274835</th>\n      <th>141296</th>\n      <th>212552</th>\n      <th>62755</th>\n    </tr>\n  </thead>\n  <tbody>\n    <tr>\n      <th>SalesID</th>\n      <td>1646770</td>\n      <td>1821514</td>\n      <td>1505138</td>\n      <td>1671174</td>\n      <td>1329056</td>\n    </tr>\n    <tr>\n      <th>SalePrice</th>\n      <td>9500.0</td>\n      <td>14000.0</td>\n      <td>50000.0</td>\n      <td>16000.0</td>\n      <td>22000.0</td>\n    </tr>\n    <tr>\n      <th>MachineID</th>\n      <td>1126363</td>\n      <td>1194089</td>\n      <td>1473654</td>\n      <td>1327630</td>\n      <td>1336053</td>\n    </tr>\n    <tr>\n      <th>ModelID</th>\n      <td>8434</td>\n      <td>10150</td>\n      <td>4139</td>\n      <td>8591</td>\n      <td>4089</td>\n    </tr>\n    <tr>\n      <th>datasource</th>\n      <td>132</td>\n      <td>132</td>\n      <td>132</td>\n      <td>132</td>\n      <td>132</td>\n    </tr>\n    <tr>\n      <th>auctioneerID</th>\n      <td>18.0</td>\n      <td>99.0</td>\n      <td>99.0</td>\n      <td>99.0</td>\n      <td>99.0</td>\n    </tr>\n    <tr>\n      <th>YearMade</th>\n      <td>1974</td>\n      <td>1980</td>\n      <td>1978</td>\n      <td>1980</td>\n      <td>1984</td>\n    </tr>\n    <tr>\n      <th>MachineHoursCurrentMeter</th>\n      <td>NaN</td>\n      <td>NaN</td>\n      <td>NaN</td>\n      <td>NaN</td>\n      <td>NaN</td>\n    </tr>\n    <tr>\n      <th>UsageBand</th>\n      <td>NaN</td>\n      <td>NaN</td>\n      <td>NaN</td>\n      <td>NaN</td>\n      <td>NaN</td>\n    </tr>\n    <tr>\n      <th>fiModelDesc</th>\n      <td>TD20</td>\n      <td>A66</td>\n      <td>D7G</td>\n      <td>A62</td>\n      <td>D3B</td>\n    </tr>\n    <tr>\n      <th>fiBaseModel</th>\n      <td>TD20</td>\n      <td>A66</td>\n      <td>D7</td>\n      <td>A62</td>\n      <td>D3</td>\n    </tr>\n    <tr>\n      <th>fiSecondaryDesc</th>\n      <td>NaN</td>\n      <td>NaN</td>\n      <td>G</td>\n      <td>NaN</td>\n      <td>B</td>\n    </tr>\n    <tr>\n      <th>fiModelSeries</th>\n      <td>NaN</td>\n      <td>NaN</td>\n      <td>NaN</td>\n      <td>NaN</td>\n      <td>NaN</td>\n    </tr>\n    <tr>\n      <th>fiModelDescriptor</th>\n      <td>NaN</td>\n      <td>NaN</td>\n      <td>NaN</td>\n      <td>NaN</td>\n      <td>NaN</td>\n    </tr>\n    <tr>\n      <th>ProductSize</th>\n      <td>Medium</td>\n      <td>NaN</td>\n      <td>Large</td>\n      <td>NaN</td>\n      <td>NaN</td>\n    </tr>\n    <tr>\n      <th>fiProductClassDesc</th>\n      <td>Track Type Tractor, Dozer - 105.0 to 130.0 Hor...</td>\n      <td>Wheel Loader - 120.0 to 135.0 Horsepower</td>\n      <td>Track Type Tractor, Dozer - 190.0 to 260.0 Hor...</td>\n      <td>Wheel Loader - Unidentified</td>\n      <td>Track Type Tractor, Dozer - 20.0 to 75.0 Horse...</td>\n    </tr>\n    <tr>\n      <th>state</th>\n      <td>Texas</td>\n      <td>Florida</td>\n      <td>Florida</td>\n      <td>Florida</td>\n      <td>Florida</td>\n    </tr>\n    <tr>\n      <th>ProductGroup</th>\n      <td>TTT</td>\n      <td>WL</td>\n      <td>TTT</td>\n      <td>WL</td>\n      <td>TTT</td>\n    </tr>\n    <tr>\n      <th>ProductGroupDesc</th>\n      <td>Track Type Tractors</td>\n      <td>Wheel Loader</td>\n      <td>Track Type Tractors</td>\n      <td>Wheel Loader</td>\n      <td>Track Type Tractors</td>\n    </tr>\n    <tr>\n      <th>Drive_System</th>\n      <td>NaN</td>\n      <td>NaN</td>\n      <td>NaN</td>\n      <td>NaN</td>\n      <td>NaN</td>\n    </tr>\n    <tr>\n      <th>Enclosure</th>\n      <td>OROPS</td>\n      <td>OROPS</td>\n      <td>OROPS</td>\n      <td>EROPS</td>\n      <td>OROPS</td>\n    </tr>\n    <tr>\n      <th>Forks</th>\n      <td>NaN</td>\n      <td>None or Unspecified</td>\n      <td>NaN</td>\n      <td>None or Unspecified</td>\n      <td>NaN</td>\n    </tr>\n    <tr>\n      <th>Pad_Type</th>\n      <td>NaN</td>\n      <td>NaN</td>\n      <td>NaN</td>\n      <td>NaN</td>\n      <td>NaN</td>\n    </tr>\n    <tr>\n      <th>Ride_Control</th>\n      <td>NaN</td>\n      <td>None or Unspecified</td>\n      <td>NaN</td>\n      <td>None or Unspecified</td>\n      <td>NaN</td>\n    </tr>\n    <tr>\n      <th>Stick</th>\n      <td>NaN</td>\n      <td>NaN</td>\n      <td>NaN</td>\n      <td>NaN</td>\n      <td>NaN</td>\n    </tr>\n    <tr>\n      <th>Transmission</th>\n      <td>Direct Drive</td>\n      <td>NaN</td>\n      <td>Standard</td>\n      <td>NaN</td>\n      <td>Standard</td>\n    </tr>\n    <tr>\n      <th>Turbocharged</th>\n      <td>NaN</td>\n      <td>NaN</td>\n      <td>NaN</td>\n      <td>NaN</td>\n      <td>NaN</td>\n    </tr>\n    <tr>\n      <th>Blade_Extension</th>\n      <td>NaN</td>\n      <td>NaN</td>\n      <td>NaN</td>\n      <td>NaN</td>\n      <td>NaN</td>\n    </tr>\n    <tr>\n      <th>Blade_Width</th>\n      <td>NaN</td>\n      <td>NaN</td>\n      <td>NaN</td>\n      <td>NaN</td>\n      <td>NaN</td>\n    </tr>\n    <tr>\n      <th>Enclosure_Type</th>\n      <td>NaN</td>\n      <td>NaN</td>\n      <td>NaN</td>\n      <td>NaN</td>\n      <td>NaN</td>\n    </tr>\n    <tr>\n      <th>Engine_Horsepower</th>\n      <td>NaN</td>\n      <td>NaN</td>\n      <td>NaN</td>\n      <td>NaN</td>\n      <td>NaN</td>\n    </tr>\n    <tr>\n      <th>Hydraulics</th>\n      <td>2 Valve</td>\n      <td>2 Valve</td>\n      <td>2 Valve</td>\n      <td>2 Valve</td>\n      <td>2 Valve</td>\n    </tr>\n    <tr>\n      <th>Pushblock</th>\n      <td>NaN</td>\n      <td>NaN</td>\n      <td>NaN</td>\n      <td>NaN</td>\n      <td>NaN</td>\n    </tr>\n    <tr>\n      <th>Ripper</th>\n      <td>None or Unspecified</td>\n      <td>NaN</td>\n      <td>None or Unspecified</td>\n      <td>NaN</td>\n      <td>None or Unspecified</td>\n    </tr>\n    <tr>\n      <th>Scarifier</th>\n      <td>NaN</td>\n      <td>NaN</td>\n      <td>NaN</td>\n      <td>NaN</td>\n      <td>NaN</td>\n    </tr>\n    <tr>\n      <th>Tip_Control</th>\n      <td>NaN</td>\n      <td>NaN</td>\n      <td>NaN</td>\n      <td>NaN</td>\n      <td>NaN</td>\n    </tr>\n    <tr>\n      <th>Tire_Size</th>\n      <td>NaN</td>\n      <td>None or Unspecified</td>\n      <td>NaN</td>\n      <td>None or Unspecified</td>\n      <td>NaN</td>\n    </tr>\n    <tr>\n      <th>Coupler</th>\n      <td>NaN</td>\n      <td>None or Unspecified</td>\n      <td>NaN</td>\n      <td>None or Unspecified</td>\n      <td>NaN</td>\n    </tr>\n    <tr>\n      <th>Coupler_System</th>\n      <td>NaN</td>\n      <td>NaN</td>\n      <td>NaN</td>\n      <td>NaN</td>\n      <td>NaN</td>\n    </tr>\n    <tr>\n      <th>Grouser_Tracks</th>\n      <td>NaN</td>\n      <td>NaN</td>\n      <td>NaN</td>\n      <td>NaN</td>\n      <td>NaN</td>\n    </tr>\n    <tr>\n      <th>Hydraulics_Flow</th>\n      <td>NaN</td>\n      <td>NaN</td>\n      <td>NaN</td>\n      <td>NaN</td>\n      <td>NaN</td>\n    </tr>\n    <tr>\n      <th>Track_Type</th>\n      <td>NaN</td>\n      <td>NaN</td>\n      <td>NaN</td>\n      <td>NaN</td>\n      <td>NaN</td>\n    </tr>\n    <tr>\n      <th>Undercarriage_Pad_Width</th>\n      <td>NaN</td>\n      <td>NaN</td>\n      <td>NaN</td>\n      <td>NaN</td>\n      <td>NaN</td>\n    </tr>\n    <tr>\n      <th>Stick_Length</th>\n      <td>NaN</td>\n      <td>NaN</td>\n      <td>NaN</td>\n      <td>NaN</td>\n      <td>NaN</td>\n    </tr>\n    <tr>\n      <th>Thumb</th>\n      <td>NaN</td>\n      <td>NaN</td>\n      <td>NaN</td>\n      <td>NaN</td>\n      <td>NaN</td>\n    </tr>\n    <tr>\n      <th>Pattern_Changer</th>\n      <td>NaN</td>\n      <td>NaN</td>\n      <td>NaN</td>\n      <td>NaN</td>\n      <td>NaN</td>\n    </tr>\n    <tr>\n      <th>Grouser_Type</th>\n      <td>NaN</td>\n      <td>NaN</td>\n      <td>NaN</td>\n      <td>NaN</td>\n      <td>NaN</td>\n    </tr>\n    <tr>\n      <th>Backhoe_Mounting</th>\n      <td>None or Unspecified</td>\n      <td>NaN</td>\n      <td>None or Unspecified</td>\n      <td>NaN</td>\n      <td>None or Unspecified</td>\n    </tr>\n    <tr>\n      <th>Blade_Type</th>\n      <td>Straight</td>\n      <td>NaN</td>\n      <td>Straight</td>\n      <td>NaN</td>\n      <td>PAT</td>\n    </tr>\n    <tr>\n      <th>Travel_Controls</th>\n      <td>None or Unspecified</td>\n      <td>NaN</td>\n      <td>None or Unspecified</td>\n      <td>NaN</td>\n      <td>Lever</td>\n    </tr>\n    <tr>\n      <th>Differential_Type</th>\n      <td>NaN</td>\n      <td>Standard</td>\n      <td>NaN</td>\n      <td>Standard</td>\n      <td>NaN</td>\n    </tr>\n    <tr>\n      <th>Steering_Controls</th>\n      <td>NaN</td>\n      <td>Conventional</td>\n      <td>NaN</td>\n      <td>Conventional</td>\n      <td>NaN</td>\n    </tr>\n    <tr>\n      <th>saleYear</th>\n      <td>1989</td>\n      <td>1989</td>\n      <td>1989</td>\n      <td>1989</td>\n      <td>1989</td>\n    </tr>\n    <tr>\n      <th>saleMonth</th>\n      <td>1</td>\n      <td>1</td>\n      <td>1</td>\n      <td>1</td>\n      <td>1</td>\n    </tr>\n    <tr>\n      <th>saleDay</th>\n      <td>17</td>\n      <td>31</td>\n      <td>31</td>\n      <td>31</td>\n      <td>31</td>\n    </tr>\n    <tr>\n      <th>saleDayofweek</th>\n      <td>1</td>\n      <td>1</td>\n      <td>1</td>\n      <td>1</td>\n      <td>1</td>\n    </tr>\n    <tr>\n      <th>saleDayofyear</th>\n      <td>17</td>\n      <td>31</td>\n      <td>31</td>\n      <td>31</td>\n      <td>31</td>\n    </tr>\n  </tbody>\n</table>\n</div>"
     },
     "execution_count": 17,
     "metadata": {},
     "output_type": "execute_result"
    }
   ],
   "source": [
    "df_tmp.head().T"
   ]
  },
  {
   "cell_type": "code",
   "execution_count": 18,
   "metadata": {
    "ExecuteTime": {
     "end_time": "2024-03-19T19:19:42.491882Z",
     "start_time": "2024-03-19T19:19:42.476249Z"
    }
   },
   "outputs": [
    {
     "data": {
      "text/plain": "state\nFlorida           67320\nTexas             53110\nCalifornia        29761\nWashington        16222\nGeorgia           14633\nMaryland          13322\nMississippi       13240\nOhio              12369\nIllinois          11540\nColorado          11529\nNew Jersey        11156\nNorth Carolina    10636\nTennessee         10298\nAlabama           10292\nPennsylvania      10234\nSouth Carolina     9951\nArizona            9364\nNew York           8639\nConnecticut        8276\nMinnesota          7885\nMissouri           7178\nNevada             6932\nLouisiana          6627\nKentucky           5351\nMaine              5096\nIndiana            4124\nArkansas           3933\nNew Mexico         3631\nUtah               3046\nUnspecified        2801\nWisconsin          2745\nNew Hampshire      2738\nVirginia           2353\nIdaho              2025\nOregon             1911\nMichigan           1831\nWyoming            1672\nIowa               1336\nMontana            1336\nOklahoma           1326\nNebraska            866\nWest Virginia       840\nKansas              667\nDelaware            510\nNorth Dakota        480\nAlaska              430\nMassachusetts       347\nVermont             300\nSouth Dakota        244\nHawaii              118\nRhode Island         83\nPuerto Rico          42\nWashington DC         2\nName: count, dtype: int64"
     },
     "execution_count": 18,
     "metadata": {},
     "output_type": "execute_result"
    }
   ],
   "source": [
    "# Check the different values of different columns\n",
    "df_tmp.state.value_counts()"
   ]
  },
  {
   "cell_type": "markdown",
   "metadata": {},
   "source": [
    "## 5. Modelling\n",
    "\n",
    "We've explored our dataset a little as well as enriched it with some datetime attributes, now let's try to model.\n",
    "\n",
    "Why model so early?\n",
    "\n",
    "We know the evaluation metric we're heading towards. We could spend more time doing exploratory data analysis (EDA), finding more out about the data ourselves, but what we'll do instead is using a machine learning model to help us do EDA.\n",
    "\n",
    "Remember, one of the biggest goals of starting any new machine learning project is reducing the time between experiments.\n",
    "\n",
    "Following the [Scikit-Learn machine learning map](https://scikit-learn.org/stable/tutorial/machine_learning_map/index.html), we find a [`RandomForestRegressor()`](https://scikit-learn.org/stable/modules/generated/sklearn.ensemble.RandomForestRegressor.html#sklearn-ensemble-randomforestregressor) might be a good candidate."
   ]
  },
  {
   "cell_type": "code",
   "execution_count": 19,
   "metadata": {
    "ExecuteTime": {
     "end_time": "2024-03-19T19:19:42.699372Z",
     "start_time": "2024-03-19T19:19:42.492611Z"
    }
   },
   "outputs": [],
   "source": [
    "# This won't work since we've got missing numbers and categories\n",
    "from sklearn.ensemble import RandomForestRegressor\n",
    "\n",
    "model = RandomForestRegressor(n_jobs=-1)\n",
    "# model.fit(df_tmp.drop(\"SalePrice\", axis=1), df_tmp.SalePrice)"
   ]
  },
  {
   "cell_type": "code",
   "execution_count": 20,
   "metadata": {
    "ExecuteTime": {
     "end_time": "2024-03-19T19:19:42.959010Z",
     "start_time": "2024-03-19T19:19:42.700052Z"
    }
   },
   "outputs": [
    {
     "name": "stdout",
     "output_type": "stream",
     "text": [
      "<class 'pandas.core.frame.DataFrame'>\n",
      "Index: 412698 entries, 205615 to 409203\n",
      "Data columns (total 57 columns):\n",
      " #   Column                    Non-Null Count   Dtype  \n",
      "---  ------                    --------------   -----  \n",
      " 0   SalesID                   412698 non-null  int64  \n",
      " 1   SalePrice                 412698 non-null  float64\n",
      " 2   MachineID                 412698 non-null  int64  \n",
      " 3   ModelID                   412698 non-null  int64  \n",
      " 4   datasource                412698 non-null  int64  \n",
      " 5   auctioneerID              392562 non-null  float64\n",
      " 6   YearMade                  412698 non-null  int64  \n",
      " 7   MachineHoursCurrentMeter  147504 non-null  float64\n",
      " 8   UsageBand                 73670 non-null   object \n",
      " 9   fiModelDesc               412698 non-null  object \n",
      " 10  fiBaseModel               412698 non-null  object \n",
      " 11  fiSecondaryDesc           271971 non-null  object \n",
      " 12  fiModelSeries             58667 non-null   object \n",
      " 13  fiModelDescriptor         74816 non-null   object \n",
      " 14  ProductSize               196093 non-null  object \n",
      " 15  fiProductClassDesc        412698 non-null  object \n",
      " 16  state                     412698 non-null  object \n",
      " 17  ProductGroup              412698 non-null  object \n",
      " 18  ProductGroupDesc          412698 non-null  object \n",
      " 19  Drive_System              107087 non-null  object \n",
      " 20  Enclosure                 412364 non-null  object \n",
      " 21  Forks                     197715 non-null  object \n",
      " 22  Pad_Type                  81096 non-null   object \n",
      " 23  Ride_Control              152728 non-null  object \n",
      " 24  Stick                     81096 non-null   object \n",
      " 25  Transmission              188007 non-null  object \n",
      " 26  Turbocharged              81096 non-null   object \n",
      " 27  Blade_Extension           25983 non-null   object \n",
      " 28  Blade_Width               25983 non-null   object \n",
      " 29  Enclosure_Type            25983 non-null   object \n",
      " 30  Engine_Horsepower         25983 non-null   object \n",
      " 31  Hydraulics                330133 non-null  object \n",
      " 32  Pushblock                 25983 non-null   object \n",
      " 33  Ripper                    106945 non-null  object \n",
      " 34  Scarifier                 25994 non-null   object \n",
      " 35  Tip_Control               25983 non-null   object \n",
      " 36  Tire_Size                 97638 non-null   object \n",
      " 37  Coupler                   220679 non-null  object \n",
      " 38  Coupler_System            44974 non-null   object \n",
      " 39  Grouser_Tracks            44875 non-null   object \n",
      " 40  Hydraulics_Flow           44875 non-null   object \n",
      " 41  Track_Type                102193 non-null  object \n",
      " 42  Undercarriage_Pad_Width   102916 non-null  object \n",
      " 43  Stick_Length              102261 non-null  object \n",
      " 44  Thumb                     102332 non-null  object \n",
      " 45  Pattern_Changer           102261 non-null  object \n",
      " 46  Grouser_Type              102193 non-null  object \n",
      " 47  Backhoe_Mounting          80712 non-null   object \n",
      " 48  Blade_Type                81875 non-null   object \n",
      " 49  Travel_Controls           81877 non-null   object \n",
      " 50  Differential_Type         71564 non-null   object \n",
      " 51  Steering_Controls         71522 non-null   object \n",
      " 52  saleYear                  412698 non-null  int32  \n",
      " 53  saleMonth                 412698 non-null  int32  \n",
      " 54  saleDay                   412698 non-null  int32  \n",
      " 55  saleDayofweek             412698 non-null  int32  \n",
      " 56  saleDayofyear             412698 non-null  int32  \n",
      "dtypes: float64(3), int32(5), int64(5), object(44)\n",
      "memory usage: 174.7+ MB\n"
     ]
    }
   ],
   "source": [
    "# Check for missing categories and different datatypes\n",
    "df_tmp.info()"
   ]
  },
  {
   "cell_type": "code",
   "execution_count": 21,
   "metadata": {
    "ExecuteTime": {
     "end_time": "2024-03-19T19:19:43.206859Z",
     "start_time": "2024-03-19T19:19:42.959709Z"
    }
   },
   "outputs": [
    {
     "data": {
      "text/plain": "SalesID                          0\nSalePrice                        0\nMachineID                        0\nModelID                          0\ndatasource                       0\nauctioneerID                 20136\nYearMade                         0\nMachineHoursCurrentMeter    265194\nUsageBand                   339028\nfiModelDesc                      0\nfiBaseModel                      0\nfiSecondaryDesc             140727\nfiModelSeries               354031\nfiModelDescriptor           337882\nProductSize                 216605\nfiProductClassDesc               0\nstate                            0\nProductGroup                     0\nProductGroupDesc                 0\nDrive_System                305611\nEnclosure                      334\nForks                       214983\nPad_Type                    331602\nRide_Control                259970\nStick                       331602\nTransmission                224691\nTurbocharged                331602\nBlade_Extension             386715\nBlade_Width                 386715\nEnclosure_Type              386715\nEngine_Horsepower           386715\nHydraulics                   82565\nPushblock                   386715\nRipper                      305753\nScarifier                   386704\nTip_Control                 386715\nTire_Size                   315060\nCoupler                     192019\nCoupler_System              367724\nGrouser_Tracks              367823\nHydraulics_Flow             367823\nTrack_Type                  310505\nUndercarriage_Pad_Width     309782\nStick_Length                310437\nThumb                       310366\nPattern_Changer             310437\nGrouser_Type                310505\nBackhoe_Mounting            331986\nBlade_Type                  330823\nTravel_Controls             330821\nDifferential_Type           341134\nSteering_Controls           341176\nsaleYear                         0\nsaleMonth                        0\nsaleDay                          0\nsaleDayofweek                    0\nsaleDayofyear                    0\ndtype: int64"
     },
     "execution_count": 21,
     "metadata": {},
     "output_type": "execute_result"
    }
   ],
   "source": [
    "# Check for missing values\n",
    "df_tmp.isna().sum()"
   ]
  },
  {
   "cell_type": "markdown",
   "metadata": {},
   "source": [
    "## Convert strings to categories\n",
    "\n",
    "One way to help turn all of our data into numbers is to convert the columns with the string datatype into a category datatype.\n",
    "\n",
    "To do this we can use the [pandas types API](https://pandas.pydata.org/pandas-docs/stable/reference/general_utility_functions.html#data-types-related-functionality) which allows us to interact and manipulate the types of data."
   ]
  },
  {
   "cell_type": "code",
   "execution_count": 22,
   "metadata": {
    "ExecuteTime": {
     "end_time": "2024-03-19T19:19:43.215110Z",
     "start_time": "2024-03-19T19:19:43.207543Z"
    }
   },
   "outputs": [
    {
     "data": {
      "text/plain": "                                                                     205615  \\\nSalesID                                                             1646770   \nSalePrice                                                            9500.0   \nMachineID                                                           1126363   \nModelID                                                                8434   \ndatasource                                                              132   \nauctioneerID                                                           18.0   \nYearMade                                                               1974   \nMachineHoursCurrentMeter                                                NaN   \nUsageBand                                                               NaN   \nfiModelDesc                                                            TD20   \nfiBaseModel                                                            TD20   \nfiSecondaryDesc                                                         NaN   \nfiModelSeries                                                           NaN   \nfiModelDescriptor                                                       NaN   \nProductSize                                                          Medium   \nfiProductClassDesc        Track Type Tractor, Dozer - 105.0 to 130.0 Hor...   \nstate                                                                 Texas   \nProductGroup                                                            TTT   \nProductGroupDesc                                        Track Type Tractors   \nDrive_System                                                            NaN   \nEnclosure                                                             OROPS   \nForks                                                                   NaN   \nPad_Type                                                                NaN   \nRide_Control                                                            NaN   \nStick                                                                   NaN   \nTransmission                                                   Direct Drive   \nTurbocharged                                                            NaN   \nBlade_Extension                                                         NaN   \nBlade_Width                                                             NaN   \nEnclosure_Type                                                          NaN   \nEngine_Horsepower                                                       NaN   \nHydraulics                                                          2 Valve   \nPushblock                                                               NaN   \nRipper                                                  None or Unspecified   \nScarifier                                                               NaN   \nTip_Control                                                             NaN   \nTire_Size                                                               NaN   \nCoupler                                                                 NaN   \nCoupler_System                                                          NaN   \nGrouser_Tracks                                                          NaN   \nHydraulics_Flow                                                         NaN   \nTrack_Type                                                              NaN   \nUndercarriage_Pad_Width                                                 NaN   \nStick_Length                                                            NaN   \nThumb                                                                   NaN   \nPattern_Changer                                                         NaN   \nGrouser_Type                                                            NaN   \nBackhoe_Mounting                                        None or Unspecified   \nBlade_Type                                                         Straight   \nTravel_Controls                                         None or Unspecified   \nDifferential_Type                                                       NaN   \nSteering_Controls                                                       NaN   \nsaleYear                                                               1989   \nsaleMonth                                                                 1   \nsaleDay                                                                  17   \nsaleDayofweek                                                             1   \nsaleDayofyear                                                            17   \n\n                                                            274835  \\\nSalesID                                                    1821514   \nSalePrice                                                  14000.0   \nMachineID                                                  1194089   \nModelID                                                      10150   \ndatasource                                                     132   \nauctioneerID                                                  99.0   \nYearMade                                                      1980   \nMachineHoursCurrentMeter                                       NaN   \nUsageBand                                                      NaN   \nfiModelDesc                                                    A66   \nfiBaseModel                                                    A66   \nfiSecondaryDesc                                                NaN   \nfiModelSeries                                                  NaN   \nfiModelDescriptor                                              NaN   \nProductSize                                                    NaN   \nfiProductClassDesc        Wheel Loader - 120.0 to 135.0 Horsepower   \nstate                                                      Florida   \nProductGroup                                                    WL   \nProductGroupDesc                                      Wheel Loader   \nDrive_System                                                   NaN   \nEnclosure                                                    OROPS   \nForks                                          None or Unspecified   \nPad_Type                                                       NaN   \nRide_Control                                   None or Unspecified   \nStick                                                          NaN   \nTransmission                                                   NaN   \nTurbocharged                                                   NaN   \nBlade_Extension                                                NaN   \nBlade_Width                                                    NaN   \nEnclosure_Type                                                 NaN   \nEngine_Horsepower                                              NaN   \nHydraulics                                                 2 Valve   \nPushblock                                                      NaN   \nRipper                                                         NaN   \nScarifier                                                      NaN   \nTip_Control                                                    NaN   \nTire_Size                                      None or Unspecified   \nCoupler                                        None or Unspecified   \nCoupler_System                                                 NaN   \nGrouser_Tracks                                                 NaN   \nHydraulics_Flow                                                NaN   \nTrack_Type                                                     NaN   \nUndercarriage_Pad_Width                                        NaN   \nStick_Length                                                   NaN   \nThumb                                                          NaN   \nPattern_Changer                                                NaN   \nGrouser_Type                                                   NaN   \nBackhoe_Mounting                                               NaN   \nBlade_Type                                                     NaN   \nTravel_Controls                                                NaN   \nDifferential_Type                                         Standard   \nSteering_Controls                                     Conventional   \nsaleYear                                                      1989   \nsaleMonth                                                        1   \nsaleDay                                                         31   \nsaleDayofweek                                                    1   \nsaleDayofyear                                                   31   \n\n                                                                     141296  \\\nSalesID                                                             1505138   \nSalePrice                                                           50000.0   \nMachineID                                                           1473654   \nModelID                                                                4139   \ndatasource                                                              132   \nauctioneerID                                                           99.0   \nYearMade                                                               1978   \nMachineHoursCurrentMeter                                                NaN   \nUsageBand                                                               NaN   \nfiModelDesc                                                             D7G   \nfiBaseModel                                                              D7   \nfiSecondaryDesc                                                           G   \nfiModelSeries                                                           NaN   \nfiModelDescriptor                                                       NaN   \nProductSize                                                           Large   \nfiProductClassDesc        Track Type Tractor, Dozer - 190.0 to 260.0 Hor...   \nstate                                                               Florida   \nProductGroup                                                            TTT   \nProductGroupDesc                                        Track Type Tractors   \nDrive_System                                                            NaN   \nEnclosure                                                             OROPS   \nForks                                                                   NaN   \nPad_Type                                                                NaN   \nRide_Control                                                            NaN   \nStick                                                                   NaN   \nTransmission                                                       Standard   \nTurbocharged                                                            NaN   \nBlade_Extension                                                         NaN   \nBlade_Width                                                             NaN   \nEnclosure_Type                                                          NaN   \nEngine_Horsepower                                                       NaN   \nHydraulics                                                          2 Valve   \nPushblock                                                               NaN   \nRipper                                                  None or Unspecified   \nScarifier                                                               NaN   \nTip_Control                                                             NaN   \nTire_Size                                                               NaN   \nCoupler                                                                 NaN   \nCoupler_System                                                          NaN   \nGrouser_Tracks                                                          NaN   \nHydraulics_Flow                                                         NaN   \nTrack_Type                                                              NaN   \nUndercarriage_Pad_Width                                                 NaN   \nStick_Length                                                            NaN   \nThumb                                                                   NaN   \nPattern_Changer                                                         NaN   \nGrouser_Type                                                            NaN   \nBackhoe_Mounting                                        None or Unspecified   \nBlade_Type                                                         Straight   \nTravel_Controls                                         None or Unspecified   \nDifferential_Type                                                       NaN   \nSteering_Controls                                                       NaN   \nsaleYear                                                               1989   \nsaleMonth                                                                 1   \nsaleDay                                                                  31   \nsaleDayofweek                                                             1   \nsaleDayofyear                                                            31   \n\n                                               212552  \\\nSalesID                                       1671174   \nSalePrice                                     16000.0   \nMachineID                                     1327630   \nModelID                                          8591   \ndatasource                                        132   \nauctioneerID                                     99.0   \nYearMade                                         1980   \nMachineHoursCurrentMeter                          NaN   \nUsageBand                                         NaN   \nfiModelDesc                                       A62   \nfiBaseModel                                       A62   \nfiSecondaryDesc                                   NaN   \nfiModelSeries                                     NaN   \nfiModelDescriptor                                 NaN   \nProductSize                                       NaN   \nfiProductClassDesc        Wheel Loader - Unidentified   \nstate                                         Florida   \nProductGroup                                       WL   \nProductGroupDesc                         Wheel Loader   \nDrive_System                                      NaN   \nEnclosure                                       EROPS   \nForks                             None or Unspecified   \nPad_Type                                          NaN   \nRide_Control                      None or Unspecified   \nStick                                             NaN   \nTransmission                                      NaN   \nTurbocharged                                      NaN   \nBlade_Extension                                   NaN   \nBlade_Width                                       NaN   \nEnclosure_Type                                    NaN   \nEngine_Horsepower                                 NaN   \nHydraulics                                    2 Valve   \nPushblock                                         NaN   \nRipper                                            NaN   \nScarifier                                         NaN   \nTip_Control                                       NaN   \nTire_Size                         None or Unspecified   \nCoupler                           None or Unspecified   \nCoupler_System                                    NaN   \nGrouser_Tracks                                    NaN   \nHydraulics_Flow                                   NaN   \nTrack_Type                                        NaN   \nUndercarriage_Pad_Width                           NaN   \nStick_Length                                      NaN   \nThumb                                             NaN   \nPattern_Changer                                   NaN   \nGrouser_Type                                      NaN   \nBackhoe_Mounting                                  NaN   \nBlade_Type                                        NaN   \nTravel_Controls                                   NaN   \nDifferential_Type                            Standard   \nSteering_Controls                        Conventional   \nsaleYear                                         1989   \nsaleMonth                                           1   \nsaleDay                                            31   \nsaleDayofweek                                       1   \nsaleDayofyear                                      31   \n\n                                                                     62755   \nSalesID                                                             1329056  \nSalePrice                                                           22000.0  \nMachineID                                                           1336053  \nModelID                                                                4089  \ndatasource                                                              132  \nauctioneerID                                                           99.0  \nYearMade                                                               1984  \nMachineHoursCurrentMeter                                                NaN  \nUsageBand                                                               NaN  \nfiModelDesc                                                             D3B  \nfiBaseModel                                                              D3  \nfiSecondaryDesc                                                           B  \nfiModelSeries                                                           NaN  \nfiModelDescriptor                                                       NaN  \nProductSize                                                             NaN  \nfiProductClassDesc        Track Type Tractor, Dozer - 20.0 to 75.0 Horse...  \nstate                                                               Florida  \nProductGroup                                                            TTT  \nProductGroupDesc                                        Track Type Tractors  \nDrive_System                                                            NaN  \nEnclosure                                                             OROPS  \nForks                                                                   NaN  \nPad_Type                                                                NaN  \nRide_Control                                                            NaN  \nStick                                                                   NaN  \nTransmission                                                       Standard  \nTurbocharged                                                            NaN  \nBlade_Extension                                                         NaN  \nBlade_Width                                                             NaN  \nEnclosure_Type                                                          NaN  \nEngine_Horsepower                                                       NaN  \nHydraulics                                                          2 Valve  \nPushblock                                                               NaN  \nRipper                                                  None or Unspecified  \nScarifier                                                               NaN  \nTip_Control                                                             NaN  \nTire_Size                                                               NaN  \nCoupler                                                                 NaN  \nCoupler_System                                                          NaN  \nGrouser_Tracks                                                          NaN  \nHydraulics_Flow                                                         NaN  \nTrack_Type                                                              NaN  \nUndercarriage_Pad_Width                                                 NaN  \nStick_Length                                                            NaN  \nThumb                                                                   NaN  \nPattern_Changer                                                         NaN  \nGrouser_Type                                                            NaN  \nBackhoe_Mounting                                        None or Unspecified  \nBlade_Type                                                              PAT  \nTravel_Controls                                                       Lever  \nDifferential_Type                                                       NaN  \nSteering_Controls                                                       NaN  \nsaleYear                                                               1989  \nsaleMonth                                                                 1  \nsaleDay                                                                  31  \nsaleDayofweek                                                             1  \nsaleDayofyear                                                            31  ",
      "text/html": "<div>\n<style scoped>\n    .dataframe tbody tr th:only-of-type {\n        vertical-align: middle;\n    }\n\n    .dataframe tbody tr th {\n        vertical-align: top;\n    }\n\n    .dataframe thead th {\n        text-align: right;\n    }\n</style>\n<table border=\"1\" class=\"dataframe\">\n  <thead>\n    <tr style=\"text-align: right;\">\n      <th></th>\n      <th>205615</th>\n      <th>274835</th>\n      <th>141296</th>\n      <th>212552</th>\n      <th>62755</th>\n    </tr>\n  </thead>\n  <tbody>\n    <tr>\n      <th>SalesID</th>\n      <td>1646770</td>\n      <td>1821514</td>\n      <td>1505138</td>\n      <td>1671174</td>\n      <td>1329056</td>\n    </tr>\n    <tr>\n      <th>SalePrice</th>\n      <td>9500.0</td>\n      <td>14000.0</td>\n      <td>50000.0</td>\n      <td>16000.0</td>\n      <td>22000.0</td>\n    </tr>\n    <tr>\n      <th>MachineID</th>\n      <td>1126363</td>\n      <td>1194089</td>\n      <td>1473654</td>\n      <td>1327630</td>\n      <td>1336053</td>\n    </tr>\n    <tr>\n      <th>ModelID</th>\n      <td>8434</td>\n      <td>10150</td>\n      <td>4139</td>\n      <td>8591</td>\n      <td>4089</td>\n    </tr>\n    <tr>\n      <th>datasource</th>\n      <td>132</td>\n      <td>132</td>\n      <td>132</td>\n      <td>132</td>\n      <td>132</td>\n    </tr>\n    <tr>\n      <th>auctioneerID</th>\n      <td>18.0</td>\n      <td>99.0</td>\n      <td>99.0</td>\n      <td>99.0</td>\n      <td>99.0</td>\n    </tr>\n    <tr>\n      <th>YearMade</th>\n      <td>1974</td>\n      <td>1980</td>\n      <td>1978</td>\n      <td>1980</td>\n      <td>1984</td>\n    </tr>\n    <tr>\n      <th>MachineHoursCurrentMeter</th>\n      <td>NaN</td>\n      <td>NaN</td>\n      <td>NaN</td>\n      <td>NaN</td>\n      <td>NaN</td>\n    </tr>\n    <tr>\n      <th>UsageBand</th>\n      <td>NaN</td>\n      <td>NaN</td>\n      <td>NaN</td>\n      <td>NaN</td>\n      <td>NaN</td>\n    </tr>\n    <tr>\n      <th>fiModelDesc</th>\n      <td>TD20</td>\n      <td>A66</td>\n      <td>D7G</td>\n      <td>A62</td>\n      <td>D3B</td>\n    </tr>\n    <tr>\n      <th>fiBaseModel</th>\n      <td>TD20</td>\n      <td>A66</td>\n      <td>D7</td>\n      <td>A62</td>\n      <td>D3</td>\n    </tr>\n    <tr>\n      <th>fiSecondaryDesc</th>\n      <td>NaN</td>\n      <td>NaN</td>\n      <td>G</td>\n      <td>NaN</td>\n      <td>B</td>\n    </tr>\n    <tr>\n      <th>fiModelSeries</th>\n      <td>NaN</td>\n      <td>NaN</td>\n      <td>NaN</td>\n      <td>NaN</td>\n      <td>NaN</td>\n    </tr>\n    <tr>\n      <th>fiModelDescriptor</th>\n      <td>NaN</td>\n      <td>NaN</td>\n      <td>NaN</td>\n      <td>NaN</td>\n      <td>NaN</td>\n    </tr>\n    <tr>\n      <th>ProductSize</th>\n      <td>Medium</td>\n      <td>NaN</td>\n      <td>Large</td>\n      <td>NaN</td>\n      <td>NaN</td>\n    </tr>\n    <tr>\n      <th>fiProductClassDesc</th>\n      <td>Track Type Tractor, Dozer - 105.0 to 130.0 Hor...</td>\n      <td>Wheel Loader - 120.0 to 135.0 Horsepower</td>\n      <td>Track Type Tractor, Dozer - 190.0 to 260.0 Hor...</td>\n      <td>Wheel Loader - Unidentified</td>\n      <td>Track Type Tractor, Dozer - 20.0 to 75.0 Horse...</td>\n    </tr>\n    <tr>\n      <th>state</th>\n      <td>Texas</td>\n      <td>Florida</td>\n      <td>Florida</td>\n      <td>Florida</td>\n      <td>Florida</td>\n    </tr>\n    <tr>\n      <th>ProductGroup</th>\n      <td>TTT</td>\n      <td>WL</td>\n      <td>TTT</td>\n      <td>WL</td>\n      <td>TTT</td>\n    </tr>\n    <tr>\n      <th>ProductGroupDesc</th>\n      <td>Track Type Tractors</td>\n      <td>Wheel Loader</td>\n      <td>Track Type Tractors</td>\n      <td>Wheel Loader</td>\n      <td>Track Type Tractors</td>\n    </tr>\n    <tr>\n      <th>Drive_System</th>\n      <td>NaN</td>\n      <td>NaN</td>\n      <td>NaN</td>\n      <td>NaN</td>\n      <td>NaN</td>\n    </tr>\n    <tr>\n      <th>Enclosure</th>\n      <td>OROPS</td>\n      <td>OROPS</td>\n      <td>OROPS</td>\n      <td>EROPS</td>\n      <td>OROPS</td>\n    </tr>\n    <tr>\n      <th>Forks</th>\n      <td>NaN</td>\n      <td>None or Unspecified</td>\n      <td>NaN</td>\n      <td>None or Unspecified</td>\n      <td>NaN</td>\n    </tr>\n    <tr>\n      <th>Pad_Type</th>\n      <td>NaN</td>\n      <td>NaN</td>\n      <td>NaN</td>\n      <td>NaN</td>\n      <td>NaN</td>\n    </tr>\n    <tr>\n      <th>Ride_Control</th>\n      <td>NaN</td>\n      <td>None or Unspecified</td>\n      <td>NaN</td>\n      <td>None or Unspecified</td>\n      <td>NaN</td>\n    </tr>\n    <tr>\n      <th>Stick</th>\n      <td>NaN</td>\n      <td>NaN</td>\n      <td>NaN</td>\n      <td>NaN</td>\n      <td>NaN</td>\n    </tr>\n    <tr>\n      <th>Transmission</th>\n      <td>Direct Drive</td>\n      <td>NaN</td>\n      <td>Standard</td>\n      <td>NaN</td>\n      <td>Standard</td>\n    </tr>\n    <tr>\n      <th>Turbocharged</th>\n      <td>NaN</td>\n      <td>NaN</td>\n      <td>NaN</td>\n      <td>NaN</td>\n      <td>NaN</td>\n    </tr>\n    <tr>\n      <th>Blade_Extension</th>\n      <td>NaN</td>\n      <td>NaN</td>\n      <td>NaN</td>\n      <td>NaN</td>\n      <td>NaN</td>\n    </tr>\n    <tr>\n      <th>Blade_Width</th>\n      <td>NaN</td>\n      <td>NaN</td>\n      <td>NaN</td>\n      <td>NaN</td>\n      <td>NaN</td>\n    </tr>\n    <tr>\n      <th>Enclosure_Type</th>\n      <td>NaN</td>\n      <td>NaN</td>\n      <td>NaN</td>\n      <td>NaN</td>\n      <td>NaN</td>\n    </tr>\n    <tr>\n      <th>Engine_Horsepower</th>\n      <td>NaN</td>\n      <td>NaN</td>\n      <td>NaN</td>\n      <td>NaN</td>\n      <td>NaN</td>\n    </tr>\n    <tr>\n      <th>Hydraulics</th>\n      <td>2 Valve</td>\n      <td>2 Valve</td>\n      <td>2 Valve</td>\n      <td>2 Valve</td>\n      <td>2 Valve</td>\n    </tr>\n    <tr>\n      <th>Pushblock</th>\n      <td>NaN</td>\n      <td>NaN</td>\n      <td>NaN</td>\n      <td>NaN</td>\n      <td>NaN</td>\n    </tr>\n    <tr>\n      <th>Ripper</th>\n      <td>None or Unspecified</td>\n      <td>NaN</td>\n      <td>None or Unspecified</td>\n      <td>NaN</td>\n      <td>None or Unspecified</td>\n    </tr>\n    <tr>\n      <th>Scarifier</th>\n      <td>NaN</td>\n      <td>NaN</td>\n      <td>NaN</td>\n      <td>NaN</td>\n      <td>NaN</td>\n    </tr>\n    <tr>\n      <th>Tip_Control</th>\n      <td>NaN</td>\n      <td>NaN</td>\n      <td>NaN</td>\n      <td>NaN</td>\n      <td>NaN</td>\n    </tr>\n    <tr>\n      <th>Tire_Size</th>\n      <td>NaN</td>\n      <td>None or Unspecified</td>\n      <td>NaN</td>\n      <td>None or Unspecified</td>\n      <td>NaN</td>\n    </tr>\n    <tr>\n      <th>Coupler</th>\n      <td>NaN</td>\n      <td>None or Unspecified</td>\n      <td>NaN</td>\n      <td>None or Unspecified</td>\n      <td>NaN</td>\n    </tr>\n    <tr>\n      <th>Coupler_System</th>\n      <td>NaN</td>\n      <td>NaN</td>\n      <td>NaN</td>\n      <td>NaN</td>\n      <td>NaN</td>\n    </tr>\n    <tr>\n      <th>Grouser_Tracks</th>\n      <td>NaN</td>\n      <td>NaN</td>\n      <td>NaN</td>\n      <td>NaN</td>\n      <td>NaN</td>\n    </tr>\n    <tr>\n      <th>Hydraulics_Flow</th>\n      <td>NaN</td>\n      <td>NaN</td>\n      <td>NaN</td>\n      <td>NaN</td>\n      <td>NaN</td>\n    </tr>\n    <tr>\n      <th>Track_Type</th>\n      <td>NaN</td>\n      <td>NaN</td>\n      <td>NaN</td>\n      <td>NaN</td>\n      <td>NaN</td>\n    </tr>\n    <tr>\n      <th>Undercarriage_Pad_Width</th>\n      <td>NaN</td>\n      <td>NaN</td>\n      <td>NaN</td>\n      <td>NaN</td>\n      <td>NaN</td>\n    </tr>\n    <tr>\n      <th>Stick_Length</th>\n      <td>NaN</td>\n      <td>NaN</td>\n      <td>NaN</td>\n      <td>NaN</td>\n      <td>NaN</td>\n    </tr>\n    <tr>\n      <th>Thumb</th>\n      <td>NaN</td>\n      <td>NaN</td>\n      <td>NaN</td>\n      <td>NaN</td>\n      <td>NaN</td>\n    </tr>\n    <tr>\n      <th>Pattern_Changer</th>\n      <td>NaN</td>\n      <td>NaN</td>\n      <td>NaN</td>\n      <td>NaN</td>\n      <td>NaN</td>\n    </tr>\n    <tr>\n      <th>Grouser_Type</th>\n      <td>NaN</td>\n      <td>NaN</td>\n      <td>NaN</td>\n      <td>NaN</td>\n      <td>NaN</td>\n    </tr>\n    <tr>\n      <th>Backhoe_Mounting</th>\n      <td>None or Unspecified</td>\n      <td>NaN</td>\n      <td>None or Unspecified</td>\n      <td>NaN</td>\n      <td>None or Unspecified</td>\n    </tr>\n    <tr>\n      <th>Blade_Type</th>\n      <td>Straight</td>\n      <td>NaN</td>\n      <td>Straight</td>\n      <td>NaN</td>\n      <td>PAT</td>\n    </tr>\n    <tr>\n      <th>Travel_Controls</th>\n      <td>None or Unspecified</td>\n      <td>NaN</td>\n      <td>None or Unspecified</td>\n      <td>NaN</td>\n      <td>Lever</td>\n    </tr>\n    <tr>\n      <th>Differential_Type</th>\n      <td>NaN</td>\n      <td>Standard</td>\n      <td>NaN</td>\n      <td>Standard</td>\n      <td>NaN</td>\n    </tr>\n    <tr>\n      <th>Steering_Controls</th>\n      <td>NaN</td>\n      <td>Conventional</td>\n      <td>NaN</td>\n      <td>Conventional</td>\n      <td>NaN</td>\n    </tr>\n    <tr>\n      <th>saleYear</th>\n      <td>1989</td>\n      <td>1989</td>\n      <td>1989</td>\n      <td>1989</td>\n      <td>1989</td>\n    </tr>\n    <tr>\n      <th>saleMonth</th>\n      <td>1</td>\n      <td>1</td>\n      <td>1</td>\n      <td>1</td>\n      <td>1</td>\n    </tr>\n    <tr>\n      <th>saleDay</th>\n      <td>17</td>\n      <td>31</td>\n      <td>31</td>\n      <td>31</td>\n      <td>31</td>\n    </tr>\n    <tr>\n      <th>saleDayofweek</th>\n      <td>1</td>\n      <td>1</td>\n      <td>1</td>\n      <td>1</td>\n      <td>1</td>\n    </tr>\n    <tr>\n      <th>saleDayofyear</th>\n      <td>17</td>\n      <td>31</td>\n      <td>31</td>\n      <td>31</td>\n      <td>31</td>\n    </tr>\n  </tbody>\n</table>\n</div>"
     },
     "execution_count": 22,
     "metadata": {},
     "output_type": "execute_result"
    }
   ],
   "source": [
    "df_tmp.head().T"
   ]
  },
  {
   "cell_type": "code",
   "execution_count": 23,
   "metadata": {
    "ExecuteTime": {
     "end_time": "2024-03-19T19:19:43.221993Z",
     "start_time": "2024-03-19T19:19:43.215870Z"
    }
   },
   "outputs": [
    {
     "data": {
      "text/plain": "False"
     },
     "execution_count": 23,
     "metadata": {},
     "output_type": "execute_result"
    }
   ],
   "source": [
    "pd.api.types.is_string_dtype(df_tmp[\"UsageBand\"])"
   ]
  },
  {
   "cell_type": "code",
   "execution_count": 24,
   "metadata": {
    "ExecuteTime": {
     "end_time": "2024-03-19T19:19:43.234937Z",
     "start_time": "2024-03-19T19:19:43.222619Z"
    }
   },
   "outputs": [
    {
     "name": "stdout",
     "output_type": "stream",
     "text": [
      "fiModelDesc\n",
      "fiBaseModel\n",
      "fiProductClassDesc\n",
      "state\n",
      "ProductGroup\n",
      "ProductGroupDesc\n"
     ]
    }
   ],
   "source": [
    "# These columns contain strings\n",
    "for label, content in df_tmp.items():\n",
    "    if pd.api.types.is_string_dtype(content):\n",
    "        print(label)"
   ]
  },
  {
   "cell_type": "code",
   "execution_count": 25,
   "metadata": {
    "ExecuteTime": {
     "end_time": "2024-03-19T19:19:43.237989Z",
     "start_time": "2024-03-19T19:19:43.235718Z"
    }
   },
   "outputs": [
    {
     "name": "stdout",
     "output_type": "stream",
     "text": [
      "This is a key: key1\n",
      "This is a value: hello\n",
      "This is a key: key2\n",
      "This is a value: world!\n"
     ]
    }
   ],
   "source": [
    "# If you're wondering what df.items() does, let's use a dictionary as an example\n",
    "random_dict = {\"key1\": \"hello\",\n",
    "               \"key2\": \"world!\"}\n",
    "\n",
    "for key, value in random_dict.items():\n",
    "    print(f\"This is a key: {key}\")\n",
    "    print(f\"This is a value: {value}\")"
   ]
  },
  {
   "cell_type": "code",
   "execution_count": 26,
   "metadata": {
    "ExecuteTime": {
     "end_time": "2024-03-19T19:19:43.336420Z",
     "start_time": "2024-03-19T19:19:43.238673Z"
    }
   },
   "outputs": [],
   "source": [
    "# This will turn all the string values into category values\n",
    "for label, content in df_tmp.items():\n",
    "    if pd.api.types.is_string_dtype(content):\n",
    "        df_tmp[label] = content.astype(\"category\").cat.as_ordered()"
   ]
  },
  {
   "cell_type": "code",
   "execution_count": 27,
   "metadata": {
    "ExecuteTime": {
     "end_time": "2024-03-19T19:19:43.559282Z",
     "start_time": "2024-03-19T19:19:43.337352Z"
    }
   },
   "outputs": [
    {
     "name": "stdout",
     "output_type": "stream",
     "text": [
      "<class 'pandas.core.frame.DataFrame'>\n",
      "Index: 412698 entries, 205615 to 409203\n",
      "Data columns (total 57 columns):\n",
      " #   Column                    Non-Null Count   Dtype   \n",
      "---  ------                    --------------   -----   \n",
      " 0   SalesID                   412698 non-null  int64   \n",
      " 1   SalePrice                 412698 non-null  float64 \n",
      " 2   MachineID                 412698 non-null  int64   \n",
      " 3   ModelID                   412698 non-null  int64   \n",
      " 4   datasource                412698 non-null  int64   \n",
      " 5   auctioneerID              392562 non-null  float64 \n",
      " 6   YearMade                  412698 non-null  int64   \n",
      " 7   MachineHoursCurrentMeter  147504 non-null  float64 \n",
      " 8   UsageBand                 73670 non-null   object  \n",
      " 9   fiModelDesc               412698 non-null  category\n",
      " 10  fiBaseModel               412698 non-null  category\n",
      " 11  fiSecondaryDesc           271971 non-null  object  \n",
      " 12  fiModelSeries             58667 non-null   object  \n",
      " 13  fiModelDescriptor         74816 non-null   object  \n",
      " 14  ProductSize               196093 non-null  object  \n",
      " 15  fiProductClassDesc        412698 non-null  category\n",
      " 16  state                     412698 non-null  category\n",
      " 17  ProductGroup              412698 non-null  category\n",
      " 18  ProductGroupDesc          412698 non-null  category\n",
      " 19  Drive_System              107087 non-null  object  \n",
      " 20  Enclosure                 412364 non-null  object  \n",
      " 21  Forks                     197715 non-null  object  \n",
      " 22  Pad_Type                  81096 non-null   object  \n",
      " 23  Ride_Control              152728 non-null  object  \n",
      " 24  Stick                     81096 non-null   object  \n",
      " 25  Transmission              188007 non-null  object  \n",
      " 26  Turbocharged              81096 non-null   object  \n",
      " 27  Blade_Extension           25983 non-null   object  \n",
      " 28  Blade_Width               25983 non-null   object  \n",
      " 29  Enclosure_Type            25983 non-null   object  \n",
      " 30  Engine_Horsepower         25983 non-null   object  \n",
      " 31  Hydraulics                330133 non-null  object  \n",
      " 32  Pushblock                 25983 non-null   object  \n",
      " 33  Ripper                    106945 non-null  object  \n",
      " 34  Scarifier                 25994 non-null   object  \n",
      " 35  Tip_Control               25983 non-null   object  \n",
      " 36  Tire_Size                 97638 non-null   object  \n",
      " 37  Coupler                   220679 non-null  object  \n",
      " 38  Coupler_System            44974 non-null   object  \n",
      " 39  Grouser_Tracks            44875 non-null   object  \n",
      " 40  Hydraulics_Flow           44875 non-null   object  \n",
      " 41  Track_Type                102193 non-null  object  \n",
      " 42  Undercarriage_Pad_Width   102916 non-null  object  \n",
      " 43  Stick_Length              102261 non-null  object  \n",
      " 44  Thumb                     102332 non-null  object  \n",
      " 45  Pattern_Changer           102261 non-null  object  \n",
      " 46  Grouser_Type              102193 non-null  object  \n",
      " 47  Backhoe_Mounting          80712 non-null   object  \n",
      " 48  Blade_Type                81875 non-null   object  \n",
      " 49  Travel_Controls           81877 non-null   object  \n",
      " 50  Differential_Type         71564 non-null   object  \n",
      " 51  Steering_Controls         71522 non-null   object  \n",
      " 52  saleYear                  412698 non-null  int32   \n",
      " 53  saleMonth                 412698 non-null  int32   \n",
      " 54  saleDay                   412698 non-null  int32   \n",
      " 55  saleDayofweek             412698 non-null  int32   \n",
      " 56  saleDayofyear             412698 non-null  int32   \n",
      "dtypes: category(6), float64(3), int32(5), int64(5), object(38)\n",
      "memory usage: 159.3+ MB\n"
     ]
    }
   ],
   "source": [
    "df_tmp.info()"
   ]
  },
  {
   "cell_type": "code",
   "execution_count": 28,
   "metadata": {
    "ExecuteTime": {
     "end_time": "2024-03-19T19:19:43.563024Z",
     "start_time": "2024-03-19T19:19:43.560156Z"
    }
   },
   "outputs": [
    {
     "data": {
      "text/plain": "Index(['Alabama', 'Alaska', 'Arizona', 'Arkansas', 'California', 'Colorado',\n       'Connecticut', 'Delaware', 'Florida', 'Georgia', 'Hawaii', 'Idaho',\n       'Illinois', 'Indiana', 'Iowa', 'Kansas', 'Kentucky', 'Louisiana',\n       'Maine', 'Maryland', 'Massachusetts', 'Michigan', 'Minnesota',\n       'Mississippi', 'Missouri', 'Montana', 'Nebraska', 'Nevada',\n       'New Hampshire', 'New Jersey', 'New Mexico', 'New York',\n       'North Carolina', 'North Dakota', 'Ohio', 'Oklahoma', 'Oregon',\n       'Pennsylvania', 'Puerto Rico', 'Rhode Island', 'South Carolina',\n       'South Dakota', 'Tennessee', 'Texas', 'Unspecified', 'Utah', 'Vermont',\n       'Virginia', 'Washington', 'Washington DC', 'West Virginia', 'Wisconsin',\n       'Wyoming'],\n      dtype='object')"
     },
     "execution_count": 28,
     "metadata": {},
     "output_type": "execute_result"
    }
   ],
   "source": [
    "df_tmp.state.cat.categories"
   ]
  },
  {
   "cell_type": "code",
   "execution_count": 29,
   "metadata": {
    "ExecuteTime": {
     "end_time": "2024-03-19T19:19:43.567588Z",
     "start_time": "2024-03-19T19:19:43.563637Z"
    }
   },
   "outputs": [
    {
     "data": {
      "text/plain": "205615    43\n274835     8\n141296     8\n212552     8\n62755      8\n          ..\n410879     4\n412476     4\n411927     4\n407124     4\n409203     4\nLength: 412698, dtype: int8"
     },
     "execution_count": 29,
     "metadata": {},
     "output_type": "execute_result"
    }
   ],
   "source": [
    "df_tmp.state.cat.codes"
   ]
  },
  {
   "cell_type": "markdown",
   "metadata": {},
   "source": [
    "All of our data is categorical, and thus we can now turn the categories into numbers, however it's still missing values..."
   ]
  },
  {
   "cell_type": "code",
   "execution_count": 30,
   "metadata": {
    "ExecuteTime": {
     "end_time": "2024-03-19T19:19:43.772533Z",
     "start_time": "2024-03-19T19:19:43.568203Z"
    }
   },
   "outputs": [
    {
     "data": {
      "text/plain": "SalesID                     0.000000\nSalePrice                   0.000000\nMachineID                   0.000000\nModelID                     0.000000\ndatasource                  0.000000\nauctioneerID                0.048791\nYearMade                    0.000000\nMachineHoursCurrentMeter    0.642586\nUsageBand                   0.821492\nfiModelDesc                 0.000000\nfiBaseModel                 0.000000\nfiSecondaryDesc             0.340993\nfiModelSeries               0.857845\nfiModelDescriptor           0.818715\nProductSize                 0.524851\nfiProductClassDesc          0.000000\nstate                       0.000000\nProductGroup                0.000000\nProductGroupDesc            0.000000\nDrive_System                0.740520\nEnclosure                   0.000809\nForks                       0.520921\nPad_Type                    0.803498\nRide_Control                0.629928\nStick                       0.803498\nTransmission                0.544444\nTurbocharged                0.803498\nBlade_Extension             0.937041\nBlade_Width                 0.937041\nEnclosure_Type              0.937041\nEngine_Horsepower           0.937041\nHydraulics                  0.200062\nPushblock                   0.937041\nRipper                      0.740864\nScarifier                   0.937014\nTip_Control                 0.937041\nTire_Size                   0.763415\nCoupler                     0.465277\nCoupler_System              0.891024\nGrouser_Tracks              0.891264\nHydraulics_Flow             0.891264\nTrack_Type                  0.752378\nUndercarriage_Pad_Width     0.750626\nStick_Length                0.752213\nThumb                       0.752041\nPattern_Changer             0.752213\nGrouser_Type                0.752378\nBackhoe_Mounting            0.804428\nBlade_Type                  0.801610\nTravel_Controls             0.801606\nDifferential_Type           0.826595\nSteering_Controls           0.826697\nsaleYear                    0.000000\nsaleMonth                   0.000000\nsaleDay                     0.000000\nsaleDayofweek               0.000000\nsaleDayofyear               0.000000\ndtype: float64"
     },
     "execution_count": 30,
     "metadata": {},
     "output_type": "execute_result"
    }
   ],
   "source": [
    "df_tmp.isnull().sum()/len(df_tmp)"
   ]
  },
  {
   "cell_type": "markdown",
   "metadata": {},
   "source": [
    "In the format it's in, it's still good to be worked with, let's save it to file and reimport it so we can continue on.\n",
    "\n",
    "### Save Processed Data"
   ]
  },
  {
   "cell_type": "code",
   "execution_count": 31,
   "metadata": {
    "ExecuteTime": {
     "end_time": "2024-03-19T19:19:46.404459Z",
     "start_time": "2024-03-19T19:19:43.775703Z"
    }
   },
   "outputs": [],
   "source": [
    "# Save preprocessed data\n",
    "df_tmp.to_csv(\"../data/bluebook-for-bulldozers/train_tmp.csv\",\n",
    "              index=False)"
   ]
  },
  {
   "cell_type": "code",
   "execution_count": 32,
   "metadata": {
    "ExecuteTime": {
     "end_time": "2024-03-19T19:19:48.040383Z",
     "start_time": "2024-03-19T19:19:46.405100Z"
    }
   },
   "outputs": [
    {
     "data": {
      "text/plain": "                                                                          0  \\\nSalesID                                                             1646770   \nSalePrice                                                            9500.0   \nMachineID                                                           1126363   \nModelID                                                                8434   \ndatasource                                                              132   \nauctioneerID                                                           18.0   \nYearMade                                                               1974   \nMachineHoursCurrentMeter                                                NaN   \nUsageBand                                                               NaN   \nfiModelDesc                                                            TD20   \nfiBaseModel                                                            TD20   \nfiSecondaryDesc                                                         NaN   \nfiModelSeries                                                           NaN   \nfiModelDescriptor                                                       NaN   \nProductSize                                                          Medium   \nfiProductClassDesc        Track Type Tractor, Dozer - 105.0 to 130.0 Hor...   \nstate                                                                 Texas   \nProductGroup                                                            TTT   \nProductGroupDesc                                        Track Type Tractors   \nDrive_System                                                            NaN   \nEnclosure                                                             OROPS   \nForks                                                                   NaN   \nPad_Type                                                                NaN   \nRide_Control                                                            NaN   \nStick                                                                   NaN   \nTransmission                                                   Direct Drive   \nTurbocharged                                                            NaN   \nBlade_Extension                                                         NaN   \nBlade_Width                                                             NaN   \nEnclosure_Type                                                          NaN   \nEngine_Horsepower                                                       NaN   \nHydraulics                                                          2 Valve   \nPushblock                                                               NaN   \nRipper                                                  None or Unspecified   \nScarifier                                                               NaN   \nTip_Control                                                             NaN   \nTire_Size                                                               NaN   \nCoupler                                                                 NaN   \nCoupler_System                                                          NaN   \nGrouser_Tracks                                                          NaN   \nHydraulics_Flow                                                         NaN   \nTrack_Type                                                              NaN   \nUndercarriage_Pad_Width                                                 NaN   \nStick_Length                                                            NaN   \nThumb                                                                   NaN   \nPattern_Changer                                                         NaN   \nGrouser_Type                                                            NaN   \nBackhoe_Mounting                                        None or Unspecified   \nBlade_Type                                                         Straight   \nTravel_Controls                                         None or Unspecified   \nDifferential_Type                                                       NaN   \nSteering_Controls                                                       NaN   \nsaleYear                                                               1989   \nsaleMonth                                                                 1   \nsaleDay                                                                  17   \nsaleDayofweek                                                             1   \nsaleDayofyear                                                            17   \n\n                                                                 1  \\\nSalesID                                                    1821514   \nSalePrice                                                  14000.0   \nMachineID                                                  1194089   \nModelID                                                      10150   \ndatasource                                                     132   \nauctioneerID                                                  99.0   \nYearMade                                                      1980   \nMachineHoursCurrentMeter                                       NaN   \nUsageBand                                                      NaN   \nfiModelDesc                                                    A66   \nfiBaseModel                                                    A66   \nfiSecondaryDesc                                                NaN   \nfiModelSeries                                                  NaN   \nfiModelDescriptor                                              NaN   \nProductSize                                                    NaN   \nfiProductClassDesc        Wheel Loader - 120.0 to 135.0 Horsepower   \nstate                                                      Florida   \nProductGroup                                                    WL   \nProductGroupDesc                                      Wheel Loader   \nDrive_System                                                   NaN   \nEnclosure                                                    OROPS   \nForks                                          None or Unspecified   \nPad_Type                                                       NaN   \nRide_Control                                   None or Unspecified   \nStick                                                          NaN   \nTransmission                                                   NaN   \nTurbocharged                                                   NaN   \nBlade_Extension                                                NaN   \nBlade_Width                                                    NaN   \nEnclosure_Type                                                 NaN   \nEngine_Horsepower                                              NaN   \nHydraulics                                                 2 Valve   \nPushblock                                                      NaN   \nRipper                                                         NaN   \nScarifier                                                      NaN   \nTip_Control                                                    NaN   \nTire_Size                                      None or Unspecified   \nCoupler                                        None or Unspecified   \nCoupler_System                                                 NaN   \nGrouser_Tracks                                                 NaN   \nHydraulics_Flow                                                NaN   \nTrack_Type                                                     NaN   \nUndercarriage_Pad_Width                                        NaN   \nStick_Length                                                   NaN   \nThumb                                                          NaN   \nPattern_Changer                                                NaN   \nGrouser_Type                                                   NaN   \nBackhoe_Mounting                                               NaN   \nBlade_Type                                                     NaN   \nTravel_Controls                                                NaN   \nDifferential_Type                                         Standard   \nSteering_Controls                                     Conventional   \nsaleYear                                                      1989   \nsaleMonth                                                        1   \nsaleDay                                                         31   \nsaleDayofweek                                                    1   \nsaleDayofyear                                                   31   \n\n                                                                          2  \\\nSalesID                                                             1505138   \nSalePrice                                                           50000.0   \nMachineID                                                           1473654   \nModelID                                                                4139   \ndatasource                                                              132   \nauctioneerID                                                           99.0   \nYearMade                                                               1978   \nMachineHoursCurrentMeter                                                NaN   \nUsageBand                                                               NaN   \nfiModelDesc                                                             D7G   \nfiBaseModel                                                              D7   \nfiSecondaryDesc                                                           G   \nfiModelSeries                                                           NaN   \nfiModelDescriptor                                                       NaN   \nProductSize                                                           Large   \nfiProductClassDesc        Track Type Tractor, Dozer - 190.0 to 260.0 Hor...   \nstate                                                               Florida   \nProductGroup                                                            TTT   \nProductGroupDesc                                        Track Type Tractors   \nDrive_System                                                            NaN   \nEnclosure                                                             OROPS   \nForks                                                                   NaN   \nPad_Type                                                                NaN   \nRide_Control                                                            NaN   \nStick                                                                   NaN   \nTransmission                                                       Standard   \nTurbocharged                                                            NaN   \nBlade_Extension                                                         NaN   \nBlade_Width                                                             NaN   \nEnclosure_Type                                                          NaN   \nEngine_Horsepower                                                       NaN   \nHydraulics                                                          2 Valve   \nPushblock                                                               NaN   \nRipper                                                  None or Unspecified   \nScarifier                                                               NaN   \nTip_Control                                                             NaN   \nTire_Size                                                               NaN   \nCoupler                                                                 NaN   \nCoupler_System                                                          NaN   \nGrouser_Tracks                                                          NaN   \nHydraulics_Flow                                                         NaN   \nTrack_Type                                                              NaN   \nUndercarriage_Pad_Width                                                 NaN   \nStick_Length                                                            NaN   \nThumb                                                                   NaN   \nPattern_Changer                                                         NaN   \nGrouser_Type                                                            NaN   \nBackhoe_Mounting                                        None or Unspecified   \nBlade_Type                                                         Straight   \nTravel_Controls                                         None or Unspecified   \nDifferential_Type                                                       NaN   \nSteering_Controls                                                       NaN   \nsaleYear                                                               1989   \nsaleMonth                                                                 1   \nsaleDay                                                                  31   \nsaleDayofweek                                                             1   \nsaleDayofyear                                                            31   \n\n                                                    3  \\\nSalesID                                       1671174   \nSalePrice                                     16000.0   \nMachineID                                     1327630   \nModelID                                          8591   \ndatasource                                        132   \nauctioneerID                                     99.0   \nYearMade                                         1980   \nMachineHoursCurrentMeter                          NaN   \nUsageBand                                         NaN   \nfiModelDesc                                       A62   \nfiBaseModel                                       A62   \nfiSecondaryDesc                                   NaN   \nfiModelSeries                                     NaN   \nfiModelDescriptor                                 NaN   \nProductSize                                       NaN   \nfiProductClassDesc        Wheel Loader - Unidentified   \nstate                                         Florida   \nProductGroup                                       WL   \nProductGroupDesc                         Wheel Loader   \nDrive_System                                      NaN   \nEnclosure                                       EROPS   \nForks                             None or Unspecified   \nPad_Type                                          NaN   \nRide_Control                      None or Unspecified   \nStick                                             NaN   \nTransmission                                      NaN   \nTurbocharged                                      NaN   \nBlade_Extension                                   NaN   \nBlade_Width                                       NaN   \nEnclosure_Type                                    NaN   \nEngine_Horsepower                                 NaN   \nHydraulics                                    2 Valve   \nPushblock                                         NaN   \nRipper                                            NaN   \nScarifier                                         NaN   \nTip_Control                                       NaN   \nTire_Size                         None or Unspecified   \nCoupler                           None or Unspecified   \nCoupler_System                                    NaN   \nGrouser_Tracks                                    NaN   \nHydraulics_Flow                                   NaN   \nTrack_Type                                        NaN   \nUndercarriage_Pad_Width                           NaN   \nStick_Length                                      NaN   \nThumb                                             NaN   \nPattern_Changer                                   NaN   \nGrouser_Type                                      NaN   \nBackhoe_Mounting                                  NaN   \nBlade_Type                                        NaN   \nTravel_Controls                                   NaN   \nDifferential_Type                            Standard   \nSteering_Controls                        Conventional   \nsaleYear                                         1989   \nsaleMonth                                           1   \nsaleDay                                            31   \nsaleDayofweek                                       1   \nsaleDayofyear                                      31   \n\n                                                                          4  \nSalesID                                                             1329056  \nSalePrice                                                           22000.0  \nMachineID                                                           1336053  \nModelID                                                                4089  \ndatasource                                                              132  \nauctioneerID                                                           99.0  \nYearMade                                                               1984  \nMachineHoursCurrentMeter                                                NaN  \nUsageBand                                                               NaN  \nfiModelDesc                                                             D3B  \nfiBaseModel                                                              D3  \nfiSecondaryDesc                                                           B  \nfiModelSeries                                                           NaN  \nfiModelDescriptor                                                       NaN  \nProductSize                                                             NaN  \nfiProductClassDesc        Track Type Tractor, Dozer - 20.0 to 75.0 Horse...  \nstate                                                               Florida  \nProductGroup                                                            TTT  \nProductGroupDesc                                        Track Type Tractors  \nDrive_System                                                            NaN  \nEnclosure                                                             OROPS  \nForks                                                                   NaN  \nPad_Type                                                                NaN  \nRide_Control                                                            NaN  \nStick                                                                   NaN  \nTransmission                                                       Standard  \nTurbocharged                                                            NaN  \nBlade_Extension                                                         NaN  \nBlade_Width                                                             NaN  \nEnclosure_Type                                                          NaN  \nEngine_Horsepower                                                       NaN  \nHydraulics                                                          2 Valve  \nPushblock                                                               NaN  \nRipper                                                  None or Unspecified  \nScarifier                                                               NaN  \nTip_Control                                                             NaN  \nTire_Size                                                               NaN  \nCoupler                                                                 NaN  \nCoupler_System                                                          NaN  \nGrouser_Tracks                                                          NaN  \nHydraulics_Flow                                                         NaN  \nTrack_Type                                                              NaN  \nUndercarriage_Pad_Width                                                 NaN  \nStick_Length                                                            NaN  \nThumb                                                                   NaN  \nPattern_Changer                                                         NaN  \nGrouser_Type                                                            NaN  \nBackhoe_Mounting                                        None or Unspecified  \nBlade_Type                                                              PAT  \nTravel_Controls                                                       Lever  \nDifferential_Type                                                       NaN  \nSteering_Controls                                                       NaN  \nsaleYear                                                               1989  \nsaleMonth                                                                 1  \nsaleDay                                                                  31  \nsaleDayofweek                                                             1  \nsaleDayofyear                                                            31  ",
      "text/html": "<div>\n<style scoped>\n    .dataframe tbody tr th:only-of-type {\n        vertical-align: middle;\n    }\n\n    .dataframe tbody tr th {\n        vertical-align: top;\n    }\n\n    .dataframe thead th {\n        text-align: right;\n    }\n</style>\n<table border=\"1\" class=\"dataframe\">\n  <thead>\n    <tr style=\"text-align: right;\">\n      <th></th>\n      <th>0</th>\n      <th>1</th>\n      <th>2</th>\n      <th>3</th>\n      <th>4</th>\n    </tr>\n  </thead>\n  <tbody>\n    <tr>\n      <th>SalesID</th>\n      <td>1646770</td>\n      <td>1821514</td>\n      <td>1505138</td>\n      <td>1671174</td>\n      <td>1329056</td>\n    </tr>\n    <tr>\n      <th>SalePrice</th>\n      <td>9500.0</td>\n      <td>14000.0</td>\n      <td>50000.0</td>\n      <td>16000.0</td>\n      <td>22000.0</td>\n    </tr>\n    <tr>\n      <th>MachineID</th>\n      <td>1126363</td>\n      <td>1194089</td>\n      <td>1473654</td>\n      <td>1327630</td>\n      <td>1336053</td>\n    </tr>\n    <tr>\n      <th>ModelID</th>\n      <td>8434</td>\n      <td>10150</td>\n      <td>4139</td>\n      <td>8591</td>\n      <td>4089</td>\n    </tr>\n    <tr>\n      <th>datasource</th>\n      <td>132</td>\n      <td>132</td>\n      <td>132</td>\n      <td>132</td>\n      <td>132</td>\n    </tr>\n    <tr>\n      <th>auctioneerID</th>\n      <td>18.0</td>\n      <td>99.0</td>\n      <td>99.0</td>\n      <td>99.0</td>\n      <td>99.0</td>\n    </tr>\n    <tr>\n      <th>YearMade</th>\n      <td>1974</td>\n      <td>1980</td>\n      <td>1978</td>\n      <td>1980</td>\n      <td>1984</td>\n    </tr>\n    <tr>\n      <th>MachineHoursCurrentMeter</th>\n      <td>NaN</td>\n      <td>NaN</td>\n      <td>NaN</td>\n      <td>NaN</td>\n      <td>NaN</td>\n    </tr>\n    <tr>\n      <th>UsageBand</th>\n      <td>NaN</td>\n      <td>NaN</td>\n      <td>NaN</td>\n      <td>NaN</td>\n      <td>NaN</td>\n    </tr>\n    <tr>\n      <th>fiModelDesc</th>\n      <td>TD20</td>\n      <td>A66</td>\n      <td>D7G</td>\n      <td>A62</td>\n      <td>D3B</td>\n    </tr>\n    <tr>\n      <th>fiBaseModel</th>\n      <td>TD20</td>\n      <td>A66</td>\n      <td>D7</td>\n      <td>A62</td>\n      <td>D3</td>\n    </tr>\n    <tr>\n      <th>fiSecondaryDesc</th>\n      <td>NaN</td>\n      <td>NaN</td>\n      <td>G</td>\n      <td>NaN</td>\n      <td>B</td>\n    </tr>\n    <tr>\n      <th>fiModelSeries</th>\n      <td>NaN</td>\n      <td>NaN</td>\n      <td>NaN</td>\n      <td>NaN</td>\n      <td>NaN</td>\n    </tr>\n    <tr>\n      <th>fiModelDescriptor</th>\n      <td>NaN</td>\n      <td>NaN</td>\n      <td>NaN</td>\n      <td>NaN</td>\n      <td>NaN</td>\n    </tr>\n    <tr>\n      <th>ProductSize</th>\n      <td>Medium</td>\n      <td>NaN</td>\n      <td>Large</td>\n      <td>NaN</td>\n      <td>NaN</td>\n    </tr>\n    <tr>\n      <th>fiProductClassDesc</th>\n      <td>Track Type Tractor, Dozer - 105.0 to 130.0 Hor...</td>\n      <td>Wheel Loader - 120.0 to 135.0 Horsepower</td>\n      <td>Track Type Tractor, Dozer - 190.0 to 260.0 Hor...</td>\n      <td>Wheel Loader - Unidentified</td>\n      <td>Track Type Tractor, Dozer - 20.0 to 75.0 Horse...</td>\n    </tr>\n    <tr>\n      <th>state</th>\n      <td>Texas</td>\n      <td>Florida</td>\n      <td>Florida</td>\n      <td>Florida</td>\n      <td>Florida</td>\n    </tr>\n    <tr>\n      <th>ProductGroup</th>\n      <td>TTT</td>\n      <td>WL</td>\n      <td>TTT</td>\n      <td>WL</td>\n      <td>TTT</td>\n    </tr>\n    <tr>\n      <th>ProductGroupDesc</th>\n      <td>Track Type Tractors</td>\n      <td>Wheel Loader</td>\n      <td>Track Type Tractors</td>\n      <td>Wheel Loader</td>\n      <td>Track Type Tractors</td>\n    </tr>\n    <tr>\n      <th>Drive_System</th>\n      <td>NaN</td>\n      <td>NaN</td>\n      <td>NaN</td>\n      <td>NaN</td>\n      <td>NaN</td>\n    </tr>\n    <tr>\n      <th>Enclosure</th>\n      <td>OROPS</td>\n      <td>OROPS</td>\n      <td>OROPS</td>\n      <td>EROPS</td>\n      <td>OROPS</td>\n    </tr>\n    <tr>\n      <th>Forks</th>\n      <td>NaN</td>\n      <td>None or Unspecified</td>\n      <td>NaN</td>\n      <td>None or Unspecified</td>\n      <td>NaN</td>\n    </tr>\n    <tr>\n      <th>Pad_Type</th>\n      <td>NaN</td>\n      <td>NaN</td>\n      <td>NaN</td>\n      <td>NaN</td>\n      <td>NaN</td>\n    </tr>\n    <tr>\n      <th>Ride_Control</th>\n      <td>NaN</td>\n      <td>None or Unspecified</td>\n      <td>NaN</td>\n      <td>None or Unspecified</td>\n      <td>NaN</td>\n    </tr>\n    <tr>\n      <th>Stick</th>\n      <td>NaN</td>\n      <td>NaN</td>\n      <td>NaN</td>\n      <td>NaN</td>\n      <td>NaN</td>\n    </tr>\n    <tr>\n      <th>Transmission</th>\n      <td>Direct Drive</td>\n      <td>NaN</td>\n      <td>Standard</td>\n      <td>NaN</td>\n      <td>Standard</td>\n    </tr>\n    <tr>\n      <th>Turbocharged</th>\n      <td>NaN</td>\n      <td>NaN</td>\n      <td>NaN</td>\n      <td>NaN</td>\n      <td>NaN</td>\n    </tr>\n    <tr>\n      <th>Blade_Extension</th>\n      <td>NaN</td>\n      <td>NaN</td>\n      <td>NaN</td>\n      <td>NaN</td>\n      <td>NaN</td>\n    </tr>\n    <tr>\n      <th>Blade_Width</th>\n      <td>NaN</td>\n      <td>NaN</td>\n      <td>NaN</td>\n      <td>NaN</td>\n      <td>NaN</td>\n    </tr>\n    <tr>\n      <th>Enclosure_Type</th>\n      <td>NaN</td>\n      <td>NaN</td>\n      <td>NaN</td>\n      <td>NaN</td>\n      <td>NaN</td>\n    </tr>\n    <tr>\n      <th>Engine_Horsepower</th>\n      <td>NaN</td>\n      <td>NaN</td>\n      <td>NaN</td>\n      <td>NaN</td>\n      <td>NaN</td>\n    </tr>\n    <tr>\n      <th>Hydraulics</th>\n      <td>2 Valve</td>\n      <td>2 Valve</td>\n      <td>2 Valve</td>\n      <td>2 Valve</td>\n      <td>2 Valve</td>\n    </tr>\n    <tr>\n      <th>Pushblock</th>\n      <td>NaN</td>\n      <td>NaN</td>\n      <td>NaN</td>\n      <td>NaN</td>\n      <td>NaN</td>\n    </tr>\n    <tr>\n      <th>Ripper</th>\n      <td>None or Unspecified</td>\n      <td>NaN</td>\n      <td>None or Unspecified</td>\n      <td>NaN</td>\n      <td>None or Unspecified</td>\n    </tr>\n    <tr>\n      <th>Scarifier</th>\n      <td>NaN</td>\n      <td>NaN</td>\n      <td>NaN</td>\n      <td>NaN</td>\n      <td>NaN</td>\n    </tr>\n    <tr>\n      <th>Tip_Control</th>\n      <td>NaN</td>\n      <td>NaN</td>\n      <td>NaN</td>\n      <td>NaN</td>\n      <td>NaN</td>\n    </tr>\n    <tr>\n      <th>Tire_Size</th>\n      <td>NaN</td>\n      <td>None or Unspecified</td>\n      <td>NaN</td>\n      <td>None or Unspecified</td>\n      <td>NaN</td>\n    </tr>\n    <tr>\n      <th>Coupler</th>\n      <td>NaN</td>\n      <td>None or Unspecified</td>\n      <td>NaN</td>\n      <td>None or Unspecified</td>\n      <td>NaN</td>\n    </tr>\n    <tr>\n      <th>Coupler_System</th>\n      <td>NaN</td>\n      <td>NaN</td>\n      <td>NaN</td>\n      <td>NaN</td>\n      <td>NaN</td>\n    </tr>\n    <tr>\n      <th>Grouser_Tracks</th>\n      <td>NaN</td>\n      <td>NaN</td>\n      <td>NaN</td>\n      <td>NaN</td>\n      <td>NaN</td>\n    </tr>\n    <tr>\n      <th>Hydraulics_Flow</th>\n      <td>NaN</td>\n      <td>NaN</td>\n      <td>NaN</td>\n      <td>NaN</td>\n      <td>NaN</td>\n    </tr>\n    <tr>\n      <th>Track_Type</th>\n      <td>NaN</td>\n      <td>NaN</td>\n      <td>NaN</td>\n      <td>NaN</td>\n      <td>NaN</td>\n    </tr>\n    <tr>\n      <th>Undercarriage_Pad_Width</th>\n      <td>NaN</td>\n      <td>NaN</td>\n      <td>NaN</td>\n      <td>NaN</td>\n      <td>NaN</td>\n    </tr>\n    <tr>\n      <th>Stick_Length</th>\n      <td>NaN</td>\n      <td>NaN</td>\n      <td>NaN</td>\n      <td>NaN</td>\n      <td>NaN</td>\n    </tr>\n    <tr>\n      <th>Thumb</th>\n      <td>NaN</td>\n      <td>NaN</td>\n      <td>NaN</td>\n      <td>NaN</td>\n      <td>NaN</td>\n    </tr>\n    <tr>\n      <th>Pattern_Changer</th>\n      <td>NaN</td>\n      <td>NaN</td>\n      <td>NaN</td>\n      <td>NaN</td>\n      <td>NaN</td>\n    </tr>\n    <tr>\n      <th>Grouser_Type</th>\n      <td>NaN</td>\n      <td>NaN</td>\n      <td>NaN</td>\n      <td>NaN</td>\n      <td>NaN</td>\n    </tr>\n    <tr>\n      <th>Backhoe_Mounting</th>\n      <td>None or Unspecified</td>\n      <td>NaN</td>\n      <td>None or Unspecified</td>\n      <td>NaN</td>\n      <td>None or Unspecified</td>\n    </tr>\n    <tr>\n      <th>Blade_Type</th>\n      <td>Straight</td>\n      <td>NaN</td>\n      <td>Straight</td>\n      <td>NaN</td>\n      <td>PAT</td>\n    </tr>\n    <tr>\n      <th>Travel_Controls</th>\n      <td>None or Unspecified</td>\n      <td>NaN</td>\n      <td>None or Unspecified</td>\n      <td>NaN</td>\n      <td>Lever</td>\n    </tr>\n    <tr>\n      <th>Differential_Type</th>\n      <td>NaN</td>\n      <td>Standard</td>\n      <td>NaN</td>\n      <td>Standard</td>\n      <td>NaN</td>\n    </tr>\n    <tr>\n      <th>Steering_Controls</th>\n      <td>NaN</td>\n      <td>Conventional</td>\n      <td>NaN</td>\n      <td>Conventional</td>\n      <td>NaN</td>\n    </tr>\n    <tr>\n      <th>saleYear</th>\n      <td>1989</td>\n      <td>1989</td>\n      <td>1989</td>\n      <td>1989</td>\n      <td>1989</td>\n    </tr>\n    <tr>\n      <th>saleMonth</th>\n      <td>1</td>\n      <td>1</td>\n      <td>1</td>\n      <td>1</td>\n      <td>1</td>\n    </tr>\n    <tr>\n      <th>saleDay</th>\n      <td>17</td>\n      <td>31</td>\n      <td>31</td>\n      <td>31</td>\n      <td>31</td>\n    </tr>\n    <tr>\n      <th>saleDayofweek</th>\n      <td>1</td>\n      <td>1</td>\n      <td>1</td>\n      <td>1</td>\n      <td>1</td>\n    </tr>\n    <tr>\n      <th>saleDayofyear</th>\n      <td>17</td>\n      <td>31</td>\n      <td>31</td>\n      <td>31</td>\n      <td>31</td>\n    </tr>\n  </tbody>\n</table>\n</div>"
     },
     "execution_count": 32,
     "metadata": {},
     "output_type": "execute_result"
    }
   ],
   "source": [
    "# Import preprocessed data\n",
    "df_tmp = pd.read_csv(\"../data/bluebook-for-bulldozers/train_tmp.csv\",\n",
    "                     low_memory=False)\n",
    "df_tmp.head().T"
   ]
  },
  {
   "cell_type": "markdown",
   "metadata": {},
   "source": [
    "Excellent, our processed DataFrame has the columns we added to it but it's still missing values."
   ]
  },
  {
   "cell_type": "code",
   "execution_count": 33,
   "metadata": {
    "ExecuteTime": {
     "end_time": "2024-03-19T19:19:48.282300Z",
     "start_time": "2024-03-19T19:19:48.041053Z"
    }
   },
   "outputs": [
    {
     "data": {
      "text/plain": "SalesID                          0\nSalePrice                        0\nMachineID                        0\nModelID                          0\ndatasource                       0\nauctioneerID                 20136\nYearMade                         0\nMachineHoursCurrentMeter    265194\nUsageBand                   339028\nfiModelDesc                      0\nfiBaseModel                      0\nfiSecondaryDesc             140727\nfiModelSeries               354031\nfiModelDescriptor           337882\nProductSize                 216605\nfiProductClassDesc               0\nstate                            0\nProductGroup                     0\nProductGroupDesc                 0\nDrive_System                305611\nEnclosure                      334\nForks                       214983\nPad_Type                    331602\nRide_Control                259970\nStick                       331602\nTransmission                224691\nTurbocharged                331602\nBlade_Extension             386715\nBlade_Width                 386715\nEnclosure_Type              386715\nEngine_Horsepower           386715\nHydraulics                   82565\nPushblock                   386715\nRipper                      305753\nScarifier                   386704\nTip_Control                 386715\nTire_Size                   315060\nCoupler                     192019\nCoupler_System              367724\nGrouser_Tracks              367823\nHydraulics_Flow             367823\nTrack_Type                  310505\nUndercarriage_Pad_Width     309782\nStick_Length                310437\nThumb                       310366\nPattern_Changer             310437\nGrouser_Type                310505\nBackhoe_Mounting            331986\nBlade_Type                  330823\nTravel_Controls             330821\nDifferential_Type           341134\nSteering_Controls           341176\nsaleYear                         0\nsaleMonth                        0\nsaleDay                          0\nsaleDayofweek                    0\nsaleDayofyear                    0\ndtype: int64"
     },
     "execution_count": 33,
     "metadata": {},
     "output_type": "execute_result"
    }
   ],
   "source": [
    "# Check missing values\n",
    "df_tmp.isna().sum()"
   ]
  },
  {
   "cell_type": "markdown",
   "metadata": {},
   "source": [
    "## Fill missing values\n",
    "\n",
    "From our experience with machine learning models. We know two things:\n",
    "1. All of our data has to be numerical\n",
    "2. There can't be any missing values\n",
    "\n",
    "And as we've seen using `df_tmp.isna().sum()` our data still has plenty of missing values.\n",
    "\n",
    "Let's fill them.\n",
    "\n",
    "### Filling numerical values first\n",
    "\n",
    "We're going to fill any column with missing values with the median of that column."
   ]
  },
  {
   "cell_type": "code",
   "execution_count": 34,
   "metadata": {
    "ExecuteTime": {
     "end_time": "2024-03-19T19:19:48.286093Z",
     "start_time": "2024-03-19T19:19:48.282948Z"
    }
   },
   "outputs": [
    {
     "name": "stdout",
     "output_type": "stream",
     "text": [
      "SalesID\n",
      "SalePrice\n",
      "MachineID\n",
      "ModelID\n",
      "datasource\n",
      "auctioneerID\n",
      "YearMade\n",
      "MachineHoursCurrentMeter\n",
      "saleYear\n",
      "saleMonth\n",
      "saleDay\n",
      "saleDayofweek\n",
      "saleDayofyear\n"
     ]
    }
   ],
   "source": [
    "for label, content in df_tmp.items():\n",
    "    if pd.api.types.is_numeric_dtype(content):\n",
    "        print(label)"
   ]
  },
  {
   "cell_type": "code",
   "execution_count": 35,
   "metadata": {
    "ExecuteTime": {
     "end_time": "2024-03-19T19:19:48.293934Z",
     "start_time": "2024-03-19T19:19:48.286648Z"
    }
   },
   "outputs": [
    {
     "name": "stdout",
     "output_type": "stream",
     "text": [
      "auctioneerID\n",
      "MachineHoursCurrentMeter\n"
     ]
    }
   ],
   "source": [
    "# Check for which numeric columns have null values\n",
    "for label, content in df_tmp.items():\n",
    "    if pd.api.types.is_numeric_dtype(content):\n",
    "        if pd.isnull(content).sum():\n",
    "            print(label)"
   ]
  },
  {
   "cell_type": "code",
   "execution_count": 36,
   "metadata": {
    "ExecuteTime": {
     "end_time": "2024-03-19T19:19:48.308761Z",
     "start_time": "2024-03-19T19:19:48.295668Z"
    }
   },
   "outputs": [],
   "source": [
    "# Fill numeric rows with the median\n",
    "for label, content in df_tmp.items():\n",
    "    if pd.api.types.is_numeric_dtype(content):\n",
    "        if pd.isnull(content).sum():\n",
    "            # Add a binary column which tells if the data was missing our not\n",
    "            df_tmp[label+\"_is_missing\"] = pd.isnull(content)\n",
    "            # Fill missing numeric values with median since it's more robust than the mean\n",
    "            df_tmp[label] = content.fillna(content.median())"
   ]
  },
  {
   "cell_type": "markdown",
   "metadata": {},
   "source": [
    "Why add a binary column indicating whether the data was missing or not?\n",
    "\n",
    "We can easily fill all the missing numeric values in our dataset with the median. However, a numeric value may be missing for a reason. In other words, absence of evidence may be evidence of absence. Adding a binary column which indicates whether the value was missing or not helps to retain this information."
   ]
  },
  {
   "cell_type": "code",
   "execution_count": 37,
   "metadata": {
    "ExecuteTime": {
     "end_time": "2024-03-19T19:19:48.314055Z",
     "start_time": "2024-03-19T19:19:48.309460Z"
    }
   },
   "outputs": [],
   "source": [
    "# Check if there are any null values\n",
    "for label, content in df_tmp.items():\n",
    "    if pd.api.types.is_numeric_dtype(content):\n",
    "        if pd.isnull(content).sum():\n",
    "            print(label)"
   ]
  },
  {
   "cell_type": "code",
   "execution_count": 38,
   "metadata": {
    "ExecuteTime": {
     "end_time": "2024-03-19T19:19:48.318552Z",
     "start_time": "2024-03-19T19:19:48.314752Z"
    }
   },
   "outputs": [
    {
     "data": {
      "text/plain": "auctioneerID_is_missing\nFalse    392562\nTrue      20136\nName: count, dtype: int64"
     },
     "execution_count": 38,
     "metadata": {},
     "output_type": "execute_result"
    }
   ],
   "source": [
    "# Check to see how many examples were missing\n",
    "df_tmp.auctioneerID_is_missing.value_counts()"
   ]
  },
  {
   "cell_type": "markdown",
   "metadata": {},
   "source": [
    "### Filling and turning categorical variables to numbers\n",
    "\n",
    "Now we've filled the numeric values, we'll do the same with the categorical values at the same time as turning them into numbers."
   ]
  },
  {
   "cell_type": "code",
   "execution_count": 39,
   "metadata": {
    "ExecuteTime": {
     "end_time": "2024-03-19T19:19:48.321567Z",
     "start_time": "2024-03-19T19:19:48.319168Z"
    }
   },
   "outputs": [
    {
     "name": "stdout",
     "output_type": "stream",
     "text": [
      "UsageBand\n",
      "fiModelDesc\n",
      "fiBaseModel\n",
      "fiSecondaryDesc\n",
      "fiModelSeries\n",
      "fiModelDescriptor\n",
      "ProductSize\n",
      "fiProductClassDesc\n",
      "state\n",
      "ProductGroup\n",
      "ProductGroupDesc\n",
      "Drive_System\n",
      "Enclosure\n",
      "Forks\n",
      "Pad_Type\n",
      "Ride_Control\n",
      "Stick\n",
      "Transmission\n",
      "Turbocharged\n",
      "Blade_Extension\n",
      "Blade_Width\n",
      "Enclosure_Type\n",
      "Engine_Horsepower\n",
      "Hydraulics\n",
      "Pushblock\n",
      "Ripper\n",
      "Scarifier\n",
      "Tip_Control\n",
      "Tire_Size\n",
      "Coupler\n",
      "Coupler_System\n",
      "Grouser_Tracks\n",
      "Hydraulics_Flow\n",
      "Track_Type\n",
      "Undercarriage_Pad_Width\n",
      "Stick_Length\n",
      "Thumb\n",
      "Pattern_Changer\n",
      "Grouser_Type\n",
      "Backhoe_Mounting\n",
      "Blade_Type\n",
      "Travel_Controls\n",
      "Differential_Type\n",
      "Steering_Controls\n"
     ]
    }
   ],
   "source": [
    "# Check columns which *aren't* numeric\n",
    "for label, content in df_tmp.items():\n",
    "    if not pd.api.types.is_numeric_dtype(content):\n",
    "        print(label)"
   ]
  },
  {
   "cell_type": "code",
   "execution_count": 40,
   "metadata": {
    "ExecuteTime": {
     "end_time": "2024-03-19T19:19:49.134822Z",
     "start_time": "2024-03-19T19:19:48.322257Z"
    }
   },
   "outputs": [],
   "source": [
    "# Turn categorical variables into numbers\n",
    "for label, content in df_tmp.items():\n",
    "    # Check columns which *aren't* numeric\n",
    "    if not pd.api.types.is_numeric_dtype(content):\n",
    "        # Add binary column to indicate whether the sample had missing value\n",
    "        df_tmp[label+\"_is_missing\"] = pd.isnull(content)\n",
    "        # We add the +1 because pandas encodes missing categories as -1\n",
    "        df_tmp[label] = pd.Categorical(content).codes+1        "
   ]
  },
  {
   "cell_type": "code",
   "execution_count": 41,
   "metadata": {
    "ExecuteTime": {
     "end_time": "2024-03-19T19:19:49.143621Z",
     "start_time": "2024-03-19T19:19:49.135857Z"
    }
   },
   "outputs": [
    {
     "name": "stdout",
     "output_type": "stream",
     "text": [
      "<class 'pandas.core.frame.DataFrame'>\n",
      "RangeIndex: 412698 entries, 0 to 412697\n",
      "Columns: 103 entries, SalesID to Steering_Controls_is_missing\n",
      "dtypes: bool(46), float64(3), int16(4), int64(10), int8(40)\n",
      "memory usage: 77.9 MB\n"
     ]
    }
   ],
   "source": [
    "df_tmp.info()"
   ]
  },
  {
   "cell_type": "code",
   "execution_count": 42,
   "metadata": {
    "ExecuteTime": {
     "end_time": "2024-03-19T19:19:49.164618Z",
     "start_time": "2024-03-19T19:19:49.144473Z"
    }
   },
   "outputs": [
    {
     "data": {
      "text/plain": "SalesID                         0\nSalePrice                       0\nMachineID                       0\nModelID                         0\ndatasource                      0\n                               ..\nBackhoe_Mounting_is_missing     0\nBlade_Type_is_missing           0\nTravel_Controls_is_missing      0\nDifferential_Type_is_missing    0\nSteering_Controls_is_missing    0\nLength: 103, dtype: int64"
     },
     "execution_count": 42,
     "metadata": {},
     "output_type": "execute_result"
    }
   ],
   "source": [
    "df_tmp.isna().sum()"
   ]
  },
  {
   "cell_type": "code",
   "execution_count": 43,
   "metadata": {
    "ExecuteTime": {
     "end_time": "2024-03-19T19:19:49.171265Z",
     "start_time": "2024-03-19T19:19:49.165238Z"
    }
   },
   "outputs": [
    {
     "data": {
      "text/plain": "                                    0        1        2        3        4\nSalesID                       1646770  1821514  1505138  1671174  1329056\nSalePrice                      9500.0  14000.0  50000.0  16000.0  22000.0\nMachineID                     1126363  1194089  1473654  1327630  1336053\nModelID                          8434    10150     4139     8591     4089\ndatasource                        132      132      132      132      132\n...                               ...      ...      ...      ...      ...\nBackhoe_Mounting_is_missing     False     True    False     True    False\nBlade_Type_is_missing           False     True    False     True    False\nTravel_Controls_is_missing      False     True    False     True    False\nDifferential_Type_is_missing     True    False     True    False     True\nSteering_Controls_is_missing     True    False     True    False     True\n\n[103 rows x 5 columns]",
      "text/html": "<div>\n<style scoped>\n    .dataframe tbody tr th:only-of-type {\n        vertical-align: middle;\n    }\n\n    .dataframe tbody tr th {\n        vertical-align: top;\n    }\n\n    .dataframe thead th {\n        text-align: right;\n    }\n</style>\n<table border=\"1\" class=\"dataframe\">\n  <thead>\n    <tr style=\"text-align: right;\">\n      <th></th>\n      <th>0</th>\n      <th>1</th>\n      <th>2</th>\n      <th>3</th>\n      <th>4</th>\n    </tr>\n  </thead>\n  <tbody>\n    <tr>\n      <th>SalesID</th>\n      <td>1646770</td>\n      <td>1821514</td>\n      <td>1505138</td>\n      <td>1671174</td>\n      <td>1329056</td>\n    </tr>\n    <tr>\n      <th>SalePrice</th>\n      <td>9500.0</td>\n      <td>14000.0</td>\n      <td>50000.0</td>\n      <td>16000.0</td>\n      <td>22000.0</td>\n    </tr>\n    <tr>\n      <th>MachineID</th>\n      <td>1126363</td>\n      <td>1194089</td>\n      <td>1473654</td>\n      <td>1327630</td>\n      <td>1336053</td>\n    </tr>\n    <tr>\n      <th>ModelID</th>\n      <td>8434</td>\n      <td>10150</td>\n      <td>4139</td>\n      <td>8591</td>\n      <td>4089</td>\n    </tr>\n    <tr>\n      <th>datasource</th>\n      <td>132</td>\n      <td>132</td>\n      <td>132</td>\n      <td>132</td>\n      <td>132</td>\n    </tr>\n    <tr>\n      <th>...</th>\n      <td>...</td>\n      <td>...</td>\n      <td>...</td>\n      <td>...</td>\n      <td>...</td>\n    </tr>\n    <tr>\n      <th>Backhoe_Mounting_is_missing</th>\n      <td>False</td>\n      <td>True</td>\n      <td>False</td>\n      <td>True</td>\n      <td>False</td>\n    </tr>\n    <tr>\n      <th>Blade_Type_is_missing</th>\n      <td>False</td>\n      <td>True</td>\n      <td>False</td>\n      <td>True</td>\n      <td>False</td>\n    </tr>\n    <tr>\n      <th>Travel_Controls_is_missing</th>\n      <td>False</td>\n      <td>True</td>\n      <td>False</td>\n      <td>True</td>\n      <td>False</td>\n    </tr>\n    <tr>\n      <th>Differential_Type_is_missing</th>\n      <td>True</td>\n      <td>False</td>\n      <td>True</td>\n      <td>False</td>\n      <td>True</td>\n    </tr>\n    <tr>\n      <th>Steering_Controls_is_missing</th>\n      <td>True</td>\n      <td>False</td>\n      <td>True</td>\n      <td>False</td>\n      <td>True</td>\n    </tr>\n  </tbody>\n</table>\n<p>103 rows × 5 columns</p>\n</div>"
     },
     "execution_count": 43,
     "metadata": {},
     "output_type": "execute_result"
    }
   ],
   "source": [
    "df_tmp.head().T"
   ]
  },
  {
   "cell_type": "markdown",
   "metadata": {},
   "source": [
    "Now all of our data is numeric, and there are no missing values, we should be able to build a machine learning model!\n",
    "\n",
    "Let's reinstantiate our trusty [RandomForestRegressor](https://scikit-learn.org/stable/modules/generated/sklearn.ensemble.RandomForestRegressor.html).\n",
    "\n",
    "This will take a few minutes that are too long for interacting with it. So what we'll do is create a subset of rows to work with."
   ]
  },
  {
   "cell_type": "code",
   "execution_count": 44,
   "metadata": {
    "ExecuteTime": {
     "end_time": "2024-03-19T19:20:44.266334Z",
     "start_time": "2024-03-19T19:19:49.171972Z"
    }
   },
   "outputs": [
    {
     "name": "stdout",
     "output_type": "stream",
     "text": [
      "CPU times: user 13min 12s, sys: 2.63 s, total: 13min 15s\n",
      "Wall time: 55.1 s\n"
     ]
    },
    {
     "data": {
      "text/plain": "RandomForestRegressor(n_jobs=-1)",
      "text/html": "<style>#sk-container-id-1 {\n  /* Definition of color scheme common for light and dark mode */\n  --sklearn-color-text: black;\n  --sklearn-color-line: gray;\n  /* Definition of color scheme for unfitted estimators */\n  --sklearn-color-unfitted-level-0: #fff5e6;\n  --sklearn-color-unfitted-level-1: #f6e4d2;\n  --sklearn-color-unfitted-level-2: #ffe0b3;\n  --sklearn-color-unfitted-level-3: chocolate;\n  /* Definition of color scheme for fitted estimators */\n  --sklearn-color-fitted-level-0: #f0f8ff;\n  --sklearn-color-fitted-level-1: #d4ebff;\n  --sklearn-color-fitted-level-2: #b3dbfd;\n  --sklearn-color-fitted-level-3: cornflowerblue;\n\n  /* Specific color for light theme */\n  --sklearn-color-text-on-default-background: var(--sg-text-color, var(--theme-code-foreground, var(--jp-content-font-color1, black)));\n  --sklearn-color-background: var(--sg-background-color, var(--theme-background, var(--jp-layout-color0, white)));\n  --sklearn-color-border-box: var(--sg-text-color, var(--theme-code-foreground, var(--jp-content-font-color1, black)));\n  --sklearn-color-icon: #696969;\n\n  @media (prefers-color-scheme: dark) {\n    /* Redefinition of color scheme for dark theme */\n    --sklearn-color-text-on-default-background: var(--sg-text-color, var(--theme-code-foreground, var(--jp-content-font-color1, white)));\n    --sklearn-color-background: var(--sg-background-color, var(--theme-background, var(--jp-layout-color0, #111)));\n    --sklearn-color-border-box: var(--sg-text-color, var(--theme-code-foreground, var(--jp-content-font-color1, white)));\n    --sklearn-color-icon: #878787;\n  }\n}\n\n#sk-container-id-1 {\n  color: var(--sklearn-color-text);\n}\n\n#sk-container-id-1 pre {\n  padding: 0;\n}\n\n#sk-container-id-1 input.sk-hidden--visually {\n  border: 0;\n  clip: rect(1px 1px 1px 1px);\n  clip: rect(1px, 1px, 1px, 1px);\n  height: 1px;\n  margin: -1px;\n  overflow: hidden;\n  padding: 0;\n  position: absolute;\n  width: 1px;\n}\n\n#sk-container-id-1 div.sk-dashed-wrapped {\n  border: 1px dashed var(--sklearn-color-line);\n  margin: 0 0.4em 0.5em 0.4em;\n  box-sizing: border-box;\n  padding-bottom: 0.4em;\n  background-color: var(--sklearn-color-background);\n}\n\n#sk-container-id-1 div.sk-container {\n  /* jupyter's `normalize.less` sets `[hidden] { display: none; }`\n     but bootstrap.min.css set `[hidden] { display: none !important; }`\n     so we also need the `!important` here to be able to override the\n     default hidden behavior on the sphinx rendered scikit-learn.org.\n     See: https://github.com/scikit-learn/scikit-learn/issues/21755 */\n  display: inline-block !important;\n  position: relative;\n}\n\n#sk-container-id-1 div.sk-text-repr-fallback {\n  display: none;\n}\n\ndiv.sk-parallel-item,\ndiv.sk-serial,\ndiv.sk-item {\n  /* draw centered vertical line to link estimators */\n  background-image: linear-gradient(var(--sklearn-color-text-on-default-background), var(--sklearn-color-text-on-default-background));\n  background-size: 2px 100%;\n  background-repeat: no-repeat;\n  background-position: center center;\n}\n\n/* Parallel-specific style estimator block */\n\n#sk-container-id-1 div.sk-parallel-item::after {\n  content: \"\";\n  width: 100%;\n  border-bottom: 2px solid var(--sklearn-color-text-on-default-background);\n  flex-grow: 1;\n}\n\n#sk-container-id-1 div.sk-parallel {\n  display: flex;\n  align-items: stretch;\n  justify-content: center;\n  background-color: var(--sklearn-color-background);\n  position: relative;\n}\n\n#sk-container-id-1 div.sk-parallel-item {\n  display: flex;\n  flex-direction: column;\n}\n\n#sk-container-id-1 div.sk-parallel-item:first-child::after {\n  align-self: flex-end;\n  width: 50%;\n}\n\n#sk-container-id-1 div.sk-parallel-item:last-child::after {\n  align-self: flex-start;\n  width: 50%;\n}\n\n#sk-container-id-1 div.sk-parallel-item:only-child::after {\n  width: 0;\n}\n\n/* Serial-specific style estimator block */\n\n#sk-container-id-1 div.sk-serial {\n  display: flex;\n  flex-direction: column;\n  align-items: center;\n  background-color: var(--sklearn-color-background);\n  padding-right: 1em;\n  padding-left: 1em;\n}\n\n\n/* Toggleable style: style used for estimator/Pipeline/ColumnTransformer box that is\nclickable and can be expanded/collapsed.\n- Pipeline and ColumnTransformer use this feature and define the default style\n- Estimators will overwrite some part of the style using the `sk-estimator` class\n*/\n\n/* Pipeline and ColumnTransformer style (default) */\n\n#sk-container-id-1 div.sk-toggleable {\n  /* Default theme specific background. It is overwritten whether we have a\n  specific estimator or a Pipeline/ColumnTransformer */\n  background-color: var(--sklearn-color-background);\n}\n\n/* Toggleable label */\n#sk-container-id-1 label.sk-toggleable__label {\n  cursor: pointer;\n  display: block;\n  width: 100%;\n  margin-bottom: 0;\n  padding: 0.5em;\n  box-sizing: border-box;\n  text-align: center;\n}\n\n#sk-container-id-1 label.sk-toggleable__label-arrow:before {\n  /* Arrow on the left of the label */\n  content: \"▸\";\n  float: left;\n  margin-right: 0.25em;\n  color: var(--sklearn-color-icon);\n}\n\n#sk-container-id-1 label.sk-toggleable__label-arrow:hover:before {\n  color: var(--sklearn-color-text);\n}\n\n/* Toggleable content - dropdown */\n\n#sk-container-id-1 div.sk-toggleable__content {\n  max-height: 0;\n  max-width: 0;\n  overflow: hidden;\n  text-align: left;\n  /* unfitted */\n  background-color: var(--sklearn-color-unfitted-level-0);\n}\n\n#sk-container-id-1 div.sk-toggleable__content.fitted {\n  /* fitted */\n  background-color: var(--sklearn-color-fitted-level-0);\n}\n\n#sk-container-id-1 div.sk-toggleable__content pre {\n  margin: 0.2em;\n  border-radius: 0.25em;\n  color: var(--sklearn-color-text);\n  /* unfitted */\n  background-color: var(--sklearn-color-unfitted-level-0);\n}\n\n#sk-container-id-1 div.sk-toggleable__content.fitted pre {\n  /* unfitted */\n  background-color: var(--sklearn-color-fitted-level-0);\n}\n\n#sk-container-id-1 input.sk-toggleable__control:checked~div.sk-toggleable__content {\n  /* Expand drop-down */\n  max-height: 200px;\n  max-width: 100%;\n  overflow: auto;\n}\n\n#sk-container-id-1 input.sk-toggleable__control:checked~label.sk-toggleable__label-arrow:before {\n  content: \"▾\";\n}\n\n/* Pipeline/ColumnTransformer-specific style */\n\n#sk-container-id-1 div.sk-label input.sk-toggleable__control:checked~label.sk-toggleable__label {\n  color: var(--sklearn-color-text);\n  background-color: var(--sklearn-color-unfitted-level-2);\n}\n\n#sk-container-id-1 div.sk-label.fitted input.sk-toggleable__control:checked~label.sk-toggleable__label {\n  background-color: var(--sklearn-color-fitted-level-2);\n}\n\n/* Estimator-specific style */\n\n/* Colorize estimator box */\n#sk-container-id-1 div.sk-estimator input.sk-toggleable__control:checked~label.sk-toggleable__label {\n  /* unfitted */\n  background-color: var(--sklearn-color-unfitted-level-2);\n}\n\n#sk-container-id-1 div.sk-estimator.fitted input.sk-toggleable__control:checked~label.sk-toggleable__label {\n  /* fitted */\n  background-color: var(--sklearn-color-fitted-level-2);\n}\n\n#sk-container-id-1 div.sk-label label.sk-toggleable__label,\n#sk-container-id-1 div.sk-label label {\n  /* The background is the default theme color */\n  color: var(--sklearn-color-text-on-default-background);\n}\n\n/* On hover, darken the color of the background */\n#sk-container-id-1 div.sk-label:hover label.sk-toggleable__label {\n  color: var(--sklearn-color-text);\n  background-color: var(--sklearn-color-unfitted-level-2);\n}\n\n/* Label box, darken color on hover, fitted */\n#sk-container-id-1 div.sk-label.fitted:hover label.sk-toggleable__label.fitted {\n  color: var(--sklearn-color-text);\n  background-color: var(--sklearn-color-fitted-level-2);\n}\n\n/* Estimator label */\n\n#sk-container-id-1 div.sk-label label {\n  font-family: monospace;\n  font-weight: bold;\n  display: inline-block;\n  line-height: 1.2em;\n}\n\n#sk-container-id-1 div.sk-label-container {\n  text-align: center;\n}\n\n/* Estimator-specific */\n#sk-container-id-1 div.sk-estimator {\n  font-family: monospace;\n  border: 1px dotted var(--sklearn-color-border-box);\n  border-radius: 0.25em;\n  box-sizing: border-box;\n  margin-bottom: 0.5em;\n  /* unfitted */\n  background-color: var(--sklearn-color-unfitted-level-0);\n}\n\n#sk-container-id-1 div.sk-estimator.fitted {\n  /* fitted */\n  background-color: var(--sklearn-color-fitted-level-0);\n}\n\n/* on hover */\n#sk-container-id-1 div.sk-estimator:hover {\n  /* unfitted */\n  background-color: var(--sklearn-color-unfitted-level-2);\n}\n\n#sk-container-id-1 div.sk-estimator.fitted:hover {\n  /* fitted */\n  background-color: var(--sklearn-color-fitted-level-2);\n}\n\n/* Specification for estimator info (e.g. \"i\" and \"?\") */\n\n/* Common style for \"i\" and \"?\" */\n\n.sk-estimator-doc-link,\na:link.sk-estimator-doc-link,\na:visited.sk-estimator-doc-link {\n  float: right;\n  font-size: smaller;\n  line-height: 1em;\n  font-family: monospace;\n  background-color: var(--sklearn-color-background);\n  border-radius: 1em;\n  height: 1em;\n  width: 1em;\n  text-decoration: none !important;\n  margin-left: 1ex;\n  /* unfitted */\n  border: var(--sklearn-color-unfitted-level-1) 1pt solid;\n  color: var(--sklearn-color-unfitted-level-1);\n}\n\n.sk-estimator-doc-link.fitted,\na:link.sk-estimator-doc-link.fitted,\na:visited.sk-estimator-doc-link.fitted {\n  /* fitted */\n  border: var(--sklearn-color-fitted-level-1) 1pt solid;\n  color: var(--sklearn-color-fitted-level-1);\n}\n\n/* On hover */\ndiv.sk-estimator:hover .sk-estimator-doc-link:hover,\n.sk-estimator-doc-link:hover,\ndiv.sk-label-container:hover .sk-estimator-doc-link:hover,\n.sk-estimator-doc-link:hover {\n  /* unfitted */\n  background-color: var(--sklearn-color-unfitted-level-3);\n  color: var(--sklearn-color-background);\n  text-decoration: none;\n}\n\ndiv.sk-estimator.fitted:hover .sk-estimator-doc-link.fitted:hover,\n.sk-estimator-doc-link.fitted:hover,\ndiv.sk-label-container:hover .sk-estimator-doc-link.fitted:hover,\n.sk-estimator-doc-link.fitted:hover {\n  /* fitted */\n  background-color: var(--sklearn-color-fitted-level-3);\n  color: var(--sklearn-color-background);\n  text-decoration: none;\n}\n\n/* Span, style for the box shown on hovering the info icon */\n.sk-estimator-doc-link span {\n  display: none;\n  z-index: 9999;\n  position: relative;\n  font-weight: normal;\n  right: .2ex;\n  padding: .5ex;\n  margin: .5ex;\n  width: min-content;\n  min-width: 20ex;\n  max-width: 50ex;\n  color: var(--sklearn-color-text);\n  box-shadow: 2pt 2pt 4pt #999;\n  /* unfitted */\n  background: var(--sklearn-color-unfitted-level-0);\n  border: .5pt solid var(--sklearn-color-unfitted-level-3);\n}\n\n.sk-estimator-doc-link.fitted span {\n  /* fitted */\n  background: var(--sklearn-color-fitted-level-0);\n  border: var(--sklearn-color-fitted-level-3);\n}\n\n.sk-estimator-doc-link:hover span {\n  display: block;\n}\n\n/* \"?\"-specific style due to the `<a>` HTML tag */\n\n#sk-container-id-1 a.estimator_doc_link {\n  float: right;\n  font-size: 1rem;\n  line-height: 1em;\n  font-family: monospace;\n  background-color: var(--sklearn-color-background);\n  border-radius: 1rem;\n  height: 1rem;\n  width: 1rem;\n  text-decoration: none;\n  /* unfitted */\n  color: var(--sklearn-color-unfitted-level-1);\n  border: var(--sklearn-color-unfitted-level-1) 1pt solid;\n}\n\n#sk-container-id-1 a.estimator_doc_link.fitted {\n  /* fitted */\n  border: var(--sklearn-color-fitted-level-1) 1pt solid;\n  color: var(--sklearn-color-fitted-level-1);\n}\n\n/* On hover */\n#sk-container-id-1 a.estimator_doc_link:hover {\n  /* unfitted */\n  background-color: var(--sklearn-color-unfitted-level-3);\n  color: var(--sklearn-color-background);\n  text-decoration: none;\n}\n\n#sk-container-id-1 a.estimator_doc_link.fitted:hover {\n  /* fitted */\n  background-color: var(--sklearn-color-fitted-level-3);\n}\n</style><div id=\"sk-container-id-1\" class=\"sk-top-container\"><div class=\"sk-text-repr-fallback\"><pre>RandomForestRegressor(n_jobs=-1)</pre><b>In a Jupyter environment, please rerun this cell to show the HTML representation or trust the notebook. <br />On GitHub, the HTML representation is unable to render, please try loading this page with nbviewer.org.</b></div><div class=\"sk-container\" hidden><div class=\"sk-item\"><div class=\"sk-estimator fitted sk-toggleable\"><input class=\"sk-toggleable__control sk-hidden--visually\" id=\"sk-estimator-id-1\" type=\"checkbox\" checked><label for=\"sk-estimator-id-1\" class=\"sk-toggleable__label fitted sk-toggleable__label-arrow fitted\">&nbsp;&nbsp;RandomForestRegressor<a class=\"sk-estimator-doc-link fitted\" rel=\"noreferrer\" target=\"_blank\" href=\"https://scikit-learn.org/1.4/modules/generated/sklearn.ensemble.RandomForestRegressor.html\">?<span>Documentation for RandomForestRegressor</span></a><span class=\"sk-estimator-doc-link fitted\">i<span>Fitted</span></span></label><div class=\"sk-toggleable__content fitted\"><pre>RandomForestRegressor(n_jobs=-1)</pre></div> </div></div></div></div>"
     },
     "execution_count": 44,
     "metadata": {},
     "output_type": "execute_result"
    }
   ],
   "source": [
    "%%time\n",
    "# Instantiate model\n",
    "model = RandomForestRegressor(n_jobs=-1)\n",
    "\n",
    "# Fit the model\n",
    "model.fit(df_tmp.drop(\"SalePrice\", axis=1), df_tmp.SalePrice)"
   ]
  },
  {
   "cell_type": "code",
   "execution_count": 45,
   "metadata": {
    "ExecuteTime": {
     "end_time": "2024-03-19T19:20:45.829934Z",
     "start_time": "2024-03-19T19:20:44.267145Z"
    }
   },
   "outputs": [
    {
     "data": {
      "text/plain": "0.9875849392070895"
     },
     "execution_count": 45,
     "metadata": {},
     "output_type": "execute_result"
    }
   ],
   "source": [
    "# Score the model\n",
    "model.score(df_tmp.drop(\"SalePrice\", axis=1), df_tmp.SalePrice)"
   ]
  },
  {
   "cell_type": "markdown",
   "metadata": {},
   "source": [
    "**Question:** Why is this metric not reliable?"
   ]
  },
  {
   "cell_type": "markdown",
   "metadata": {},
   "source": [
    "### Splitting data into train/valid sets"
   ]
  },
  {
   "cell_type": "code",
   "execution_count": 46,
   "metadata": {
    "ExecuteTime": {
     "end_time": "2024-03-19T19:20:45.838794Z",
     "start_time": "2024-03-19T19:20:45.830498Z"
    }
   },
   "outputs": [
    {
     "data": {
      "text/plain": "   SalesID  SalePrice  MachineID  ModelID  datasource  auctioneerID  YearMade  \\\n0  1646770     9500.0    1126363     8434         132          18.0      1974   \n1  1821514    14000.0    1194089    10150         132          99.0      1980   \n2  1505138    50000.0    1473654     4139         132          99.0      1978   \n3  1671174    16000.0    1327630     8591         132          99.0      1980   \n4  1329056    22000.0    1336053     4089         132          99.0      1984   \n\n   MachineHoursCurrentMeter  UsageBand  fiModelDesc  ...  \\\n0                       0.0          0         4593  ...   \n1                       0.0          0         1820  ...   \n2                       0.0          0         2348  ...   \n3                       0.0          0         1819  ...   \n4                       0.0          0         2119  ...   \n\n   Undercarriage_Pad_Width_is_missing  Stick_Length_is_missing  \\\n0                                True                     True   \n1                                True                     True   \n2                                True                     True   \n3                                True                     True   \n4                                True                     True   \n\n   Thumb_is_missing  Pattern_Changer_is_missing  Grouser_Type_is_missing  \\\n0              True                        True                     True   \n1              True                        True                     True   \n2              True                        True                     True   \n3              True                        True                     True   \n4              True                        True                     True   \n\n   Backhoe_Mounting_is_missing  Blade_Type_is_missing  \\\n0                        False                  False   \n1                         True                   True   \n2                        False                  False   \n3                         True                   True   \n4                        False                  False   \n\n   Travel_Controls_is_missing  Differential_Type_is_missing  \\\n0                       False                          True   \n1                        True                         False   \n2                       False                          True   \n3                        True                         False   \n4                       False                          True   \n\n   Steering_Controls_is_missing  \n0                          True  \n1                         False  \n2                          True  \n3                         False  \n4                          True  \n\n[5 rows x 103 columns]",
      "text/html": "<div>\n<style scoped>\n    .dataframe tbody tr th:only-of-type {\n        vertical-align: middle;\n    }\n\n    .dataframe tbody tr th {\n        vertical-align: top;\n    }\n\n    .dataframe thead th {\n        text-align: right;\n    }\n</style>\n<table border=\"1\" class=\"dataframe\">\n  <thead>\n    <tr style=\"text-align: right;\">\n      <th></th>\n      <th>SalesID</th>\n      <th>SalePrice</th>\n      <th>MachineID</th>\n      <th>ModelID</th>\n      <th>datasource</th>\n      <th>auctioneerID</th>\n      <th>YearMade</th>\n      <th>MachineHoursCurrentMeter</th>\n      <th>UsageBand</th>\n      <th>fiModelDesc</th>\n      <th>...</th>\n      <th>Undercarriage_Pad_Width_is_missing</th>\n      <th>Stick_Length_is_missing</th>\n      <th>Thumb_is_missing</th>\n      <th>Pattern_Changer_is_missing</th>\n      <th>Grouser_Type_is_missing</th>\n      <th>Backhoe_Mounting_is_missing</th>\n      <th>Blade_Type_is_missing</th>\n      <th>Travel_Controls_is_missing</th>\n      <th>Differential_Type_is_missing</th>\n      <th>Steering_Controls_is_missing</th>\n    </tr>\n  </thead>\n  <tbody>\n    <tr>\n      <th>0</th>\n      <td>1646770</td>\n      <td>9500.0</td>\n      <td>1126363</td>\n      <td>8434</td>\n      <td>132</td>\n      <td>18.0</td>\n      <td>1974</td>\n      <td>0.0</td>\n      <td>0</td>\n      <td>4593</td>\n      <td>...</td>\n      <td>True</td>\n      <td>True</td>\n      <td>True</td>\n      <td>True</td>\n      <td>True</td>\n      <td>False</td>\n      <td>False</td>\n      <td>False</td>\n      <td>True</td>\n      <td>True</td>\n    </tr>\n    <tr>\n      <th>1</th>\n      <td>1821514</td>\n      <td>14000.0</td>\n      <td>1194089</td>\n      <td>10150</td>\n      <td>132</td>\n      <td>99.0</td>\n      <td>1980</td>\n      <td>0.0</td>\n      <td>0</td>\n      <td>1820</td>\n      <td>...</td>\n      <td>True</td>\n      <td>True</td>\n      <td>True</td>\n      <td>True</td>\n      <td>True</td>\n      <td>True</td>\n      <td>True</td>\n      <td>True</td>\n      <td>False</td>\n      <td>False</td>\n    </tr>\n    <tr>\n      <th>2</th>\n      <td>1505138</td>\n      <td>50000.0</td>\n      <td>1473654</td>\n      <td>4139</td>\n      <td>132</td>\n      <td>99.0</td>\n      <td>1978</td>\n      <td>0.0</td>\n      <td>0</td>\n      <td>2348</td>\n      <td>...</td>\n      <td>True</td>\n      <td>True</td>\n      <td>True</td>\n      <td>True</td>\n      <td>True</td>\n      <td>False</td>\n      <td>False</td>\n      <td>False</td>\n      <td>True</td>\n      <td>True</td>\n    </tr>\n    <tr>\n      <th>3</th>\n      <td>1671174</td>\n      <td>16000.0</td>\n      <td>1327630</td>\n      <td>8591</td>\n      <td>132</td>\n      <td>99.0</td>\n      <td>1980</td>\n      <td>0.0</td>\n      <td>0</td>\n      <td>1819</td>\n      <td>...</td>\n      <td>True</td>\n      <td>True</td>\n      <td>True</td>\n      <td>True</td>\n      <td>True</td>\n      <td>True</td>\n      <td>True</td>\n      <td>True</td>\n      <td>False</td>\n      <td>False</td>\n    </tr>\n    <tr>\n      <th>4</th>\n      <td>1329056</td>\n      <td>22000.0</td>\n      <td>1336053</td>\n      <td>4089</td>\n      <td>132</td>\n      <td>99.0</td>\n      <td>1984</td>\n      <td>0.0</td>\n      <td>0</td>\n      <td>2119</td>\n      <td>...</td>\n      <td>True</td>\n      <td>True</td>\n      <td>True</td>\n      <td>True</td>\n      <td>True</td>\n      <td>False</td>\n      <td>False</td>\n      <td>False</td>\n      <td>True</td>\n      <td>True</td>\n    </tr>\n  </tbody>\n</table>\n<p>5 rows × 103 columns</p>\n</div>"
     },
     "execution_count": 46,
     "metadata": {},
     "output_type": "execute_result"
    }
   ],
   "source": [
    "df_tmp.head()"
   ]
  },
  {
   "cell_type": "markdown",
   "metadata": {},
   "source": [
    "According to the [Kaggle data page](https://www.kaggle.com/c/bluebook-for-bulldozers/data), the validation set and test set are split according to dates.\n",
    "\n",
    "This makes sense since we're working on a time series problem.\n",
    "\n",
    "E.g., using past events to try and predict future events.\n",
    "\n",
    "Knowing this, randomly splitting our data into train and test sets using something like `train_test_split()` wouldn't work.\n",
    "\n",
    "Instead, we split our data into training, validation and test sets using the date each sample occurred.\n",
    "\n",
    "In our case:\n",
    "* Training = all samples up until 2011\n",
    "* Valid = all samples form January 1, 2012 - April 30, 2012\n",
    "* Test = all samples from May 1, 2012 - November 2012\n",
    "\n",
    "For more on making good training, validation and test sets, check out the post [How (and why) to create a good validation set](https://www.fast.ai/2017/11/13/validation-sets/) by Rachel Thomas."
   ]
  },
  {
   "cell_type": "code",
   "execution_count": 47,
   "metadata": {
    "ExecuteTime": {
     "end_time": "2024-03-19T19:20:45.847643Z",
     "start_time": "2024-03-19T19:20:45.839502Z"
    }
   },
   "outputs": [
    {
     "data": {
      "text/plain": "saleYear\n2009    43849\n2008    39767\n2011    35197\n2010    33390\n2007    32208\n2006    21685\n2005    20463\n2004    19879\n2001    17594\n2000    17415\n2002    17246\n2003    15254\n1998    13046\n1999    12793\n2012    11573\n1997     9785\n1996     8829\n1995     8530\n1994     7929\n1993     6303\n1992     5519\n1991     5109\n1989     4806\n1990     4529\nName: count, dtype: int64"
     },
     "execution_count": 47,
     "metadata": {},
     "output_type": "execute_result"
    }
   ],
   "source": [
    "df_tmp.saleYear.value_counts()"
   ]
  },
  {
   "cell_type": "code",
   "execution_count": 48,
   "metadata": {
    "ExecuteTime": {
     "end_time": "2024-03-19T19:20:45.937045Z",
     "start_time": "2024-03-19T19:20:45.848246Z"
    }
   },
   "outputs": [
    {
     "data": {
      "text/plain": "(11573, 401125)"
     },
     "execution_count": 48,
     "metadata": {},
     "output_type": "execute_result"
    }
   ],
   "source": [
    "# Split data into training and validation\n",
    "df_val = df_tmp[df_tmp.saleYear == 2012]\n",
    "df_train = df_tmp[df_tmp.saleYear != 2012]\n",
    "\n",
    "len(df_val), len(df_train)"
   ]
  },
  {
   "cell_type": "code",
   "execution_count": 49,
   "metadata": {
    "ExecuteTime": {
     "end_time": "2024-03-19T19:20:45.981210Z",
     "start_time": "2024-03-19T19:20:45.937738Z"
    }
   },
   "outputs": [
    {
     "data": {
      "text/plain": "((401125, 102), (401125,), (11573, 102), (11573,))"
     },
     "execution_count": 49,
     "metadata": {},
     "output_type": "execute_result"
    }
   ],
   "source": [
    "# Split data into X & y\n",
    "X_train, y_train = df_train.drop(\"SalePrice\", axis=1), df_train.SalePrice\n",
    "X_valid, y_valid = df_val.drop(\"SalePrice\", axis=1), df_val.SalePrice\n",
    "\n",
    "X_train.shape, y_train.shape, X_valid.shape, y_valid.shape"
   ]
  },
  {
   "cell_type": "markdown",
   "metadata": {},
   "source": [
    "### Building an evaluation function\n",
    "\n",
    "According to Kaggle for the Bluebook for Bulldozers competition, [the evaluation function](https://www.kaggle.com/c/bluebook-for-bulldozers/overview/evaluation) they use is root mean squared log error (RMSLE).\n",
    "\n",
    "**RMSLE** = generally you don't care as much if you're off by $10 as much as you'd care if you were off by 10%, you care more about ratios rather than differences. **MAE** (mean absolute error) is more about exact differences.\n",
    "\n",
    "It's important to understand the evaluation metric you're going for.\n",
    "\n",
    "Since Scikit-Learn doesn't have a function built-in for RMSLE, we'll create our own.\n",
    "\n",
    "We can do this by taking the square root of Scikit-Learn's [mean_squared_log_error](https://scikit-learn.org/stable/modules/generated/sklearn.metrics.mean_squared_log_error.html#sklearn.metrics.mean_squared_log_error) (MSLE). MSLE is the same as taking the log of mean squared error (MSE).\n",
    "\n",
    "We'll also calculate the MAE and R^2 for fun."
   ]
  },
  {
   "cell_type": "code",
   "execution_count": 50,
   "metadata": {
    "ExecuteTime": {
     "end_time": "2024-03-19T19:20:45.984524Z",
     "start_time": "2024-03-19T19:20:45.981930Z"
    }
   },
   "outputs": [],
   "source": [
    "# Create evaluation function (the competition uses Root Mean Square Log Error)\n",
    "from sklearn.metrics import mean_squared_log_error, mean_absolute_error\n",
    "\n",
    "def rmsle(y_test, y_preds):\n",
    "    return np.sqrt(mean_squared_log_error(y_test, y_preds))\n",
    "\n",
    "# Create function to evaluate our model\n",
    "def show_scores(model_to_be_evaluated):\n",
    "    train_preds = model_to_be_evaluated.predict(X_train)\n",
    "    val_preds = model_to_be_evaluated.predict(X_valid)\n",
    "    scores = {\"Training MAE\": mean_absolute_error(y_train, train_preds),\n",
    "              \"Valid MAE\": mean_absolute_error(y_valid, val_preds),\n",
    "              \"Training RMSLE\": rmsle(y_train, train_preds),\n",
    "              \"Valid RMSLE\": rmsle(y_valid, val_preds),\n",
    "              \"Training R^2\": model_to_be_evaluated.score(X_train, y_train),\n",
    "              \"Valid R^2\": model_to_be_evaluated.score(X_valid, y_valid)}\n",
    "    return scores"
   ]
  },
  {
   "cell_type": "markdown",
   "metadata": {},
   "source": [
    "### Testing our model on a subset (to tune the hyperparameters)\n",
    "\n",
    "Retraining an entire model would take far too long to continue experimenting as fast as we want to.\n",
    "\n",
    "So what we'll do is take a sample of the training set and tune the hyperparameters on that before training a larger model.\n",
    "\n",
    "If you're experiments are taking longer than 10-seconds (give or take how long you have to wait), you should be trying to speed things up. You can speed things up by sampling less data or using a faster computer."
   ]
  },
  {
   "cell_type": "code",
   "execution_count": 51,
   "metadata": {
    "ExecuteTime": {
     "end_time": "2024-03-19T19:20:45.987580Z",
     "start_time": "2024-03-19T19:20:45.985403Z"
    }
   },
   "outputs": [],
   "source": [
    "# This takes too long...\n",
    "\n",
    "# %%time\n",
    "# # Retrain a model on training data\n",
    "# model.fit(X_train, y_train)\n",
    "# show_scores(model)"
   ]
  },
  {
   "cell_type": "code",
   "execution_count": 52,
   "metadata": {
    "ExecuteTime": {
     "end_time": "2024-03-19T19:20:45.991159Z",
     "start_time": "2024-03-19T19:20:45.988268Z"
    }
   },
   "outputs": [
    {
     "data": {
      "text/plain": "401125"
     },
     "execution_count": 52,
     "metadata": {},
     "output_type": "execute_result"
    }
   ],
   "source": [
    "len(X_train)"
   ]
  },
  {
   "cell_type": "markdown",
   "metadata": {},
   "source": [
    "Depending on your computer (mine is HP Victus), making calculations on ~400,000 rows may take a while...\n",
    "\n",
    "Let's alter the number of samples each `n_estimator` in the [`RandomForestRegressor`](https://scikit-learn.org/stable/modules/generated/sklearn.ensemble.RandomForestRegressor.html) see's using the `max_samples` parameter."
   ]
  },
  {
   "cell_type": "code",
   "execution_count": 53,
   "metadata": {
    "ExecuteTime": {
     "end_time": "2024-03-19T19:20:45.993700Z",
     "start_time": "2024-03-19T19:20:45.991990Z"
    }
   },
   "outputs": [],
   "source": [
    "# Change max samples in RandomForestRegressor\n",
    "model = RandomForestRegressor(n_jobs=-1,\n",
    "                              max_samples=10000)"
   ]
  },
  {
   "cell_type": "markdown",
   "metadata": {},
   "source": [
    "Setting `max_samples` to 10000 means every `n_estimator` (default 100) in our `RandomForestRegressor` will only see 10000 random samples from our DataFrame instead of the entire 400,000.\n",
    "\n",
    "In other words, we'll be looking at 40x fewer samples that mean we'll get faster computation speeds, but we should expect our results to worsen (simple model has fewer samples to learn patterns from)."
   ]
  },
  {
   "cell_type": "code",
   "execution_count": 54,
   "metadata": {
    "ExecuteTime": {
     "end_time": "2024-03-19T19:20:48.213125Z",
     "start_time": "2024-03-19T19:20:45.994505Z"
    }
   },
   "outputs": [
    {
     "name": "stdout",
     "output_type": "stream",
     "text": [
      "CPU times: user 24.9 s, sys: 65.3 ms, total: 25 s\n",
      "Wall time: 2.21 s\n"
     ]
    },
    {
     "data": {
      "text/plain": "RandomForestRegressor(max_samples=10000, n_jobs=-1)",
      "text/html": "<style>#sk-container-id-2 {\n  /* Definition of color scheme common for light and dark mode */\n  --sklearn-color-text: black;\n  --sklearn-color-line: gray;\n  /* Definition of color scheme for unfitted estimators */\n  --sklearn-color-unfitted-level-0: #fff5e6;\n  --sklearn-color-unfitted-level-1: #f6e4d2;\n  --sklearn-color-unfitted-level-2: #ffe0b3;\n  --sklearn-color-unfitted-level-3: chocolate;\n  /* Definition of color scheme for fitted estimators */\n  --sklearn-color-fitted-level-0: #f0f8ff;\n  --sklearn-color-fitted-level-1: #d4ebff;\n  --sklearn-color-fitted-level-2: #b3dbfd;\n  --sklearn-color-fitted-level-3: cornflowerblue;\n\n  /* Specific color for light theme */\n  --sklearn-color-text-on-default-background: var(--sg-text-color, var(--theme-code-foreground, var(--jp-content-font-color1, black)));\n  --sklearn-color-background: var(--sg-background-color, var(--theme-background, var(--jp-layout-color0, white)));\n  --sklearn-color-border-box: var(--sg-text-color, var(--theme-code-foreground, var(--jp-content-font-color1, black)));\n  --sklearn-color-icon: #696969;\n\n  @media (prefers-color-scheme: dark) {\n    /* Redefinition of color scheme for dark theme */\n    --sklearn-color-text-on-default-background: var(--sg-text-color, var(--theme-code-foreground, var(--jp-content-font-color1, white)));\n    --sklearn-color-background: var(--sg-background-color, var(--theme-background, var(--jp-layout-color0, #111)));\n    --sklearn-color-border-box: var(--sg-text-color, var(--theme-code-foreground, var(--jp-content-font-color1, white)));\n    --sklearn-color-icon: #878787;\n  }\n}\n\n#sk-container-id-2 {\n  color: var(--sklearn-color-text);\n}\n\n#sk-container-id-2 pre {\n  padding: 0;\n}\n\n#sk-container-id-2 input.sk-hidden--visually {\n  border: 0;\n  clip: rect(1px 1px 1px 1px);\n  clip: rect(1px, 1px, 1px, 1px);\n  height: 1px;\n  margin: -1px;\n  overflow: hidden;\n  padding: 0;\n  position: absolute;\n  width: 1px;\n}\n\n#sk-container-id-2 div.sk-dashed-wrapped {\n  border: 1px dashed var(--sklearn-color-line);\n  margin: 0 0.4em 0.5em 0.4em;\n  box-sizing: border-box;\n  padding-bottom: 0.4em;\n  background-color: var(--sklearn-color-background);\n}\n\n#sk-container-id-2 div.sk-container {\n  /* jupyter's `normalize.less` sets `[hidden] { display: none; }`\n     but bootstrap.min.css set `[hidden] { display: none !important; }`\n     so we also need the `!important` here to be able to override the\n     default hidden behavior on the sphinx rendered scikit-learn.org.\n     See: https://github.com/scikit-learn/scikit-learn/issues/21755 */\n  display: inline-block !important;\n  position: relative;\n}\n\n#sk-container-id-2 div.sk-text-repr-fallback {\n  display: none;\n}\n\ndiv.sk-parallel-item,\ndiv.sk-serial,\ndiv.sk-item {\n  /* draw centered vertical line to link estimators */\n  background-image: linear-gradient(var(--sklearn-color-text-on-default-background), var(--sklearn-color-text-on-default-background));\n  background-size: 2px 100%;\n  background-repeat: no-repeat;\n  background-position: center center;\n}\n\n/* Parallel-specific style estimator block */\n\n#sk-container-id-2 div.sk-parallel-item::after {\n  content: \"\";\n  width: 100%;\n  border-bottom: 2px solid var(--sklearn-color-text-on-default-background);\n  flex-grow: 1;\n}\n\n#sk-container-id-2 div.sk-parallel {\n  display: flex;\n  align-items: stretch;\n  justify-content: center;\n  background-color: var(--sklearn-color-background);\n  position: relative;\n}\n\n#sk-container-id-2 div.sk-parallel-item {\n  display: flex;\n  flex-direction: column;\n}\n\n#sk-container-id-2 div.sk-parallel-item:first-child::after {\n  align-self: flex-end;\n  width: 50%;\n}\n\n#sk-container-id-2 div.sk-parallel-item:last-child::after {\n  align-self: flex-start;\n  width: 50%;\n}\n\n#sk-container-id-2 div.sk-parallel-item:only-child::after {\n  width: 0;\n}\n\n/* Serial-specific style estimator block */\n\n#sk-container-id-2 div.sk-serial {\n  display: flex;\n  flex-direction: column;\n  align-items: center;\n  background-color: var(--sklearn-color-background);\n  padding-right: 1em;\n  padding-left: 1em;\n}\n\n\n/* Toggleable style: style used for estimator/Pipeline/ColumnTransformer box that is\nclickable and can be expanded/collapsed.\n- Pipeline and ColumnTransformer use this feature and define the default style\n- Estimators will overwrite some part of the style using the `sk-estimator` class\n*/\n\n/* Pipeline and ColumnTransformer style (default) */\n\n#sk-container-id-2 div.sk-toggleable {\n  /* Default theme specific background. It is overwritten whether we have a\n  specific estimator or a Pipeline/ColumnTransformer */\n  background-color: var(--sklearn-color-background);\n}\n\n/* Toggleable label */\n#sk-container-id-2 label.sk-toggleable__label {\n  cursor: pointer;\n  display: block;\n  width: 100%;\n  margin-bottom: 0;\n  padding: 0.5em;\n  box-sizing: border-box;\n  text-align: center;\n}\n\n#sk-container-id-2 label.sk-toggleable__label-arrow:before {\n  /* Arrow on the left of the label */\n  content: \"▸\";\n  float: left;\n  margin-right: 0.25em;\n  color: var(--sklearn-color-icon);\n}\n\n#sk-container-id-2 label.sk-toggleable__label-arrow:hover:before {\n  color: var(--sklearn-color-text);\n}\n\n/* Toggleable content - dropdown */\n\n#sk-container-id-2 div.sk-toggleable__content {\n  max-height: 0;\n  max-width: 0;\n  overflow: hidden;\n  text-align: left;\n  /* unfitted */\n  background-color: var(--sklearn-color-unfitted-level-0);\n}\n\n#sk-container-id-2 div.sk-toggleable__content.fitted {\n  /* fitted */\n  background-color: var(--sklearn-color-fitted-level-0);\n}\n\n#sk-container-id-2 div.sk-toggleable__content pre {\n  margin: 0.2em;\n  border-radius: 0.25em;\n  color: var(--sklearn-color-text);\n  /* unfitted */\n  background-color: var(--sklearn-color-unfitted-level-0);\n}\n\n#sk-container-id-2 div.sk-toggleable__content.fitted pre {\n  /* unfitted */\n  background-color: var(--sklearn-color-fitted-level-0);\n}\n\n#sk-container-id-2 input.sk-toggleable__control:checked~div.sk-toggleable__content {\n  /* Expand drop-down */\n  max-height: 200px;\n  max-width: 100%;\n  overflow: auto;\n}\n\n#sk-container-id-2 input.sk-toggleable__control:checked~label.sk-toggleable__label-arrow:before {\n  content: \"▾\";\n}\n\n/* Pipeline/ColumnTransformer-specific style */\n\n#sk-container-id-2 div.sk-label input.sk-toggleable__control:checked~label.sk-toggleable__label {\n  color: var(--sklearn-color-text);\n  background-color: var(--sklearn-color-unfitted-level-2);\n}\n\n#sk-container-id-2 div.sk-label.fitted input.sk-toggleable__control:checked~label.sk-toggleable__label {\n  background-color: var(--sklearn-color-fitted-level-2);\n}\n\n/* Estimator-specific style */\n\n/* Colorize estimator box */\n#sk-container-id-2 div.sk-estimator input.sk-toggleable__control:checked~label.sk-toggleable__label {\n  /* unfitted */\n  background-color: var(--sklearn-color-unfitted-level-2);\n}\n\n#sk-container-id-2 div.sk-estimator.fitted input.sk-toggleable__control:checked~label.sk-toggleable__label {\n  /* fitted */\n  background-color: var(--sklearn-color-fitted-level-2);\n}\n\n#sk-container-id-2 div.sk-label label.sk-toggleable__label,\n#sk-container-id-2 div.sk-label label {\n  /* The background is the default theme color */\n  color: var(--sklearn-color-text-on-default-background);\n}\n\n/* On hover, darken the color of the background */\n#sk-container-id-2 div.sk-label:hover label.sk-toggleable__label {\n  color: var(--sklearn-color-text);\n  background-color: var(--sklearn-color-unfitted-level-2);\n}\n\n/* Label box, darken color on hover, fitted */\n#sk-container-id-2 div.sk-label.fitted:hover label.sk-toggleable__label.fitted {\n  color: var(--sklearn-color-text);\n  background-color: var(--sklearn-color-fitted-level-2);\n}\n\n/* Estimator label */\n\n#sk-container-id-2 div.sk-label label {\n  font-family: monospace;\n  font-weight: bold;\n  display: inline-block;\n  line-height: 1.2em;\n}\n\n#sk-container-id-2 div.sk-label-container {\n  text-align: center;\n}\n\n/* Estimator-specific */\n#sk-container-id-2 div.sk-estimator {\n  font-family: monospace;\n  border: 1px dotted var(--sklearn-color-border-box);\n  border-radius: 0.25em;\n  box-sizing: border-box;\n  margin-bottom: 0.5em;\n  /* unfitted */\n  background-color: var(--sklearn-color-unfitted-level-0);\n}\n\n#sk-container-id-2 div.sk-estimator.fitted {\n  /* fitted */\n  background-color: var(--sklearn-color-fitted-level-0);\n}\n\n/* on hover */\n#sk-container-id-2 div.sk-estimator:hover {\n  /* unfitted */\n  background-color: var(--sklearn-color-unfitted-level-2);\n}\n\n#sk-container-id-2 div.sk-estimator.fitted:hover {\n  /* fitted */\n  background-color: var(--sklearn-color-fitted-level-2);\n}\n\n/* Specification for estimator info (e.g. \"i\" and \"?\") */\n\n/* Common style for \"i\" and \"?\" */\n\n.sk-estimator-doc-link,\na:link.sk-estimator-doc-link,\na:visited.sk-estimator-doc-link {\n  float: right;\n  font-size: smaller;\n  line-height: 1em;\n  font-family: monospace;\n  background-color: var(--sklearn-color-background);\n  border-radius: 1em;\n  height: 1em;\n  width: 1em;\n  text-decoration: none !important;\n  margin-left: 1ex;\n  /* unfitted */\n  border: var(--sklearn-color-unfitted-level-1) 1pt solid;\n  color: var(--sklearn-color-unfitted-level-1);\n}\n\n.sk-estimator-doc-link.fitted,\na:link.sk-estimator-doc-link.fitted,\na:visited.sk-estimator-doc-link.fitted {\n  /* fitted */\n  border: var(--sklearn-color-fitted-level-1) 1pt solid;\n  color: var(--sklearn-color-fitted-level-1);\n}\n\n/* On hover */\ndiv.sk-estimator:hover .sk-estimator-doc-link:hover,\n.sk-estimator-doc-link:hover,\ndiv.sk-label-container:hover .sk-estimator-doc-link:hover,\n.sk-estimator-doc-link:hover {\n  /* unfitted */\n  background-color: var(--sklearn-color-unfitted-level-3);\n  color: var(--sklearn-color-background);\n  text-decoration: none;\n}\n\ndiv.sk-estimator.fitted:hover .sk-estimator-doc-link.fitted:hover,\n.sk-estimator-doc-link.fitted:hover,\ndiv.sk-label-container:hover .sk-estimator-doc-link.fitted:hover,\n.sk-estimator-doc-link.fitted:hover {\n  /* fitted */\n  background-color: var(--sklearn-color-fitted-level-3);\n  color: var(--sklearn-color-background);\n  text-decoration: none;\n}\n\n/* Span, style for the box shown on hovering the info icon */\n.sk-estimator-doc-link span {\n  display: none;\n  z-index: 9999;\n  position: relative;\n  font-weight: normal;\n  right: .2ex;\n  padding: .5ex;\n  margin: .5ex;\n  width: min-content;\n  min-width: 20ex;\n  max-width: 50ex;\n  color: var(--sklearn-color-text);\n  box-shadow: 2pt 2pt 4pt #999;\n  /* unfitted */\n  background: var(--sklearn-color-unfitted-level-0);\n  border: .5pt solid var(--sklearn-color-unfitted-level-3);\n}\n\n.sk-estimator-doc-link.fitted span {\n  /* fitted */\n  background: var(--sklearn-color-fitted-level-0);\n  border: var(--sklearn-color-fitted-level-3);\n}\n\n.sk-estimator-doc-link:hover span {\n  display: block;\n}\n\n/* \"?\"-specific style due to the `<a>` HTML tag */\n\n#sk-container-id-2 a.estimator_doc_link {\n  float: right;\n  font-size: 1rem;\n  line-height: 1em;\n  font-family: monospace;\n  background-color: var(--sklearn-color-background);\n  border-radius: 1rem;\n  height: 1rem;\n  width: 1rem;\n  text-decoration: none;\n  /* unfitted */\n  color: var(--sklearn-color-unfitted-level-1);\n  border: var(--sklearn-color-unfitted-level-1) 1pt solid;\n}\n\n#sk-container-id-2 a.estimator_doc_link.fitted {\n  /* fitted */\n  border: var(--sklearn-color-fitted-level-1) 1pt solid;\n  color: var(--sklearn-color-fitted-level-1);\n}\n\n/* On hover */\n#sk-container-id-2 a.estimator_doc_link:hover {\n  /* unfitted */\n  background-color: var(--sklearn-color-unfitted-level-3);\n  color: var(--sklearn-color-background);\n  text-decoration: none;\n}\n\n#sk-container-id-2 a.estimator_doc_link.fitted:hover {\n  /* fitted */\n  background-color: var(--sklearn-color-fitted-level-3);\n}\n</style><div id=\"sk-container-id-2\" class=\"sk-top-container\"><div class=\"sk-text-repr-fallback\"><pre>RandomForestRegressor(max_samples=10000, n_jobs=-1)</pre><b>In a Jupyter environment, please rerun this cell to show the HTML representation or trust the notebook. <br />On GitHub, the HTML representation is unable to render, please try loading this page with nbviewer.org.</b></div><div class=\"sk-container\" hidden><div class=\"sk-item\"><div class=\"sk-estimator fitted sk-toggleable\"><input class=\"sk-toggleable__control sk-hidden--visually\" id=\"sk-estimator-id-2\" type=\"checkbox\" checked><label for=\"sk-estimator-id-2\" class=\"sk-toggleable__label fitted sk-toggleable__label-arrow fitted\">&nbsp;&nbsp;RandomForestRegressor<a class=\"sk-estimator-doc-link fitted\" rel=\"noreferrer\" target=\"_blank\" href=\"https://scikit-learn.org/1.4/modules/generated/sklearn.ensemble.RandomForestRegressor.html\">?<span>Documentation for RandomForestRegressor</span></a><span class=\"sk-estimator-doc-link fitted\">i<span>Fitted</span></span></label><div class=\"sk-toggleable__content fitted\"><pre>RandomForestRegressor(max_samples=10000, n_jobs=-1)</pre></div> </div></div></div></div>"
     },
     "execution_count": 54,
     "metadata": {},
     "output_type": "execute_result"
    }
   ],
   "source": [
    "%%time\n",
    "# Cutting down the max number of samples each tree can see improves training time\n",
    "model.fit(X_train, y_train)"
   ]
  },
  {
   "cell_type": "code",
   "execution_count": 55,
   "metadata": {
    "ExecuteTime": {
     "end_time": "2024-03-19T19:20:49.555386Z",
     "start_time": "2024-03-19T19:20:48.214509Z"
    }
   },
   "outputs": [
    {
     "data": {
      "text/plain": "{'Training MAE': 5560.90479578685,\n 'Valid MAE': 7157.402740862352,\n 'Training RMSLE': 0.2578500820621323,\n 'Valid RMSLE': 0.2930231918644025,\n 'Training R^2': 0.8605904654207145,\n 'Valid R^2': 0.8325535757940542}"
     },
     "execution_count": 55,
     "metadata": {},
     "output_type": "execute_result"
    }
   ],
   "source": [
    "show_scores(model)"
   ]
  },
  {
   "cell_type": "markdown",
   "metadata": {},
   "source": [
    "Beautiful, that took far less time than the model with all the data.\n",
    "\n",
    "With this, let's try to tune some hyperparameters."
   ]
  },
  {
   "cell_type": "markdown",
   "metadata": {},
   "source": [
    "### Hyperparameter tuning with RandomizedSearchCV\n",
    "\n",
    "You can increase `n_iter` to try more combinations of hyperparameters but in our case, we'll try 20 and see where it gets us.\n",
    "\n",
    "Remember, we're trying to reduce the amount of time it takes between experiments."
   ]
  },
  {
   "cell_type": "code",
   "execution_count": 56,
   "metadata": {
    "ExecuteTime": {
     "end_time": "2024-03-19T19:24:19.812352Z",
     "start_time": "2024-03-19T19:20:49.556212Z"
    }
   },
   "outputs": [
    {
     "name": "stdout",
     "output_type": "stream",
     "text": [
      "Fitting 5 folds for each of 20 candidates, totalling 100 fits\n",
      "CPU times: user 3min 26s, sys: 3.42 s, total: 3min 30s\n",
      "Wall time: 3min 30s\n"
     ]
    },
    {
     "data": {
      "text/plain": "RandomizedSearchCV(cv=5, estimator=RandomForestRegressor(), n_iter=20,\n                   param_distributions={'max_depth': [None, 3, 5, 10],\n                                        'max_features': [0.5, 1.0, 'sqrt'],\n                                        'max_samples': [10000],\n                                        'min_samples_leaf': array([ 1,  3,  5,  7,  9, 11, 13, 15, 17, 19]),\n                                        'min_samples_split': array([ 2,  4,  6,  8, 10, 12, 14, 16, 18]),\n                                        'n_estimators': array([10, 20, 30, 40, 50, 60, 70, 80, 90])},\n                   verbose=True)",
      "text/html": "<style>#sk-container-id-3 {\n  /* Definition of color scheme common for light and dark mode */\n  --sklearn-color-text: black;\n  --sklearn-color-line: gray;\n  /* Definition of color scheme for unfitted estimators */\n  --sklearn-color-unfitted-level-0: #fff5e6;\n  --sklearn-color-unfitted-level-1: #f6e4d2;\n  --sklearn-color-unfitted-level-2: #ffe0b3;\n  --sklearn-color-unfitted-level-3: chocolate;\n  /* Definition of color scheme for fitted estimators */\n  --sklearn-color-fitted-level-0: #f0f8ff;\n  --sklearn-color-fitted-level-1: #d4ebff;\n  --sklearn-color-fitted-level-2: #b3dbfd;\n  --sklearn-color-fitted-level-3: cornflowerblue;\n\n  /* Specific color for light theme */\n  --sklearn-color-text-on-default-background: var(--sg-text-color, var(--theme-code-foreground, var(--jp-content-font-color1, black)));\n  --sklearn-color-background: var(--sg-background-color, var(--theme-background, var(--jp-layout-color0, white)));\n  --sklearn-color-border-box: var(--sg-text-color, var(--theme-code-foreground, var(--jp-content-font-color1, black)));\n  --sklearn-color-icon: #696969;\n\n  @media (prefers-color-scheme: dark) {\n    /* Redefinition of color scheme for dark theme */\n    --sklearn-color-text-on-default-background: var(--sg-text-color, var(--theme-code-foreground, var(--jp-content-font-color1, white)));\n    --sklearn-color-background: var(--sg-background-color, var(--theme-background, var(--jp-layout-color0, #111)));\n    --sklearn-color-border-box: var(--sg-text-color, var(--theme-code-foreground, var(--jp-content-font-color1, white)));\n    --sklearn-color-icon: #878787;\n  }\n}\n\n#sk-container-id-3 {\n  color: var(--sklearn-color-text);\n}\n\n#sk-container-id-3 pre {\n  padding: 0;\n}\n\n#sk-container-id-3 input.sk-hidden--visually {\n  border: 0;\n  clip: rect(1px 1px 1px 1px);\n  clip: rect(1px, 1px, 1px, 1px);\n  height: 1px;\n  margin: -1px;\n  overflow: hidden;\n  padding: 0;\n  position: absolute;\n  width: 1px;\n}\n\n#sk-container-id-3 div.sk-dashed-wrapped {\n  border: 1px dashed var(--sklearn-color-line);\n  margin: 0 0.4em 0.5em 0.4em;\n  box-sizing: border-box;\n  padding-bottom: 0.4em;\n  background-color: var(--sklearn-color-background);\n}\n\n#sk-container-id-3 div.sk-container {\n  /* jupyter's `normalize.less` sets `[hidden] { display: none; }`\n     but bootstrap.min.css set `[hidden] { display: none !important; }`\n     so we also need the `!important` here to be able to override the\n     default hidden behavior on the sphinx rendered scikit-learn.org.\n     See: https://github.com/scikit-learn/scikit-learn/issues/21755 */\n  display: inline-block !important;\n  position: relative;\n}\n\n#sk-container-id-3 div.sk-text-repr-fallback {\n  display: none;\n}\n\ndiv.sk-parallel-item,\ndiv.sk-serial,\ndiv.sk-item {\n  /* draw centered vertical line to link estimators */\n  background-image: linear-gradient(var(--sklearn-color-text-on-default-background), var(--sklearn-color-text-on-default-background));\n  background-size: 2px 100%;\n  background-repeat: no-repeat;\n  background-position: center center;\n}\n\n/* Parallel-specific style estimator block */\n\n#sk-container-id-3 div.sk-parallel-item::after {\n  content: \"\";\n  width: 100%;\n  border-bottom: 2px solid var(--sklearn-color-text-on-default-background);\n  flex-grow: 1;\n}\n\n#sk-container-id-3 div.sk-parallel {\n  display: flex;\n  align-items: stretch;\n  justify-content: center;\n  background-color: var(--sklearn-color-background);\n  position: relative;\n}\n\n#sk-container-id-3 div.sk-parallel-item {\n  display: flex;\n  flex-direction: column;\n}\n\n#sk-container-id-3 div.sk-parallel-item:first-child::after {\n  align-self: flex-end;\n  width: 50%;\n}\n\n#sk-container-id-3 div.sk-parallel-item:last-child::after {\n  align-self: flex-start;\n  width: 50%;\n}\n\n#sk-container-id-3 div.sk-parallel-item:only-child::after {\n  width: 0;\n}\n\n/* Serial-specific style estimator block */\n\n#sk-container-id-3 div.sk-serial {\n  display: flex;\n  flex-direction: column;\n  align-items: center;\n  background-color: var(--sklearn-color-background);\n  padding-right: 1em;\n  padding-left: 1em;\n}\n\n\n/* Toggleable style: style used for estimator/Pipeline/ColumnTransformer box that is\nclickable and can be expanded/collapsed.\n- Pipeline and ColumnTransformer use this feature and define the default style\n- Estimators will overwrite some part of the style using the `sk-estimator` class\n*/\n\n/* Pipeline and ColumnTransformer style (default) */\n\n#sk-container-id-3 div.sk-toggleable {\n  /* Default theme specific background. It is overwritten whether we have a\n  specific estimator or a Pipeline/ColumnTransformer */\n  background-color: var(--sklearn-color-background);\n}\n\n/* Toggleable label */\n#sk-container-id-3 label.sk-toggleable__label {\n  cursor: pointer;\n  display: block;\n  width: 100%;\n  margin-bottom: 0;\n  padding: 0.5em;\n  box-sizing: border-box;\n  text-align: center;\n}\n\n#sk-container-id-3 label.sk-toggleable__label-arrow:before {\n  /* Arrow on the left of the label */\n  content: \"▸\";\n  float: left;\n  margin-right: 0.25em;\n  color: var(--sklearn-color-icon);\n}\n\n#sk-container-id-3 label.sk-toggleable__label-arrow:hover:before {\n  color: var(--sklearn-color-text);\n}\n\n/* Toggleable content - dropdown */\n\n#sk-container-id-3 div.sk-toggleable__content {\n  max-height: 0;\n  max-width: 0;\n  overflow: hidden;\n  text-align: left;\n  /* unfitted */\n  background-color: var(--sklearn-color-unfitted-level-0);\n}\n\n#sk-container-id-3 div.sk-toggleable__content.fitted {\n  /* fitted */\n  background-color: var(--sklearn-color-fitted-level-0);\n}\n\n#sk-container-id-3 div.sk-toggleable__content pre {\n  margin: 0.2em;\n  border-radius: 0.25em;\n  color: var(--sklearn-color-text);\n  /* unfitted */\n  background-color: var(--sklearn-color-unfitted-level-0);\n}\n\n#sk-container-id-3 div.sk-toggleable__content.fitted pre {\n  /* unfitted */\n  background-color: var(--sklearn-color-fitted-level-0);\n}\n\n#sk-container-id-3 input.sk-toggleable__control:checked~div.sk-toggleable__content {\n  /* Expand drop-down */\n  max-height: 200px;\n  max-width: 100%;\n  overflow: auto;\n}\n\n#sk-container-id-3 input.sk-toggleable__control:checked~label.sk-toggleable__label-arrow:before {\n  content: \"▾\";\n}\n\n/* Pipeline/ColumnTransformer-specific style */\n\n#sk-container-id-3 div.sk-label input.sk-toggleable__control:checked~label.sk-toggleable__label {\n  color: var(--sklearn-color-text);\n  background-color: var(--sklearn-color-unfitted-level-2);\n}\n\n#sk-container-id-3 div.sk-label.fitted input.sk-toggleable__control:checked~label.sk-toggleable__label {\n  background-color: var(--sklearn-color-fitted-level-2);\n}\n\n/* Estimator-specific style */\n\n/* Colorize estimator box */\n#sk-container-id-3 div.sk-estimator input.sk-toggleable__control:checked~label.sk-toggleable__label {\n  /* unfitted */\n  background-color: var(--sklearn-color-unfitted-level-2);\n}\n\n#sk-container-id-3 div.sk-estimator.fitted input.sk-toggleable__control:checked~label.sk-toggleable__label {\n  /* fitted */\n  background-color: var(--sklearn-color-fitted-level-2);\n}\n\n#sk-container-id-3 div.sk-label label.sk-toggleable__label,\n#sk-container-id-3 div.sk-label label {\n  /* The background is the default theme color */\n  color: var(--sklearn-color-text-on-default-background);\n}\n\n/* On hover, darken the color of the background */\n#sk-container-id-3 div.sk-label:hover label.sk-toggleable__label {\n  color: var(--sklearn-color-text);\n  background-color: var(--sklearn-color-unfitted-level-2);\n}\n\n/* Label box, darken color on hover, fitted */\n#sk-container-id-3 div.sk-label.fitted:hover label.sk-toggleable__label.fitted {\n  color: var(--sklearn-color-text);\n  background-color: var(--sklearn-color-fitted-level-2);\n}\n\n/* Estimator label */\n\n#sk-container-id-3 div.sk-label label {\n  font-family: monospace;\n  font-weight: bold;\n  display: inline-block;\n  line-height: 1.2em;\n}\n\n#sk-container-id-3 div.sk-label-container {\n  text-align: center;\n}\n\n/* Estimator-specific */\n#sk-container-id-3 div.sk-estimator {\n  font-family: monospace;\n  border: 1px dotted var(--sklearn-color-border-box);\n  border-radius: 0.25em;\n  box-sizing: border-box;\n  margin-bottom: 0.5em;\n  /* unfitted */\n  background-color: var(--sklearn-color-unfitted-level-0);\n}\n\n#sk-container-id-3 div.sk-estimator.fitted {\n  /* fitted */\n  background-color: var(--sklearn-color-fitted-level-0);\n}\n\n/* on hover */\n#sk-container-id-3 div.sk-estimator:hover {\n  /* unfitted */\n  background-color: var(--sklearn-color-unfitted-level-2);\n}\n\n#sk-container-id-3 div.sk-estimator.fitted:hover {\n  /* fitted */\n  background-color: var(--sklearn-color-fitted-level-2);\n}\n\n/* Specification for estimator info (e.g. \"i\" and \"?\") */\n\n/* Common style for \"i\" and \"?\" */\n\n.sk-estimator-doc-link,\na:link.sk-estimator-doc-link,\na:visited.sk-estimator-doc-link {\n  float: right;\n  font-size: smaller;\n  line-height: 1em;\n  font-family: monospace;\n  background-color: var(--sklearn-color-background);\n  border-radius: 1em;\n  height: 1em;\n  width: 1em;\n  text-decoration: none !important;\n  margin-left: 1ex;\n  /* unfitted */\n  border: var(--sklearn-color-unfitted-level-1) 1pt solid;\n  color: var(--sklearn-color-unfitted-level-1);\n}\n\n.sk-estimator-doc-link.fitted,\na:link.sk-estimator-doc-link.fitted,\na:visited.sk-estimator-doc-link.fitted {\n  /* fitted */\n  border: var(--sklearn-color-fitted-level-1) 1pt solid;\n  color: var(--sklearn-color-fitted-level-1);\n}\n\n/* On hover */\ndiv.sk-estimator:hover .sk-estimator-doc-link:hover,\n.sk-estimator-doc-link:hover,\ndiv.sk-label-container:hover .sk-estimator-doc-link:hover,\n.sk-estimator-doc-link:hover {\n  /* unfitted */\n  background-color: var(--sklearn-color-unfitted-level-3);\n  color: var(--sklearn-color-background);\n  text-decoration: none;\n}\n\ndiv.sk-estimator.fitted:hover .sk-estimator-doc-link.fitted:hover,\n.sk-estimator-doc-link.fitted:hover,\ndiv.sk-label-container:hover .sk-estimator-doc-link.fitted:hover,\n.sk-estimator-doc-link.fitted:hover {\n  /* fitted */\n  background-color: var(--sklearn-color-fitted-level-3);\n  color: var(--sklearn-color-background);\n  text-decoration: none;\n}\n\n/* Span, style for the box shown on hovering the info icon */\n.sk-estimator-doc-link span {\n  display: none;\n  z-index: 9999;\n  position: relative;\n  font-weight: normal;\n  right: .2ex;\n  padding: .5ex;\n  margin: .5ex;\n  width: min-content;\n  min-width: 20ex;\n  max-width: 50ex;\n  color: var(--sklearn-color-text);\n  box-shadow: 2pt 2pt 4pt #999;\n  /* unfitted */\n  background: var(--sklearn-color-unfitted-level-0);\n  border: .5pt solid var(--sklearn-color-unfitted-level-3);\n}\n\n.sk-estimator-doc-link.fitted span {\n  /* fitted */\n  background: var(--sklearn-color-fitted-level-0);\n  border: var(--sklearn-color-fitted-level-3);\n}\n\n.sk-estimator-doc-link:hover span {\n  display: block;\n}\n\n/* \"?\"-specific style due to the `<a>` HTML tag */\n\n#sk-container-id-3 a.estimator_doc_link {\n  float: right;\n  font-size: 1rem;\n  line-height: 1em;\n  font-family: monospace;\n  background-color: var(--sklearn-color-background);\n  border-radius: 1rem;\n  height: 1rem;\n  width: 1rem;\n  text-decoration: none;\n  /* unfitted */\n  color: var(--sklearn-color-unfitted-level-1);\n  border: var(--sklearn-color-unfitted-level-1) 1pt solid;\n}\n\n#sk-container-id-3 a.estimator_doc_link.fitted {\n  /* fitted */\n  border: var(--sklearn-color-fitted-level-1) 1pt solid;\n  color: var(--sklearn-color-fitted-level-1);\n}\n\n/* On hover */\n#sk-container-id-3 a.estimator_doc_link:hover {\n  /* unfitted */\n  background-color: var(--sklearn-color-unfitted-level-3);\n  color: var(--sklearn-color-background);\n  text-decoration: none;\n}\n\n#sk-container-id-3 a.estimator_doc_link.fitted:hover {\n  /* fitted */\n  background-color: var(--sklearn-color-fitted-level-3);\n}\n</style><div id=\"sk-container-id-3\" class=\"sk-top-container\"><div class=\"sk-text-repr-fallback\"><pre>RandomizedSearchCV(cv=5, estimator=RandomForestRegressor(), n_iter=20,\n                   param_distributions={&#x27;max_depth&#x27;: [None, 3, 5, 10],\n                                        &#x27;max_features&#x27;: [0.5, 1.0, &#x27;sqrt&#x27;],\n                                        &#x27;max_samples&#x27;: [10000],\n                                        &#x27;min_samples_leaf&#x27;: array([ 1,  3,  5,  7,  9, 11, 13, 15, 17, 19]),\n                                        &#x27;min_samples_split&#x27;: array([ 2,  4,  6,  8, 10, 12, 14, 16, 18]),\n                                        &#x27;n_estimators&#x27;: array([10, 20, 30, 40, 50, 60, 70, 80, 90])},\n                   verbose=True)</pre><b>In a Jupyter environment, please rerun this cell to show the HTML representation or trust the notebook. <br />On GitHub, the HTML representation is unable to render, please try loading this page with nbviewer.org.</b></div><div class=\"sk-container\" hidden><div class=\"sk-item sk-dashed-wrapped\"><div class=\"sk-label-container\"><div class=\"sk-label fitted sk-toggleable\"><input class=\"sk-toggleable__control sk-hidden--visually\" id=\"sk-estimator-id-3\" type=\"checkbox\" ><label for=\"sk-estimator-id-3\" class=\"sk-toggleable__label fitted sk-toggleable__label-arrow fitted\">&nbsp;&nbsp;RandomizedSearchCV<a class=\"sk-estimator-doc-link fitted\" rel=\"noreferrer\" target=\"_blank\" href=\"https://scikit-learn.org/1.4/modules/generated/sklearn.model_selection.RandomizedSearchCV.html\">?<span>Documentation for RandomizedSearchCV</span></a><span class=\"sk-estimator-doc-link fitted\">i<span>Fitted</span></span></label><div class=\"sk-toggleable__content fitted\"><pre>RandomizedSearchCV(cv=5, estimator=RandomForestRegressor(), n_iter=20,\n                   param_distributions={&#x27;max_depth&#x27;: [None, 3, 5, 10],\n                                        &#x27;max_features&#x27;: [0.5, 1.0, &#x27;sqrt&#x27;],\n                                        &#x27;max_samples&#x27;: [10000],\n                                        &#x27;min_samples_leaf&#x27;: array([ 1,  3,  5,  7,  9, 11, 13, 15, 17, 19]),\n                                        &#x27;min_samples_split&#x27;: array([ 2,  4,  6,  8, 10, 12, 14, 16, 18]),\n                                        &#x27;n_estimators&#x27;: array([10, 20, 30, 40, 50, 60, 70, 80, 90])},\n                   verbose=True)</pre></div> </div></div><div class=\"sk-parallel\"><div class=\"sk-parallel-item\"><div class=\"sk-item\"><div class=\"sk-label-container\"><div class=\"sk-label fitted sk-toggleable\"><input class=\"sk-toggleable__control sk-hidden--visually\" id=\"sk-estimator-id-4\" type=\"checkbox\" ><label for=\"sk-estimator-id-4\" class=\"sk-toggleable__label fitted sk-toggleable__label-arrow fitted\">estimator: RandomForestRegressor</label><div class=\"sk-toggleable__content fitted\"><pre>RandomForestRegressor()</pre></div> </div></div><div class=\"sk-serial\"><div class=\"sk-item\"><div class=\"sk-estimator fitted sk-toggleable\"><input class=\"sk-toggleable__control sk-hidden--visually\" id=\"sk-estimator-id-5\" type=\"checkbox\" ><label for=\"sk-estimator-id-5\" class=\"sk-toggleable__label fitted sk-toggleable__label-arrow fitted\">&nbsp;RandomForestRegressor<a class=\"sk-estimator-doc-link fitted\" rel=\"noreferrer\" target=\"_blank\" href=\"https://scikit-learn.org/1.4/modules/generated/sklearn.ensemble.RandomForestRegressor.html\">?<span>Documentation for RandomForestRegressor</span></a></label><div class=\"sk-toggleable__content fitted\"><pre>RandomForestRegressor()</pre></div> </div></div></div></div></div></div></div></div></div>"
     },
     "execution_count": 56,
     "metadata": {},
     "output_type": "execute_result"
    }
   ],
   "source": [
    "%%time\n",
    "from sklearn.model_selection import RandomizedSearchCV\n",
    "\n",
    "# Different RandomForestClassifier hyperparameters\n",
    "rf_grid = {\"n_estimators\": np.arange(10, 100, 10),\n",
    "           \"max_depth\": [None, 3, 5, 10],\n",
    "           \"min_samples_split\": np.arange(2, 20, 2),\n",
    "           \"min_samples_leaf\": np.arange(1, 20, 2),\n",
    "           \"max_features\": [0.5, 1.0, \"sqrt\"], # Note: \"max_features='auto'\" is equivalent to \"max_features=1.0\", as of Scikit-Learn version 1.1\n",
    "           \"max_samples\": [10000]}\n",
    "\n",
    "rs_model = RandomizedSearchCV(RandomForestRegressor(),\n",
    "                              param_distributions=rf_grid,\n",
    "                              n_iter=20,\n",
    "                              cv=5,\n",
    "                              verbose=True)\n",
    "\n",
    "rs_model.fit(X_train, y_train)"
   ]
  },
  {
   "cell_type": "code",
   "execution_count": 57,
   "metadata": {
    "ExecuteTime": {
     "end_time": "2024-03-19T19:24:19.815125Z",
     "start_time": "2024-03-19T19:24:19.812977Z"
    }
   },
   "outputs": [
    {
     "data": {
      "text/plain": "{'n_estimators': 60,\n 'min_samples_split': 2,\n 'min_samples_leaf': 3,\n 'max_samples': 10000,\n 'max_features': 1.0,\n 'max_depth': None}"
     },
     "execution_count": 57,
     "metadata": {},
     "output_type": "execute_result"
    }
   ],
   "source": [
    "# Find the best parameters from the RandomizedSearch \n",
    "rs_model.best_params_"
   ]
  },
  {
   "cell_type": "code",
   "execution_count": 58,
   "metadata": {
    "ExecuteTime": {
     "end_time": "2024-03-19T19:24:23.729159Z",
     "start_time": "2024-03-19T19:24:19.815665Z"
    }
   },
   "outputs": [
    {
     "data": {
      "text/plain": "{'Training MAE': 5651.842482498034,\n 'Valid MAE': 7202.036218661663,\n 'Training RMSLE': 0.260448725724464,\n 'Valid RMSLE': 0.2927707863671589,\n 'Training R^2': 0.8540998176349219,\n 'Valid R^2': 0.8263389287586167}"
     },
     "execution_count": 58,
     "metadata": {},
     "output_type": "execute_result"
    }
   ],
   "source": [
    "# Evaluate the RandomizedSearch model\n",
    "show_scores(rs_model)"
   ]
  },
  {
   "cell_type": "markdown",
   "metadata": {},
   "source": [
    "### Train a model with the best parameters\n",
    "\n",
    "In a model I prepared earlier, I tried 100 different combinations of hyperparameters (setting `n_iter` to 100 in `RandomizedSearchCV`) and found the best results came from the ones you see below.\n",
    "\n",
    "**Note:** This kind of search on my computer (`n_iter` = 100) took ~2-hours. So it's kind of a set and come back later experiment.\n",
    "\n",
    "We'll instantiate a new model with these discovered hyperparameters and reset the `max_samples` back to its original value."
   ]
  },
  {
   "cell_type": "code",
   "execution_count": 59,
   "metadata": {
    "ExecuteTime": {
     "end_time": "2024-03-19T19:24:47.009390Z",
     "start_time": "2024-03-19T19:24:23.729829Z"
    }
   },
   "outputs": [
    {
     "name": "stdout",
     "output_type": "stream",
     "text": [
      "CPU times: user 5min 36s, sys: 652 ms, total: 5min 37s\n",
      "Wall time: 23.3 s\n"
     ]
    },
    {
     "data": {
      "text/plain": "RandomForestRegressor(max_features=0.5, min_samples_split=14, n_estimators=90,\n                      n_jobs=-1)",
      "text/html": "<style>#sk-container-id-4 {\n  /* Definition of color scheme common for light and dark mode */\n  --sklearn-color-text: black;\n  --sklearn-color-line: gray;\n  /* Definition of color scheme for unfitted estimators */\n  --sklearn-color-unfitted-level-0: #fff5e6;\n  --sklearn-color-unfitted-level-1: #f6e4d2;\n  --sklearn-color-unfitted-level-2: #ffe0b3;\n  --sklearn-color-unfitted-level-3: chocolate;\n  /* Definition of color scheme for fitted estimators */\n  --sklearn-color-fitted-level-0: #f0f8ff;\n  --sklearn-color-fitted-level-1: #d4ebff;\n  --sklearn-color-fitted-level-2: #b3dbfd;\n  --sklearn-color-fitted-level-3: cornflowerblue;\n\n  /* Specific color for light theme */\n  --sklearn-color-text-on-default-background: var(--sg-text-color, var(--theme-code-foreground, var(--jp-content-font-color1, black)));\n  --sklearn-color-background: var(--sg-background-color, var(--theme-background, var(--jp-layout-color0, white)));\n  --sklearn-color-border-box: var(--sg-text-color, var(--theme-code-foreground, var(--jp-content-font-color1, black)));\n  --sklearn-color-icon: #696969;\n\n  @media (prefers-color-scheme: dark) {\n    /* Redefinition of color scheme for dark theme */\n    --sklearn-color-text-on-default-background: var(--sg-text-color, var(--theme-code-foreground, var(--jp-content-font-color1, white)));\n    --sklearn-color-background: var(--sg-background-color, var(--theme-background, var(--jp-layout-color0, #111)));\n    --sklearn-color-border-box: var(--sg-text-color, var(--theme-code-foreground, var(--jp-content-font-color1, white)));\n    --sklearn-color-icon: #878787;\n  }\n}\n\n#sk-container-id-4 {\n  color: var(--sklearn-color-text);\n}\n\n#sk-container-id-4 pre {\n  padding: 0;\n}\n\n#sk-container-id-4 input.sk-hidden--visually {\n  border: 0;\n  clip: rect(1px 1px 1px 1px);\n  clip: rect(1px, 1px, 1px, 1px);\n  height: 1px;\n  margin: -1px;\n  overflow: hidden;\n  padding: 0;\n  position: absolute;\n  width: 1px;\n}\n\n#sk-container-id-4 div.sk-dashed-wrapped {\n  border: 1px dashed var(--sklearn-color-line);\n  margin: 0 0.4em 0.5em 0.4em;\n  box-sizing: border-box;\n  padding-bottom: 0.4em;\n  background-color: var(--sklearn-color-background);\n}\n\n#sk-container-id-4 div.sk-container {\n  /* jupyter's `normalize.less` sets `[hidden] { display: none; }`\n     but bootstrap.min.css set `[hidden] { display: none !important; }`\n     so we also need the `!important` here to be able to override the\n     default hidden behavior on the sphinx rendered scikit-learn.org.\n     See: https://github.com/scikit-learn/scikit-learn/issues/21755 */\n  display: inline-block !important;\n  position: relative;\n}\n\n#sk-container-id-4 div.sk-text-repr-fallback {\n  display: none;\n}\n\ndiv.sk-parallel-item,\ndiv.sk-serial,\ndiv.sk-item {\n  /* draw centered vertical line to link estimators */\n  background-image: linear-gradient(var(--sklearn-color-text-on-default-background), var(--sklearn-color-text-on-default-background));\n  background-size: 2px 100%;\n  background-repeat: no-repeat;\n  background-position: center center;\n}\n\n/* Parallel-specific style estimator block */\n\n#sk-container-id-4 div.sk-parallel-item::after {\n  content: \"\";\n  width: 100%;\n  border-bottom: 2px solid var(--sklearn-color-text-on-default-background);\n  flex-grow: 1;\n}\n\n#sk-container-id-4 div.sk-parallel {\n  display: flex;\n  align-items: stretch;\n  justify-content: center;\n  background-color: var(--sklearn-color-background);\n  position: relative;\n}\n\n#sk-container-id-4 div.sk-parallel-item {\n  display: flex;\n  flex-direction: column;\n}\n\n#sk-container-id-4 div.sk-parallel-item:first-child::after {\n  align-self: flex-end;\n  width: 50%;\n}\n\n#sk-container-id-4 div.sk-parallel-item:last-child::after {\n  align-self: flex-start;\n  width: 50%;\n}\n\n#sk-container-id-4 div.sk-parallel-item:only-child::after {\n  width: 0;\n}\n\n/* Serial-specific style estimator block */\n\n#sk-container-id-4 div.sk-serial {\n  display: flex;\n  flex-direction: column;\n  align-items: center;\n  background-color: var(--sklearn-color-background);\n  padding-right: 1em;\n  padding-left: 1em;\n}\n\n\n/* Toggleable style: style used for estimator/Pipeline/ColumnTransformer box that is\nclickable and can be expanded/collapsed.\n- Pipeline and ColumnTransformer use this feature and define the default style\n- Estimators will overwrite some part of the style using the `sk-estimator` class\n*/\n\n/* Pipeline and ColumnTransformer style (default) */\n\n#sk-container-id-4 div.sk-toggleable {\n  /* Default theme specific background. It is overwritten whether we have a\n  specific estimator or a Pipeline/ColumnTransformer */\n  background-color: var(--sklearn-color-background);\n}\n\n/* Toggleable label */\n#sk-container-id-4 label.sk-toggleable__label {\n  cursor: pointer;\n  display: block;\n  width: 100%;\n  margin-bottom: 0;\n  padding: 0.5em;\n  box-sizing: border-box;\n  text-align: center;\n}\n\n#sk-container-id-4 label.sk-toggleable__label-arrow:before {\n  /* Arrow on the left of the label */\n  content: \"▸\";\n  float: left;\n  margin-right: 0.25em;\n  color: var(--sklearn-color-icon);\n}\n\n#sk-container-id-4 label.sk-toggleable__label-arrow:hover:before {\n  color: var(--sklearn-color-text);\n}\n\n/* Toggleable content - dropdown */\n\n#sk-container-id-4 div.sk-toggleable__content {\n  max-height: 0;\n  max-width: 0;\n  overflow: hidden;\n  text-align: left;\n  /* unfitted */\n  background-color: var(--sklearn-color-unfitted-level-0);\n}\n\n#sk-container-id-4 div.sk-toggleable__content.fitted {\n  /* fitted */\n  background-color: var(--sklearn-color-fitted-level-0);\n}\n\n#sk-container-id-4 div.sk-toggleable__content pre {\n  margin: 0.2em;\n  border-radius: 0.25em;\n  color: var(--sklearn-color-text);\n  /* unfitted */\n  background-color: var(--sklearn-color-unfitted-level-0);\n}\n\n#sk-container-id-4 div.sk-toggleable__content.fitted pre {\n  /* unfitted */\n  background-color: var(--sklearn-color-fitted-level-0);\n}\n\n#sk-container-id-4 input.sk-toggleable__control:checked~div.sk-toggleable__content {\n  /* Expand drop-down */\n  max-height: 200px;\n  max-width: 100%;\n  overflow: auto;\n}\n\n#sk-container-id-4 input.sk-toggleable__control:checked~label.sk-toggleable__label-arrow:before {\n  content: \"▾\";\n}\n\n/* Pipeline/ColumnTransformer-specific style */\n\n#sk-container-id-4 div.sk-label input.sk-toggleable__control:checked~label.sk-toggleable__label {\n  color: var(--sklearn-color-text);\n  background-color: var(--sklearn-color-unfitted-level-2);\n}\n\n#sk-container-id-4 div.sk-label.fitted input.sk-toggleable__control:checked~label.sk-toggleable__label {\n  background-color: var(--sklearn-color-fitted-level-2);\n}\n\n/* Estimator-specific style */\n\n/* Colorize estimator box */\n#sk-container-id-4 div.sk-estimator input.sk-toggleable__control:checked~label.sk-toggleable__label {\n  /* unfitted */\n  background-color: var(--sklearn-color-unfitted-level-2);\n}\n\n#sk-container-id-4 div.sk-estimator.fitted input.sk-toggleable__control:checked~label.sk-toggleable__label {\n  /* fitted */\n  background-color: var(--sklearn-color-fitted-level-2);\n}\n\n#sk-container-id-4 div.sk-label label.sk-toggleable__label,\n#sk-container-id-4 div.sk-label label {\n  /* The background is the default theme color */\n  color: var(--sklearn-color-text-on-default-background);\n}\n\n/* On hover, darken the color of the background */\n#sk-container-id-4 div.sk-label:hover label.sk-toggleable__label {\n  color: var(--sklearn-color-text);\n  background-color: var(--sklearn-color-unfitted-level-2);\n}\n\n/* Label box, darken color on hover, fitted */\n#sk-container-id-4 div.sk-label.fitted:hover label.sk-toggleable__label.fitted {\n  color: var(--sklearn-color-text);\n  background-color: var(--sklearn-color-fitted-level-2);\n}\n\n/* Estimator label */\n\n#sk-container-id-4 div.sk-label label {\n  font-family: monospace;\n  font-weight: bold;\n  display: inline-block;\n  line-height: 1.2em;\n}\n\n#sk-container-id-4 div.sk-label-container {\n  text-align: center;\n}\n\n/* Estimator-specific */\n#sk-container-id-4 div.sk-estimator {\n  font-family: monospace;\n  border: 1px dotted var(--sklearn-color-border-box);\n  border-radius: 0.25em;\n  box-sizing: border-box;\n  margin-bottom: 0.5em;\n  /* unfitted */\n  background-color: var(--sklearn-color-unfitted-level-0);\n}\n\n#sk-container-id-4 div.sk-estimator.fitted {\n  /* fitted */\n  background-color: var(--sklearn-color-fitted-level-0);\n}\n\n/* on hover */\n#sk-container-id-4 div.sk-estimator:hover {\n  /* unfitted */\n  background-color: var(--sklearn-color-unfitted-level-2);\n}\n\n#sk-container-id-4 div.sk-estimator.fitted:hover {\n  /* fitted */\n  background-color: var(--sklearn-color-fitted-level-2);\n}\n\n/* Specification for estimator info (e.g. \"i\" and \"?\") */\n\n/* Common style for \"i\" and \"?\" */\n\n.sk-estimator-doc-link,\na:link.sk-estimator-doc-link,\na:visited.sk-estimator-doc-link {\n  float: right;\n  font-size: smaller;\n  line-height: 1em;\n  font-family: monospace;\n  background-color: var(--sklearn-color-background);\n  border-radius: 1em;\n  height: 1em;\n  width: 1em;\n  text-decoration: none !important;\n  margin-left: 1ex;\n  /* unfitted */\n  border: var(--sklearn-color-unfitted-level-1) 1pt solid;\n  color: var(--sklearn-color-unfitted-level-1);\n}\n\n.sk-estimator-doc-link.fitted,\na:link.sk-estimator-doc-link.fitted,\na:visited.sk-estimator-doc-link.fitted {\n  /* fitted */\n  border: var(--sklearn-color-fitted-level-1) 1pt solid;\n  color: var(--sklearn-color-fitted-level-1);\n}\n\n/* On hover */\ndiv.sk-estimator:hover .sk-estimator-doc-link:hover,\n.sk-estimator-doc-link:hover,\ndiv.sk-label-container:hover .sk-estimator-doc-link:hover,\n.sk-estimator-doc-link:hover {\n  /* unfitted */\n  background-color: var(--sklearn-color-unfitted-level-3);\n  color: var(--sklearn-color-background);\n  text-decoration: none;\n}\n\ndiv.sk-estimator.fitted:hover .sk-estimator-doc-link.fitted:hover,\n.sk-estimator-doc-link.fitted:hover,\ndiv.sk-label-container:hover .sk-estimator-doc-link.fitted:hover,\n.sk-estimator-doc-link.fitted:hover {\n  /* fitted */\n  background-color: var(--sklearn-color-fitted-level-3);\n  color: var(--sklearn-color-background);\n  text-decoration: none;\n}\n\n/* Span, style for the box shown on hovering the info icon */\n.sk-estimator-doc-link span {\n  display: none;\n  z-index: 9999;\n  position: relative;\n  font-weight: normal;\n  right: .2ex;\n  padding: .5ex;\n  margin: .5ex;\n  width: min-content;\n  min-width: 20ex;\n  max-width: 50ex;\n  color: var(--sklearn-color-text);\n  box-shadow: 2pt 2pt 4pt #999;\n  /* unfitted */\n  background: var(--sklearn-color-unfitted-level-0);\n  border: .5pt solid var(--sklearn-color-unfitted-level-3);\n}\n\n.sk-estimator-doc-link.fitted span {\n  /* fitted */\n  background: var(--sklearn-color-fitted-level-0);\n  border: var(--sklearn-color-fitted-level-3);\n}\n\n.sk-estimator-doc-link:hover span {\n  display: block;\n}\n\n/* \"?\"-specific style due to the `<a>` HTML tag */\n\n#sk-container-id-4 a.estimator_doc_link {\n  float: right;\n  font-size: 1rem;\n  line-height: 1em;\n  font-family: monospace;\n  background-color: var(--sklearn-color-background);\n  border-radius: 1rem;\n  height: 1rem;\n  width: 1rem;\n  text-decoration: none;\n  /* unfitted */\n  color: var(--sklearn-color-unfitted-level-1);\n  border: var(--sklearn-color-unfitted-level-1) 1pt solid;\n}\n\n#sk-container-id-4 a.estimator_doc_link.fitted {\n  /* fitted */\n  border: var(--sklearn-color-fitted-level-1) 1pt solid;\n  color: var(--sklearn-color-fitted-level-1);\n}\n\n/* On hover */\n#sk-container-id-4 a.estimator_doc_link:hover {\n  /* unfitted */\n  background-color: var(--sklearn-color-unfitted-level-3);\n  color: var(--sklearn-color-background);\n  text-decoration: none;\n}\n\n#sk-container-id-4 a.estimator_doc_link.fitted:hover {\n  /* fitted */\n  background-color: var(--sklearn-color-fitted-level-3);\n}\n</style><div id=\"sk-container-id-4\" class=\"sk-top-container\"><div class=\"sk-text-repr-fallback\"><pre>RandomForestRegressor(max_features=0.5, min_samples_split=14, n_estimators=90,\n                      n_jobs=-1)</pre><b>In a Jupyter environment, please rerun this cell to show the HTML representation or trust the notebook. <br />On GitHub, the HTML representation is unable to render, please try loading this page with nbviewer.org.</b></div><div class=\"sk-container\" hidden><div class=\"sk-item\"><div class=\"sk-estimator fitted sk-toggleable\"><input class=\"sk-toggleable__control sk-hidden--visually\" id=\"sk-estimator-id-6\" type=\"checkbox\" checked><label for=\"sk-estimator-id-6\" class=\"sk-toggleable__label fitted sk-toggleable__label-arrow fitted\">&nbsp;&nbsp;RandomForestRegressor<a class=\"sk-estimator-doc-link fitted\" rel=\"noreferrer\" target=\"_blank\" href=\"https://scikit-learn.org/1.4/modules/generated/sklearn.ensemble.RandomForestRegressor.html\">?<span>Documentation for RandomForestRegressor</span></a><span class=\"sk-estimator-doc-link fitted\">i<span>Fitted</span></span></label><div class=\"sk-toggleable__content fitted\"><pre>RandomForestRegressor(max_features=0.5, min_samples_split=14, n_estimators=90,\n                      n_jobs=-1)</pre></div> </div></div></div></div>"
     },
     "execution_count": 59,
     "metadata": {},
     "output_type": "execute_result"
    }
   ],
   "source": [
    "%%time\n",
    "# Most ideal hyperparameters\n",
    "ideal_model = RandomForestRegressor(n_estimators=90,\n",
    "                                    min_samples_leaf=1,\n",
    "                                    min_samples_split=14,\n",
    "                                    max_features=0.5,\n",
    "                                    n_jobs=-1,\n",
    "                                    max_samples=None)\n",
    "ideal_model.fit(X_train, y_train)"
   ]
  },
  {
   "cell_type": "code",
   "execution_count": 60,
   "metadata": {
    "ExecuteTime": {
     "end_time": "2024-03-19T19:24:48.596678Z",
     "start_time": "2024-03-19T19:24:47.009942Z"
    }
   },
   "outputs": [
    {
     "data": {
      "text/plain": "{'Training MAE': 2927.7063999965308,\n 'Valid MAE': 5919.209089228304,\n 'Training RMSLE': 0.14343185108226247,\n 'Valid RMSLE': 0.2445705671513886,\n 'Training R^2': 0.9596992797215542,\n 'Valid R^2': 0.8829314906771036}"
     },
     "execution_count": 60,
     "metadata": {},
     "output_type": "execute_result"
    }
   ],
   "source": [
    "show_scores(ideal_model)"
   ]
  },
  {
   "cell_type": "markdown",
   "metadata": {},
   "source": [
    "With these new hyperparameters as well as using all the samples, we can see an improvement to our models performance.\n",
    "\n",
    "You can make a faster model by altering some of the hyperparameters. Particularly by lowering `n_estimators` since each increase in `n_estimators` is basically building another small model.\n",
    "\n",
    "However, lowering of `n_estimators` or altering of other hyperparameters may lead to poorer results."
   ]
  },
  {
   "cell_type": "code",
   "execution_count": 61,
   "metadata": {
    "ExecuteTime": {
     "end_time": "2024-03-19T19:24:59.577894Z",
     "start_time": "2024-03-19T19:24:48.597543Z"
    }
   },
   "outputs": [
    {
     "name": "stdout",
     "output_type": "stream",
     "text": [
      "CPU times: user 2min 23s, sys: 613 ms, total: 2min 24s\n",
      "Wall time: 11 s\n"
     ]
    },
    {
     "data": {
      "text/plain": "RandomForestRegressor(max_features=0.5, min_samples_leaf=3, n_estimators=40,\n                      n_jobs=-1)",
      "text/html": "<style>#sk-container-id-5 {\n  /* Definition of color scheme common for light and dark mode */\n  --sklearn-color-text: black;\n  --sklearn-color-line: gray;\n  /* Definition of color scheme for unfitted estimators */\n  --sklearn-color-unfitted-level-0: #fff5e6;\n  --sklearn-color-unfitted-level-1: #f6e4d2;\n  --sklearn-color-unfitted-level-2: #ffe0b3;\n  --sklearn-color-unfitted-level-3: chocolate;\n  /* Definition of color scheme for fitted estimators */\n  --sklearn-color-fitted-level-0: #f0f8ff;\n  --sklearn-color-fitted-level-1: #d4ebff;\n  --sklearn-color-fitted-level-2: #b3dbfd;\n  --sklearn-color-fitted-level-3: cornflowerblue;\n\n  /* Specific color for light theme */\n  --sklearn-color-text-on-default-background: var(--sg-text-color, var(--theme-code-foreground, var(--jp-content-font-color1, black)));\n  --sklearn-color-background: var(--sg-background-color, var(--theme-background, var(--jp-layout-color0, white)));\n  --sklearn-color-border-box: var(--sg-text-color, var(--theme-code-foreground, var(--jp-content-font-color1, black)));\n  --sklearn-color-icon: #696969;\n\n  @media (prefers-color-scheme: dark) {\n    /* Redefinition of color scheme for dark theme */\n    --sklearn-color-text-on-default-background: var(--sg-text-color, var(--theme-code-foreground, var(--jp-content-font-color1, white)));\n    --sklearn-color-background: var(--sg-background-color, var(--theme-background, var(--jp-layout-color0, #111)));\n    --sklearn-color-border-box: var(--sg-text-color, var(--theme-code-foreground, var(--jp-content-font-color1, white)));\n    --sklearn-color-icon: #878787;\n  }\n}\n\n#sk-container-id-5 {\n  color: var(--sklearn-color-text);\n}\n\n#sk-container-id-5 pre {\n  padding: 0;\n}\n\n#sk-container-id-5 input.sk-hidden--visually {\n  border: 0;\n  clip: rect(1px 1px 1px 1px);\n  clip: rect(1px, 1px, 1px, 1px);\n  height: 1px;\n  margin: -1px;\n  overflow: hidden;\n  padding: 0;\n  position: absolute;\n  width: 1px;\n}\n\n#sk-container-id-5 div.sk-dashed-wrapped {\n  border: 1px dashed var(--sklearn-color-line);\n  margin: 0 0.4em 0.5em 0.4em;\n  box-sizing: border-box;\n  padding-bottom: 0.4em;\n  background-color: var(--sklearn-color-background);\n}\n\n#sk-container-id-5 div.sk-container {\n  /* jupyter's `normalize.less` sets `[hidden] { display: none; }`\n     but bootstrap.min.css set `[hidden] { display: none !important; }`\n     so we also need the `!important` here to be able to override the\n     default hidden behavior on the sphinx rendered scikit-learn.org.\n     See: https://github.com/scikit-learn/scikit-learn/issues/21755 */\n  display: inline-block !important;\n  position: relative;\n}\n\n#sk-container-id-5 div.sk-text-repr-fallback {\n  display: none;\n}\n\ndiv.sk-parallel-item,\ndiv.sk-serial,\ndiv.sk-item {\n  /* draw centered vertical line to link estimators */\n  background-image: linear-gradient(var(--sklearn-color-text-on-default-background), var(--sklearn-color-text-on-default-background));\n  background-size: 2px 100%;\n  background-repeat: no-repeat;\n  background-position: center center;\n}\n\n/* Parallel-specific style estimator block */\n\n#sk-container-id-5 div.sk-parallel-item::after {\n  content: \"\";\n  width: 100%;\n  border-bottom: 2px solid var(--sklearn-color-text-on-default-background);\n  flex-grow: 1;\n}\n\n#sk-container-id-5 div.sk-parallel {\n  display: flex;\n  align-items: stretch;\n  justify-content: center;\n  background-color: var(--sklearn-color-background);\n  position: relative;\n}\n\n#sk-container-id-5 div.sk-parallel-item {\n  display: flex;\n  flex-direction: column;\n}\n\n#sk-container-id-5 div.sk-parallel-item:first-child::after {\n  align-self: flex-end;\n  width: 50%;\n}\n\n#sk-container-id-5 div.sk-parallel-item:last-child::after {\n  align-self: flex-start;\n  width: 50%;\n}\n\n#sk-container-id-5 div.sk-parallel-item:only-child::after {\n  width: 0;\n}\n\n/* Serial-specific style estimator block */\n\n#sk-container-id-5 div.sk-serial {\n  display: flex;\n  flex-direction: column;\n  align-items: center;\n  background-color: var(--sklearn-color-background);\n  padding-right: 1em;\n  padding-left: 1em;\n}\n\n\n/* Toggleable style: style used for estimator/Pipeline/ColumnTransformer box that is\nclickable and can be expanded/collapsed.\n- Pipeline and ColumnTransformer use this feature and define the default style\n- Estimators will overwrite some part of the style using the `sk-estimator` class\n*/\n\n/* Pipeline and ColumnTransformer style (default) */\n\n#sk-container-id-5 div.sk-toggleable {\n  /* Default theme specific background. It is overwritten whether we have a\n  specific estimator or a Pipeline/ColumnTransformer */\n  background-color: var(--sklearn-color-background);\n}\n\n/* Toggleable label */\n#sk-container-id-5 label.sk-toggleable__label {\n  cursor: pointer;\n  display: block;\n  width: 100%;\n  margin-bottom: 0;\n  padding: 0.5em;\n  box-sizing: border-box;\n  text-align: center;\n}\n\n#sk-container-id-5 label.sk-toggleable__label-arrow:before {\n  /* Arrow on the left of the label */\n  content: \"▸\";\n  float: left;\n  margin-right: 0.25em;\n  color: var(--sklearn-color-icon);\n}\n\n#sk-container-id-5 label.sk-toggleable__label-arrow:hover:before {\n  color: var(--sklearn-color-text);\n}\n\n/* Toggleable content - dropdown */\n\n#sk-container-id-5 div.sk-toggleable__content {\n  max-height: 0;\n  max-width: 0;\n  overflow: hidden;\n  text-align: left;\n  /* unfitted */\n  background-color: var(--sklearn-color-unfitted-level-0);\n}\n\n#sk-container-id-5 div.sk-toggleable__content.fitted {\n  /* fitted */\n  background-color: var(--sklearn-color-fitted-level-0);\n}\n\n#sk-container-id-5 div.sk-toggleable__content pre {\n  margin: 0.2em;\n  border-radius: 0.25em;\n  color: var(--sklearn-color-text);\n  /* unfitted */\n  background-color: var(--sklearn-color-unfitted-level-0);\n}\n\n#sk-container-id-5 div.sk-toggleable__content.fitted pre {\n  /* unfitted */\n  background-color: var(--sklearn-color-fitted-level-0);\n}\n\n#sk-container-id-5 input.sk-toggleable__control:checked~div.sk-toggleable__content {\n  /* Expand drop-down */\n  max-height: 200px;\n  max-width: 100%;\n  overflow: auto;\n}\n\n#sk-container-id-5 input.sk-toggleable__control:checked~label.sk-toggleable__label-arrow:before {\n  content: \"▾\";\n}\n\n/* Pipeline/ColumnTransformer-specific style */\n\n#sk-container-id-5 div.sk-label input.sk-toggleable__control:checked~label.sk-toggleable__label {\n  color: var(--sklearn-color-text);\n  background-color: var(--sklearn-color-unfitted-level-2);\n}\n\n#sk-container-id-5 div.sk-label.fitted input.sk-toggleable__control:checked~label.sk-toggleable__label {\n  background-color: var(--sklearn-color-fitted-level-2);\n}\n\n/* Estimator-specific style */\n\n/* Colorize estimator box */\n#sk-container-id-5 div.sk-estimator input.sk-toggleable__control:checked~label.sk-toggleable__label {\n  /* unfitted */\n  background-color: var(--sklearn-color-unfitted-level-2);\n}\n\n#sk-container-id-5 div.sk-estimator.fitted input.sk-toggleable__control:checked~label.sk-toggleable__label {\n  /* fitted */\n  background-color: var(--sklearn-color-fitted-level-2);\n}\n\n#sk-container-id-5 div.sk-label label.sk-toggleable__label,\n#sk-container-id-5 div.sk-label label {\n  /* The background is the default theme color */\n  color: var(--sklearn-color-text-on-default-background);\n}\n\n/* On hover, darken the color of the background */\n#sk-container-id-5 div.sk-label:hover label.sk-toggleable__label {\n  color: var(--sklearn-color-text);\n  background-color: var(--sklearn-color-unfitted-level-2);\n}\n\n/* Label box, darken color on hover, fitted */\n#sk-container-id-5 div.sk-label.fitted:hover label.sk-toggleable__label.fitted {\n  color: var(--sklearn-color-text);\n  background-color: var(--sklearn-color-fitted-level-2);\n}\n\n/* Estimator label */\n\n#sk-container-id-5 div.sk-label label {\n  font-family: monospace;\n  font-weight: bold;\n  display: inline-block;\n  line-height: 1.2em;\n}\n\n#sk-container-id-5 div.sk-label-container {\n  text-align: center;\n}\n\n/* Estimator-specific */\n#sk-container-id-5 div.sk-estimator {\n  font-family: monospace;\n  border: 1px dotted var(--sklearn-color-border-box);\n  border-radius: 0.25em;\n  box-sizing: border-box;\n  margin-bottom: 0.5em;\n  /* unfitted */\n  background-color: var(--sklearn-color-unfitted-level-0);\n}\n\n#sk-container-id-5 div.sk-estimator.fitted {\n  /* fitted */\n  background-color: var(--sklearn-color-fitted-level-0);\n}\n\n/* on hover */\n#sk-container-id-5 div.sk-estimator:hover {\n  /* unfitted */\n  background-color: var(--sklearn-color-unfitted-level-2);\n}\n\n#sk-container-id-5 div.sk-estimator.fitted:hover {\n  /* fitted */\n  background-color: var(--sklearn-color-fitted-level-2);\n}\n\n/* Specification for estimator info (e.g. \"i\" and \"?\") */\n\n/* Common style for \"i\" and \"?\" */\n\n.sk-estimator-doc-link,\na:link.sk-estimator-doc-link,\na:visited.sk-estimator-doc-link {\n  float: right;\n  font-size: smaller;\n  line-height: 1em;\n  font-family: monospace;\n  background-color: var(--sklearn-color-background);\n  border-radius: 1em;\n  height: 1em;\n  width: 1em;\n  text-decoration: none !important;\n  margin-left: 1ex;\n  /* unfitted */\n  border: var(--sklearn-color-unfitted-level-1) 1pt solid;\n  color: var(--sklearn-color-unfitted-level-1);\n}\n\n.sk-estimator-doc-link.fitted,\na:link.sk-estimator-doc-link.fitted,\na:visited.sk-estimator-doc-link.fitted {\n  /* fitted */\n  border: var(--sklearn-color-fitted-level-1) 1pt solid;\n  color: var(--sklearn-color-fitted-level-1);\n}\n\n/* On hover */\ndiv.sk-estimator:hover .sk-estimator-doc-link:hover,\n.sk-estimator-doc-link:hover,\ndiv.sk-label-container:hover .sk-estimator-doc-link:hover,\n.sk-estimator-doc-link:hover {\n  /* unfitted */\n  background-color: var(--sklearn-color-unfitted-level-3);\n  color: var(--sklearn-color-background);\n  text-decoration: none;\n}\n\ndiv.sk-estimator.fitted:hover .sk-estimator-doc-link.fitted:hover,\n.sk-estimator-doc-link.fitted:hover,\ndiv.sk-label-container:hover .sk-estimator-doc-link.fitted:hover,\n.sk-estimator-doc-link.fitted:hover {\n  /* fitted */\n  background-color: var(--sklearn-color-fitted-level-3);\n  color: var(--sklearn-color-background);\n  text-decoration: none;\n}\n\n/* Span, style for the box shown on hovering the info icon */\n.sk-estimator-doc-link span {\n  display: none;\n  z-index: 9999;\n  position: relative;\n  font-weight: normal;\n  right: .2ex;\n  padding: .5ex;\n  margin: .5ex;\n  width: min-content;\n  min-width: 20ex;\n  max-width: 50ex;\n  color: var(--sklearn-color-text);\n  box-shadow: 2pt 2pt 4pt #999;\n  /* unfitted */\n  background: var(--sklearn-color-unfitted-level-0);\n  border: .5pt solid var(--sklearn-color-unfitted-level-3);\n}\n\n.sk-estimator-doc-link.fitted span {\n  /* fitted */\n  background: var(--sklearn-color-fitted-level-0);\n  border: var(--sklearn-color-fitted-level-3);\n}\n\n.sk-estimator-doc-link:hover span {\n  display: block;\n}\n\n/* \"?\"-specific style due to the `<a>` HTML tag */\n\n#sk-container-id-5 a.estimator_doc_link {\n  float: right;\n  font-size: 1rem;\n  line-height: 1em;\n  font-family: monospace;\n  background-color: var(--sklearn-color-background);\n  border-radius: 1rem;\n  height: 1rem;\n  width: 1rem;\n  text-decoration: none;\n  /* unfitted */\n  color: var(--sklearn-color-unfitted-level-1);\n  border: var(--sklearn-color-unfitted-level-1) 1pt solid;\n}\n\n#sk-container-id-5 a.estimator_doc_link.fitted {\n  /* fitted */\n  border: var(--sklearn-color-fitted-level-1) 1pt solid;\n  color: var(--sklearn-color-fitted-level-1);\n}\n\n/* On hover */\n#sk-container-id-5 a.estimator_doc_link:hover {\n  /* unfitted */\n  background-color: var(--sklearn-color-unfitted-level-3);\n  color: var(--sklearn-color-background);\n  text-decoration: none;\n}\n\n#sk-container-id-5 a.estimator_doc_link.fitted:hover {\n  /* fitted */\n  background-color: var(--sklearn-color-fitted-level-3);\n}\n</style><div id=\"sk-container-id-5\" class=\"sk-top-container\"><div class=\"sk-text-repr-fallback\"><pre>RandomForestRegressor(max_features=0.5, min_samples_leaf=3, n_estimators=40,\n                      n_jobs=-1)</pre><b>In a Jupyter environment, please rerun this cell to show the HTML representation or trust the notebook. <br />On GitHub, the HTML representation is unable to render, please try loading this page with nbviewer.org.</b></div><div class=\"sk-container\" hidden><div class=\"sk-item\"><div class=\"sk-estimator fitted sk-toggleable\"><input class=\"sk-toggleable__control sk-hidden--visually\" id=\"sk-estimator-id-7\" type=\"checkbox\" checked><label for=\"sk-estimator-id-7\" class=\"sk-toggleable__label fitted sk-toggleable__label-arrow fitted\">&nbsp;&nbsp;RandomForestRegressor<a class=\"sk-estimator-doc-link fitted\" rel=\"noreferrer\" target=\"_blank\" href=\"https://scikit-learn.org/1.4/modules/generated/sklearn.ensemble.RandomForestRegressor.html\">?<span>Documentation for RandomForestRegressor</span></a><span class=\"sk-estimator-doc-link fitted\">i<span>Fitted</span></span></label><div class=\"sk-toggleable__content fitted\"><pre>RandomForestRegressor(max_features=0.5, min_samples_leaf=3, n_estimators=40,\n                      n_jobs=-1)</pre></div> </div></div></div></div>"
     },
     "execution_count": 61,
     "metadata": {},
     "output_type": "execute_result"
    }
   ],
   "source": [
    "%%time\n",
    "# Faster model\n",
    "fast_model = RandomForestRegressor(n_estimators=40,\n",
    "                                   min_samples_leaf=3,\n",
    "                                   max_features=0.5,\n",
    "                                   n_jobs=-1)\n",
    "fast_model.fit(X_train, y_train)"
   ]
  },
  {
   "cell_type": "code",
   "execution_count": 62,
   "metadata": {
    "ExecuteTime": {
     "end_time": "2024-03-19T19:25:00.709225Z",
     "start_time": "2024-03-19T19:24:59.578513Z"
    }
   },
   "outputs": [
    {
     "data": {
      "text/plain": "{'Training MAE': 2539.811540111755,\n 'Valid MAE': 5912.07830177098,\n 'Training RMSLE': 0.12929499198764144,\n 'Valid RMSLE': 0.24394742572329528,\n 'Training R^2': 0.9671325346929265,\n 'Valid R^2': 0.8814049341514308}"
     },
     "execution_count": 62,
     "metadata": {},
     "output_type": "execute_result"
    }
   ],
   "source": [
    "show_scores(fast_model)"
   ]
  },
  {
   "cell_type": "markdown",
   "metadata": {},
   "source": [
    "### Make predictions on test data\n",
    "\n",
    "Now we've got a trained model, it's time to make predictions on the test data.\n",
    "\n",
    "Remember what we've done.\n",
    "\n",
    "Our model is trained on data prior to 2011. However, the test data is from May 1 2012 to November 2012.\n",
    "\n",
    "So what we're doing is trying to use the patterns our model has learned in the training data to predict the sale price of a Bulldozer with characteristics it's never seen before but are assumed to be similar to that of those in the training data."
   ]
  },
  {
   "cell_type": "code",
   "execution_count": 63,
   "metadata": {
    "ExecuteTime": {
     "end_time": "2024-03-19T19:25:00.751720Z",
     "start_time": "2024-03-19T19:25:00.709815Z"
    }
   },
   "outputs": [
    {
     "data": {
      "text/plain": "   SalesID  MachineID  ModelID  datasource  auctioneerID  YearMade  \\\n0  1227829    1006309     3168         121             3      1999   \n1  1227844    1022817     7271         121             3      1000   \n2  1227847    1031560    22805         121             3      2004   \n3  1227848      56204     1269         121             3      2006   \n4  1227863    1053887    22312         121             3      2005   \n\n   MachineHoursCurrentMeter UsageBand   saledate fiModelDesc  ...  \\\n0                    3688.0       Low 2012-05-03        580G  ...   \n1                   28555.0      High 2012-05-10         936  ...   \n2                    6038.0    Medium 2012-05-10    EC210BLC  ...   \n3                    8940.0      High 2012-05-10       330CL  ...   \n4                    2286.0       Low 2012-05-10        650K  ...   \n\n  Undercarriage_Pad_Width         Stick_Length   Thumb      Pattern_Changer  \\\n0                     NaN                  NaN     NaN                  NaN   \n1                     NaN                  NaN     NaN                  NaN   \n2     None or Unspecified                9' 6\"  Manual  None or Unspecified   \n3     None or Unspecified  None or Unspecified  Manual                  Yes   \n4                     NaN                  NaN     NaN                  NaN   \n\n  Grouser_Type     Backhoe_Mounting Blade_Type      Travel_Controls  \\\n0          NaN                  NaN        NaN                  NaN   \n1          NaN                  NaN        NaN                  NaN   \n2       Double                  NaN        NaN                  NaN   \n3       Triple                  NaN        NaN                  NaN   \n4          NaN  None or Unspecified        PAT  None or Unspecified   \n\n  Differential_Type Steering_Controls  \n0               NaN               NaN  \n1          Standard      Conventional  \n2               NaN               NaN  \n3               NaN               NaN  \n4               NaN               NaN  \n\n[5 rows x 52 columns]",
      "text/html": "<div>\n<style scoped>\n    .dataframe tbody tr th:only-of-type {\n        vertical-align: middle;\n    }\n\n    .dataframe tbody tr th {\n        vertical-align: top;\n    }\n\n    .dataframe thead th {\n        text-align: right;\n    }\n</style>\n<table border=\"1\" class=\"dataframe\">\n  <thead>\n    <tr style=\"text-align: right;\">\n      <th></th>\n      <th>SalesID</th>\n      <th>MachineID</th>\n      <th>ModelID</th>\n      <th>datasource</th>\n      <th>auctioneerID</th>\n      <th>YearMade</th>\n      <th>MachineHoursCurrentMeter</th>\n      <th>UsageBand</th>\n      <th>saledate</th>\n      <th>fiModelDesc</th>\n      <th>...</th>\n      <th>Undercarriage_Pad_Width</th>\n      <th>Stick_Length</th>\n      <th>Thumb</th>\n      <th>Pattern_Changer</th>\n      <th>Grouser_Type</th>\n      <th>Backhoe_Mounting</th>\n      <th>Blade_Type</th>\n      <th>Travel_Controls</th>\n      <th>Differential_Type</th>\n      <th>Steering_Controls</th>\n    </tr>\n  </thead>\n  <tbody>\n    <tr>\n      <th>0</th>\n      <td>1227829</td>\n      <td>1006309</td>\n      <td>3168</td>\n      <td>121</td>\n      <td>3</td>\n      <td>1999</td>\n      <td>3688.0</td>\n      <td>Low</td>\n      <td>2012-05-03</td>\n      <td>580G</td>\n      <td>...</td>\n      <td>NaN</td>\n      <td>NaN</td>\n      <td>NaN</td>\n      <td>NaN</td>\n      <td>NaN</td>\n      <td>NaN</td>\n      <td>NaN</td>\n      <td>NaN</td>\n      <td>NaN</td>\n      <td>NaN</td>\n    </tr>\n    <tr>\n      <th>1</th>\n      <td>1227844</td>\n      <td>1022817</td>\n      <td>7271</td>\n      <td>121</td>\n      <td>3</td>\n      <td>1000</td>\n      <td>28555.0</td>\n      <td>High</td>\n      <td>2012-05-10</td>\n      <td>936</td>\n      <td>...</td>\n      <td>NaN</td>\n      <td>NaN</td>\n      <td>NaN</td>\n      <td>NaN</td>\n      <td>NaN</td>\n      <td>NaN</td>\n      <td>NaN</td>\n      <td>NaN</td>\n      <td>Standard</td>\n      <td>Conventional</td>\n    </tr>\n    <tr>\n      <th>2</th>\n      <td>1227847</td>\n      <td>1031560</td>\n      <td>22805</td>\n      <td>121</td>\n      <td>3</td>\n      <td>2004</td>\n      <td>6038.0</td>\n      <td>Medium</td>\n      <td>2012-05-10</td>\n      <td>EC210BLC</td>\n      <td>...</td>\n      <td>None or Unspecified</td>\n      <td>9' 6\"</td>\n      <td>Manual</td>\n      <td>None or Unspecified</td>\n      <td>Double</td>\n      <td>NaN</td>\n      <td>NaN</td>\n      <td>NaN</td>\n      <td>NaN</td>\n      <td>NaN</td>\n    </tr>\n    <tr>\n      <th>3</th>\n      <td>1227848</td>\n      <td>56204</td>\n      <td>1269</td>\n      <td>121</td>\n      <td>3</td>\n      <td>2006</td>\n      <td>8940.0</td>\n      <td>High</td>\n      <td>2012-05-10</td>\n      <td>330CL</td>\n      <td>...</td>\n      <td>None or Unspecified</td>\n      <td>None or Unspecified</td>\n      <td>Manual</td>\n      <td>Yes</td>\n      <td>Triple</td>\n      <td>NaN</td>\n      <td>NaN</td>\n      <td>NaN</td>\n      <td>NaN</td>\n      <td>NaN</td>\n    </tr>\n    <tr>\n      <th>4</th>\n      <td>1227863</td>\n      <td>1053887</td>\n      <td>22312</td>\n      <td>121</td>\n      <td>3</td>\n      <td>2005</td>\n      <td>2286.0</td>\n      <td>Low</td>\n      <td>2012-05-10</td>\n      <td>650K</td>\n      <td>...</td>\n      <td>NaN</td>\n      <td>NaN</td>\n      <td>NaN</td>\n      <td>NaN</td>\n      <td>NaN</td>\n      <td>None or Unspecified</td>\n      <td>PAT</td>\n      <td>None or Unspecified</td>\n      <td>NaN</td>\n      <td>NaN</td>\n    </tr>\n  </tbody>\n</table>\n<p>5 rows × 52 columns</p>\n</div>"
     },
     "execution_count": 63,
     "metadata": {},
     "output_type": "execute_result"
    }
   ],
   "source": [
    "df_test = pd.read_csv(\"../data/bluebook-for-bulldozers/Test.csv\",\n",
    "                      parse_dates=[\"saledate\"])\n",
    "df_test.head()"
   ]
  },
  {
   "cell_type": "code",
   "execution_count": 64,
   "metadata": {
    "ExecuteTime": {
     "end_time": "2024-03-19T19:25:00.754402Z",
     "start_time": "2024-03-19T19:25:00.752638Z"
    }
   },
   "outputs": [],
   "source": [
    "# Let's see how the model goes predicting on the test data\n",
    "# model.predict(df_test)"
   ]
  },
  {
   "cell_type": "markdown",
   "metadata": {},
   "source": [
    "Ahhh... the test data isn't in the same format of our other data, so we have to fix it. Let's create a function to preprocess our data."
   ]
  },
  {
   "cell_type": "markdown",
   "metadata": {},
   "source": [
    "### Preprocessing the test data\n",
    "\n",
    "Our model has been trained on data formatted in the same way as the training data.\n",
    "\n",
    "This means in order to make predictions on the test data, we need to take the same steps we used to preprocess the training data to preprocess the test data.\n",
    "\n",
    "Remember: Whatever you do to the training data, you have to do to the test data.\n",
    "\n",
    "Let's create a function for doing so (by copying the preprocessing steps we used above)."
   ]
  },
  {
   "cell_type": "code",
   "execution_count": 65,
   "metadata": {
    "ExecuteTime": {
     "end_time": "2024-03-19T19:25:00.759559Z",
     "start_time": "2024-03-19T19:25:00.755257Z"
    }
   },
   "outputs": [],
   "source": [
    "def preprocess_data(df):\n",
    "    # Add datetime parameters for saledate\n",
    "    df[\"saleYear\"] = df.saledate.dt.year\n",
    "    df[\"saleMonth\"] = df.saledate.dt.month\n",
    "    df[\"saleDay\"] = df.saledate.dt.day\n",
    "    df[\"saleDayofweek\"] = df.saledate.dt.dayofweek\n",
    "    df[\"saleDayofyear\"] = df.saledate.dt.dayofyear\n",
    "\n",
    "    # Drop original saledate\n",
    "    df.drop(\"saledate\", axis=1, inplace=True)\n",
    "    \n",
    "    # Fill numeric rows with the median\n",
    "    for label, content in df.items():\n",
    "        if pd.api.types.is_numeric_dtype(content):\n",
    "            if pd.isnull(content).sum():\n",
    "                df[label+\"_is_missing\"] = pd.isnull(content)\n",
    "                df[label] = content.fillna(content.median())\n",
    "                \n",
    "        # Turn categorical variables into numbers\n",
    "        if not pd.api.types.is_numeric_dtype(content):\n",
    "            df[label+\"_is_missing\"] = pd.isnull(content)\n",
    "            # We add the +1 because pandas encodes missing categories as -1\n",
    "            df[label] = pd.Categorical(content).codes+1        \n",
    "    \n",
    "    return df"
   ]
  },
  {
   "cell_type": "markdown",
   "metadata": {},
   "source": [
    "**Question:** Where would this function break?\n",
    "\n",
    "**Hint:** What if the test data had different missing values to the training data?\n",
    "\n",
    "Now we've got a function for preprocessing data, let's preprocess the test dataset into the same format as our training dataset."
   ]
  },
  {
   "cell_type": "code",
   "execution_count": 66,
   "metadata": {
    "ExecuteTime": {
     "end_time": "2024-03-19T19:25:00.813885Z",
     "start_time": "2024-03-19T19:25:00.760176Z"
    }
   },
   "outputs": [
    {
     "data": {
      "text/plain": "   SalesID  MachineID  ModelID  datasource  auctioneerID  YearMade  \\\n0  1227829    1006309     3168         121             3      1999   \n1  1227844    1022817     7271         121             3      1000   \n2  1227847    1031560    22805         121             3      2004   \n3  1227848      56204     1269         121             3      2006   \n4  1227863    1053887    22312         121             3      2005   \n\n   MachineHoursCurrentMeter  UsageBand  fiModelDesc  fiBaseModel  ...  \\\n0                    3688.0          2          499          180  ...   \n1                   28555.0          1          831          292  ...   \n2                    6038.0          3         1177          404  ...   \n3                    8940.0          1          287          113  ...   \n4                    2286.0          2          566          196  ...   \n\n   Undercarriage_Pad_Width_is_missing  Stick_Length_is_missing  \\\n0                                True                     True   \n1                                True                     True   \n2                               False                    False   \n3                               False                    False   \n4                                True                     True   \n\n   Thumb_is_missing  Pattern_Changer_is_missing  Grouser_Type_is_missing  \\\n0              True                        True                     True   \n1              True                        True                     True   \n2             False                       False                    False   \n3             False                       False                    False   \n4              True                        True                     True   \n\n   Backhoe_Mounting_is_missing  Blade_Type_is_missing  \\\n0                         True                   True   \n1                         True                   True   \n2                         True                   True   \n3                         True                   True   \n4                        False                  False   \n\n   Travel_Controls_is_missing  Differential_Type_is_missing  \\\n0                        True                          True   \n1                        True                         False   \n2                        True                          True   \n3                        True                          True   \n4                       False                          True   \n\n   Steering_Controls_is_missing  \n0                          True  \n1                         False  \n2                          True  \n3                          True  \n4                          True  \n\n[5 rows x 101 columns]",
      "text/html": "<div>\n<style scoped>\n    .dataframe tbody tr th:only-of-type {\n        vertical-align: middle;\n    }\n\n    .dataframe tbody tr th {\n        vertical-align: top;\n    }\n\n    .dataframe thead th {\n        text-align: right;\n    }\n</style>\n<table border=\"1\" class=\"dataframe\">\n  <thead>\n    <tr style=\"text-align: right;\">\n      <th></th>\n      <th>SalesID</th>\n      <th>MachineID</th>\n      <th>ModelID</th>\n      <th>datasource</th>\n      <th>auctioneerID</th>\n      <th>YearMade</th>\n      <th>MachineHoursCurrentMeter</th>\n      <th>UsageBand</th>\n      <th>fiModelDesc</th>\n      <th>fiBaseModel</th>\n      <th>...</th>\n      <th>Undercarriage_Pad_Width_is_missing</th>\n      <th>Stick_Length_is_missing</th>\n      <th>Thumb_is_missing</th>\n      <th>Pattern_Changer_is_missing</th>\n      <th>Grouser_Type_is_missing</th>\n      <th>Backhoe_Mounting_is_missing</th>\n      <th>Blade_Type_is_missing</th>\n      <th>Travel_Controls_is_missing</th>\n      <th>Differential_Type_is_missing</th>\n      <th>Steering_Controls_is_missing</th>\n    </tr>\n  </thead>\n  <tbody>\n    <tr>\n      <th>0</th>\n      <td>1227829</td>\n      <td>1006309</td>\n      <td>3168</td>\n      <td>121</td>\n      <td>3</td>\n      <td>1999</td>\n      <td>3688.0</td>\n      <td>2</td>\n      <td>499</td>\n      <td>180</td>\n      <td>...</td>\n      <td>True</td>\n      <td>True</td>\n      <td>True</td>\n      <td>True</td>\n      <td>True</td>\n      <td>True</td>\n      <td>True</td>\n      <td>True</td>\n      <td>True</td>\n      <td>True</td>\n    </tr>\n    <tr>\n      <th>1</th>\n      <td>1227844</td>\n      <td>1022817</td>\n      <td>7271</td>\n      <td>121</td>\n      <td>3</td>\n      <td>1000</td>\n      <td>28555.0</td>\n      <td>1</td>\n      <td>831</td>\n      <td>292</td>\n      <td>...</td>\n      <td>True</td>\n      <td>True</td>\n      <td>True</td>\n      <td>True</td>\n      <td>True</td>\n      <td>True</td>\n      <td>True</td>\n      <td>True</td>\n      <td>False</td>\n      <td>False</td>\n    </tr>\n    <tr>\n      <th>2</th>\n      <td>1227847</td>\n      <td>1031560</td>\n      <td>22805</td>\n      <td>121</td>\n      <td>3</td>\n      <td>2004</td>\n      <td>6038.0</td>\n      <td>3</td>\n      <td>1177</td>\n      <td>404</td>\n      <td>...</td>\n      <td>False</td>\n      <td>False</td>\n      <td>False</td>\n      <td>False</td>\n      <td>False</td>\n      <td>True</td>\n      <td>True</td>\n      <td>True</td>\n      <td>True</td>\n      <td>True</td>\n    </tr>\n    <tr>\n      <th>3</th>\n      <td>1227848</td>\n      <td>56204</td>\n      <td>1269</td>\n      <td>121</td>\n      <td>3</td>\n      <td>2006</td>\n      <td>8940.0</td>\n      <td>1</td>\n      <td>287</td>\n      <td>113</td>\n      <td>...</td>\n      <td>False</td>\n      <td>False</td>\n      <td>False</td>\n      <td>False</td>\n      <td>False</td>\n      <td>True</td>\n      <td>True</td>\n      <td>True</td>\n      <td>True</td>\n      <td>True</td>\n    </tr>\n    <tr>\n      <th>4</th>\n      <td>1227863</td>\n      <td>1053887</td>\n      <td>22312</td>\n      <td>121</td>\n      <td>3</td>\n      <td>2005</td>\n      <td>2286.0</td>\n      <td>2</td>\n      <td>566</td>\n      <td>196</td>\n      <td>...</td>\n      <td>True</td>\n      <td>True</td>\n      <td>True</td>\n      <td>True</td>\n      <td>True</td>\n      <td>False</td>\n      <td>False</td>\n      <td>False</td>\n      <td>True</td>\n      <td>True</td>\n    </tr>\n  </tbody>\n</table>\n<p>5 rows × 101 columns</p>\n</div>"
     },
     "execution_count": 66,
     "metadata": {},
     "output_type": "execute_result"
    }
   ],
   "source": [
    "df_test = preprocess_data(df_test)\n",
    "df_test.head()"
   ]
  },
  {
   "cell_type": "code",
   "execution_count": 67,
   "metadata": {
    "ExecuteTime": {
     "end_time": "2024-03-19T19:25:00.824127Z",
     "start_time": "2024-03-19T19:25:00.814634Z"
    }
   },
   "outputs": [
    {
     "data": {
      "text/plain": "   SalesID  MachineID  ModelID  datasource  auctioneerID  YearMade  \\\n0  1646770    1126363     8434         132          18.0      1974   \n1  1821514    1194089    10150         132          99.0      1980   \n2  1505138    1473654     4139         132          99.0      1978   \n3  1671174    1327630     8591         132          99.0      1980   \n4  1329056    1336053     4089         132          99.0      1984   \n\n   MachineHoursCurrentMeter  UsageBand  fiModelDesc  fiBaseModel  ...  \\\n0                       0.0          0         4593         1744  ...   \n1                       0.0          0         1820          559  ...   \n2                       0.0          0         2348          713  ...   \n3                       0.0          0         1819          558  ...   \n4                       0.0          0         2119          683  ...   \n\n   Undercarriage_Pad_Width_is_missing  Stick_Length_is_missing  \\\n0                                True                     True   \n1                                True                     True   \n2                                True                     True   \n3                                True                     True   \n4                                True                     True   \n\n   Thumb_is_missing  Pattern_Changer_is_missing  Grouser_Type_is_missing  \\\n0              True                        True                     True   \n1              True                        True                     True   \n2              True                        True                     True   \n3              True                        True                     True   \n4              True                        True                     True   \n\n   Backhoe_Mounting_is_missing  Blade_Type_is_missing  \\\n0                        False                  False   \n1                         True                   True   \n2                        False                  False   \n3                         True                   True   \n4                        False                  False   \n\n   Travel_Controls_is_missing  Differential_Type_is_missing  \\\n0                       False                          True   \n1                        True                         False   \n2                       False                          True   \n3                        True                         False   \n4                       False                          True   \n\n   Steering_Controls_is_missing  \n0                          True  \n1                         False  \n2                          True  \n3                         False  \n4                          True  \n\n[5 rows x 102 columns]",
      "text/html": "<div>\n<style scoped>\n    .dataframe tbody tr th:only-of-type {\n        vertical-align: middle;\n    }\n\n    .dataframe tbody tr th {\n        vertical-align: top;\n    }\n\n    .dataframe thead th {\n        text-align: right;\n    }\n</style>\n<table border=\"1\" class=\"dataframe\">\n  <thead>\n    <tr style=\"text-align: right;\">\n      <th></th>\n      <th>SalesID</th>\n      <th>MachineID</th>\n      <th>ModelID</th>\n      <th>datasource</th>\n      <th>auctioneerID</th>\n      <th>YearMade</th>\n      <th>MachineHoursCurrentMeter</th>\n      <th>UsageBand</th>\n      <th>fiModelDesc</th>\n      <th>fiBaseModel</th>\n      <th>...</th>\n      <th>Undercarriage_Pad_Width_is_missing</th>\n      <th>Stick_Length_is_missing</th>\n      <th>Thumb_is_missing</th>\n      <th>Pattern_Changer_is_missing</th>\n      <th>Grouser_Type_is_missing</th>\n      <th>Backhoe_Mounting_is_missing</th>\n      <th>Blade_Type_is_missing</th>\n      <th>Travel_Controls_is_missing</th>\n      <th>Differential_Type_is_missing</th>\n      <th>Steering_Controls_is_missing</th>\n    </tr>\n  </thead>\n  <tbody>\n    <tr>\n      <th>0</th>\n      <td>1646770</td>\n      <td>1126363</td>\n      <td>8434</td>\n      <td>132</td>\n      <td>18.0</td>\n      <td>1974</td>\n      <td>0.0</td>\n      <td>0</td>\n      <td>4593</td>\n      <td>1744</td>\n      <td>...</td>\n      <td>True</td>\n      <td>True</td>\n      <td>True</td>\n      <td>True</td>\n      <td>True</td>\n      <td>False</td>\n      <td>False</td>\n      <td>False</td>\n      <td>True</td>\n      <td>True</td>\n    </tr>\n    <tr>\n      <th>1</th>\n      <td>1821514</td>\n      <td>1194089</td>\n      <td>10150</td>\n      <td>132</td>\n      <td>99.0</td>\n      <td>1980</td>\n      <td>0.0</td>\n      <td>0</td>\n      <td>1820</td>\n      <td>559</td>\n      <td>...</td>\n      <td>True</td>\n      <td>True</td>\n      <td>True</td>\n      <td>True</td>\n      <td>True</td>\n      <td>True</td>\n      <td>True</td>\n      <td>True</td>\n      <td>False</td>\n      <td>False</td>\n    </tr>\n    <tr>\n      <th>2</th>\n      <td>1505138</td>\n      <td>1473654</td>\n      <td>4139</td>\n      <td>132</td>\n      <td>99.0</td>\n      <td>1978</td>\n      <td>0.0</td>\n      <td>0</td>\n      <td>2348</td>\n      <td>713</td>\n      <td>...</td>\n      <td>True</td>\n      <td>True</td>\n      <td>True</td>\n      <td>True</td>\n      <td>True</td>\n      <td>False</td>\n      <td>False</td>\n      <td>False</td>\n      <td>True</td>\n      <td>True</td>\n    </tr>\n    <tr>\n      <th>3</th>\n      <td>1671174</td>\n      <td>1327630</td>\n      <td>8591</td>\n      <td>132</td>\n      <td>99.0</td>\n      <td>1980</td>\n      <td>0.0</td>\n      <td>0</td>\n      <td>1819</td>\n      <td>558</td>\n      <td>...</td>\n      <td>True</td>\n      <td>True</td>\n      <td>True</td>\n      <td>True</td>\n      <td>True</td>\n      <td>True</td>\n      <td>True</td>\n      <td>True</td>\n      <td>False</td>\n      <td>False</td>\n    </tr>\n    <tr>\n      <th>4</th>\n      <td>1329056</td>\n      <td>1336053</td>\n      <td>4089</td>\n      <td>132</td>\n      <td>99.0</td>\n      <td>1984</td>\n      <td>0.0</td>\n      <td>0</td>\n      <td>2119</td>\n      <td>683</td>\n      <td>...</td>\n      <td>True</td>\n      <td>True</td>\n      <td>True</td>\n      <td>True</td>\n      <td>True</td>\n      <td>False</td>\n      <td>False</td>\n      <td>False</td>\n      <td>True</td>\n      <td>True</td>\n    </tr>\n  </tbody>\n</table>\n<p>5 rows × 102 columns</p>\n</div>"
     },
     "execution_count": 67,
     "metadata": {},
     "output_type": "execute_result"
    }
   ],
   "source": [
    "X_train.head()"
   ]
  },
  {
   "cell_type": "code",
   "execution_count": 68,
   "metadata": {
    "ExecuteTime": {
     "end_time": "2024-03-19T19:25:00.826327Z",
     "start_time": "2024-03-19T19:25:00.824821Z"
    }
   },
   "outputs": [],
   "source": [
    "# Make predictions on the test dataset using the best model\n",
    "# test_preds = ideal_model.predict(df_test)"
   ]
  },
  {
   "cell_type": "markdown",
   "metadata": {},
   "source": [
    "We've found an error, and it's because our test dataset (after preprocessing) has 101 columns whereas, our training dataset (`X_train`) has 102 columns (after preprocessing).\n",
    "\n",
    "Let's find the difference."
   ]
  },
  {
   "cell_type": "code",
   "execution_count": 69,
   "metadata": {
    "ExecuteTime": {
     "end_time": "2024-03-19T19:25:00.829055Z",
     "start_time": "2024-03-19T19:25:00.826915Z"
    }
   },
   "outputs": [
    {
     "data": {
      "text/plain": "{'auctioneerID_is_missing'}"
     },
     "execution_count": 69,
     "metadata": {},
     "output_type": "execute_result"
    }
   ],
   "source": [
    "# We can find how the columns differ using sets\n",
    "set(X_train.columns) - set(df_test.columns)"
   ]
  },
  {
   "cell_type": "markdown",
   "metadata": {},
   "source": [
    "In this case, it's because the test dataset wasn't missing any `auctioneerID` fields.\n",
    "\n",
    "To fix it, we'll add a column to the test dataset called `auctioneerID_is_missing` and fill it with `False`, since none of the `auctioneerID` fields are missing in the test dataset."
   ]
  },
  {
   "cell_type": "code",
   "execution_count": 70,
   "metadata": {
    "ExecuteTime": {
     "end_time": "2024-03-19T19:25:00.837997Z",
     "start_time": "2024-03-19T19:25:00.829632Z"
    }
   },
   "outputs": [
    {
     "data": {
      "text/plain": "   SalesID  MachineID  ModelID  datasource  auctioneerID  YearMade  \\\n0  1227829    1006309     3168         121             3      1999   \n1  1227844    1022817     7271         121             3      1000   \n2  1227847    1031560    22805         121             3      2004   \n3  1227848      56204     1269         121             3      2006   \n4  1227863    1053887    22312         121             3      2005   \n\n   MachineHoursCurrentMeter  UsageBand  fiModelDesc  fiBaseModel  ...  \\\n0                    3688.0          2          499          180  ...   \n1                   28555.0          1          831          292  ...   \n2                    6038.0          3         1177          404  ...   \n3                    8940.0          1          287          113  ...   \n4                    2286.0          2          566          196  ...   \n\n   Stick_Length_is_missing  Thumb_is_missing  Pattern_Changer_is_missing  \\\n0                     True              True                        True   \n1                     True              True                        True   \n2                    False             False                       False   \n3                    False             False                       False   \n4                     True              True                        True   \n\n   Grouser_Type_is_missing  Backhoe_Mounting_is_missing  \\\n0                     True                         True   \n1                     True                         True   \n2                    False                         True   \n3                    False                         True   \n4                     True                        False   \n\n   Blade_Type_is_missing  Travel_Controls_is_missing  \\\n0                   True                        True   \n1                   True                        True   \n2                   True                        True   \n3                   True                        True   \n4                  False                       False   \n\n   Differential_Type_is_missing  Steering_Controls_is_missing  \\\n0                          True                          True   \n1                         False                         False   \n2                          True                          True   \n3                          True                          True   \n4                          True                          True   \n\n   auctioneerID_is_missing  \n0                    False  \n1                    False  \n2                    False  \n3                    False  \n4                    False  \n\n[5 rows x 102 columns]",
      "text/html": "<div>\n<style scoped>\n    .dataframe tbody tr th:only-of-type {\n        vertical-align: middle;\n    }\n\n    .dataframe tbody tr th {\n        vertical-align: top;\n    }\n\n    .dataframe thead th {\n        text-align: right;\n    }\n</style>\n<table border=\"1\" class=\"dataframe\">\n  <thead>\n    <tr style=\"text-align: right;\">\n      <th></th>\n      <th>SalesID</th>\n      <th>MachineID</th>\n      <th>ModelID</th>\n      <th>datasource</th>\n      <th>auctioneerID</th>\n      <th>YearMade</th>\n      <th>MachineHoursCurrentMeter</th>\n      <th>UsageBand</th>\n      <th>fiModelDesc</th>\n      <th>fiBaseModel</th>\n      <th>...</th>\n      <th>Stick_Length_is_missing</th>\n      <th>Thumb_is_missing</th>\n      <th>Pattern_Changer_is_missing</th>\n      <th>Grouser_Type_is_missing</th>\n      <th>Backhoe_Mounting_is_missing</th>\n      <th>Blade_Type_is_missing</th>\n      <th>Travel_Controls_is_missing</th>\n      <th>Differential_Type_is_missing</th>\n      <th>Steering_Controls_is_missing</th>\n      <th>auctioneerID_is_missing</th>\n    </tr>\n  </thead>\n  <tbody>\n    <tr>\n      <th>0</th>\n      <td>1227829</td>\n      <td>1006309</td>\n      <td>3168</td>\n      <td>121</td>\n      <td>3</td>\n      <td>1999</td>\n      <td>3688.0</td>\n      <td>2</td>\n      <td>499</td>\n      <td>180</td>\n      <td>...</td>\n      <td>True</td>\n      <td>True</td>\n      <td>True</td>\n      <td>True</td>\n      <td>True</td>\n      <td>True</td>\n      <td>True</td>\n      <td>True</td>\n      <td>True</td>\n      <td>False</td>\n    </tr>\n    <tr>\n      <th>1</th>\n      <td>1227844</td>\n      <td>1022817</td>\n      <td>7271</td>\n      <td>121</td>\n      <td>3</td>\n      <td>1000</td>\n      <td>28555.0</td>\n      <td>1</td>\n      <td>831</td>\n      <td>292</td>\n      <td>...</td>\n      <td>True</td>\n      <td>True</td>\n      <td>True</td>\n      <td>True</td>\n      <td>True</td>\n      <td>True</td>\n      <td>True</td>\n      <td>False</td>\n      <td>False</td>\n      <td>False</td>\n    </tr>\n    <tr>\n      <th>2</th>\n      <td>1227847</td>\n      <td>1031560</td>\n      <td>22805</td>\n      <td>121</td>\n      <td>3</td>\n      <td>2004</td>\n      <td>6038.0</td>\n      <td>3</td>\n      <td>1177</td>\n      <td>404</td>\n      <td>...</td>\n      <td>False</td>\n      <td>False</td>\n      <td>False</td>\n      <td>False</td>\n      <td>True</td>\n      <td>True</td>\n      <td>True</td>\n      <td>True</td>\n      <td>True</td>\n      <td>False</td>\n    </tr>\n    <tr>\n      <th>3</th>\n      <td>1227848</td>\n      <td>56204</td>\n      <td>1269</td>\n      <td>121</td>\n      <td>3</td>\n      <td>2006</td>\n      <td>8940.0</td>\n      <td>1</td>\n      <td>287</td>\n      <td>113</td>\n      <td>...</td>\n      <td>False</td>\n      <td>False</td>\n      <td>False</td>\n      <td>False</td>\n      <td>True</td>\n      <td>True</td>\n      <td>True</td>\n      <td>True</td>\n      <td>True</td>\n      <td>False</td>\n    </tr>\n    <tr>\n      <th>4</th>\n      <td>1227863</td>\n      <td>1053887</td>\n      <td>22312</td>\n      <td>121</td>\n      <td>3</td>\n      <td>2005</td>\n      <td>2286.0</td>\n      <td>2</td>\n      <td>566</td>\n      <td>196</td>\n      <td>...</td>\n      <td>True</td>\n      <td>True</td>\n      <td>True</td>\n      <td>True</td>\n      <td>False</td>\n      <td>False</td>\n      <td>False</td>\n      <td>True</td>\n      <td>True</td>\n      <td>False</td>\n    </tr>\n  </tbody>\n</table>\n<p>5 rows × 102 columns</p>\n</div>"
     },
     "execution_count": 70,
     "metadata": {},
     "output_type": "execute_result"
    }
   ],
   "source": [
    "# Match test dataset columns to training dataset\n",
    "df_test[\"auctioneerID_is_missing\"] = False\n",
    "df_test.head()"
   ]
  },
  {
   "cell_type": "markdown",
   "metadata": {},
   "source": [
    "There's one more step we have to do before we can make predictions on the test data.\n",
    "\n",
    "And that's to line up the columns (the features) in our test dataset to match the columns in our training dataset.\n",
    "\n",
    "As in, the order of the columnns in the training dataset should match the order of the columns in our test dataset.\n",
    "\n",
    "> **Note:** As of Scikit-Learn 1.2, the order of columns that were fit on should match the order of columns that are predicted on."
   ]
  },
  {
   "cell_type": "code",
   "execution_count": 71,
   "metadata": {
    "ExecuteTime": {
     "end_time": "2024-03-19T19:25:00.842929Z",
     "start_time": "2024-03-19T19:25:00.838669Z"
    }
   },
   "outputs": [],
   "source": [
    "# Match column order from X_train to df_test (to predict on columns, they should be in the same order they were fit on)\n",
    "df_test = df_test[X_train.columns]"
   ]
  },
  {
   "cell_type": "markdown",
   "metadata": {},
   "source": [
    "Now the test dataset column names and column order matches the training dataset, we should be able to make predictions on it using our trained model. "
   ]
  },
  {
   "cell_type": "code",
   "execution_count": 72,
   "metadata": {
    "ExecuteTime": {
     "end_time": "2024-03-19T19:25:00.970812Z",
     "start_time": "2024-03-19T19:25:00.843620Z"
    }
   },
   "outputs": [],
   "source": [
    "# Make predictions on the test dataset using the best model\n",
    "test_preds = ideal_model.predict(df_test)"
   ]
  },
  {
   "cell_type": "markdown",
   "metadata": {},
   "source": [
    "When looking at the [Kaggle submission requirements](https://www.kaggle.com/c/bluebook-for-bulldozers/overview/evaluation), we see that if we wanted to make a submission, the data is required to be in a certain format. Namely, a DataFrame containing the `SalesID` and the predicted `SalePrice` of the bulldozer.\n",
    "\n",
    "Let's make it."
   ]
  },
  {
   "cell_type": "code",
   "execution_count": 73,
   "metadata": {
    "ExecuteTime": {
     "end_time": "2024-03-19T19:25:00.976624Z",
     "start_time": "2024-03-19T19:25:00.971476Z"
    }
   },
   "outputs": [
    {
     "data": {
      "text/plain": "       SalesID     SalePrice\n0      1227829  17996.736926\n1      1227844  17666.216405\n2      1227847  51931.737384\n3      1227848  64956.346263\n4      1227863  57658.039853\n...        ...           ...\n12452  6643171  42061.424334\n12453  6643173  13222.737148\n12454  6643184  13703.299709\n12455  6643186  19264.108891\n12456  6643196  29375.918784\n\n[12457 rows x 2 columns]",
      "text/html": "<div>\n<style scoped>\n    .dataframe tbody tr th:only-of-type {\n        vertical-align: middle;\n    }\n\n    .dataframe tbody tr th {\n        vertical-align: top;\n    }\n\n    .dataframe thead th {\n        text-align: right;\n    }\n</style>\n<table border=\"1\" class=\"dataframe\">\n  <thead>\n    <tr style=\"text-align: right;\">\n      <th></th>\n      <th>SalesID</th>\n      <th>SalePrice</th>\n    </tr>\n  </thead>\n  <tbody>\n    <tr>\n      <th>0</th>\n      <td>1227829</td>\n      <td>17996.736926</td>\n    </tr>\n    <tr>\n      <th>1</th>\n      <td>1227844</td>\n      <td>17666.216405</td>\n    </tr>\n    <tr>\n      <th>2</th>\n      <td>1227847</td>\n      <td>51931.737384</td>\n    </tr>\n    <tr>\n      <th>3</th>\n      <td>1227848</td>\n      <td>64956.346263</td>\n    </tr>\n    <tr>\n      <th>4</th>\n      <td>1227863</td>\n      <td>57658.039853</td>\n    </tr>\n    <tr>\n      <th>...</th>\n      <td>...</td>\n      <td>...</td>\n    </tr>\n    <tr>\n      <th>12452</th>\n      <td>6643171</td>\n      <td>42061.424334</td>\n    </tr>\n    <tr>\n      <th>12453</th>\n      <td>6643173</td>\n      <td>13222.737148</td>\n    </tr>\n    <tr>\n      <th>12454</th>\n      <td>6643184</td>\n      <td>13703.299709</td>\n    </tr>\n    <tr>\n      <th>12455</th>\n      <td>6643186</td>\n      <td>19264.108891</td>\n    </tr>\n    <tr>\n      <th>12456</th>\n      <td>6643196</td>\n      <td>29375.918784</td>\n    </tr>\n  </tbody>\n</table>\n<p>12457 rows × 2 columns</p>\n</div>"
     },
     "execution_count": 73,
     "metadata": {},
     "output_type": "execute_result"
    }
   ],
   "source": [
    "# Create DataFrame compatible with Kaggle submission requirements\n",
    "df_preds = pd.DataFrame()\n",
    "df_preds[\"SalesID\"] = df_test[\"SalesID\"]\n",
    "df_preds[\"SalePrice\"] = test_preds\n",
    "df_preds"
   ]
  },
  {
   "cell_type": "code",
   "execution_count": 74,
   "metadata": {
    "ExecuteTime": {
     "end_time": "2024-03-19T19:25:00.978710Z",
     "start_time": "2024-03-19T19:25:00.977218Z"
    }
   },
   "outputs": [],
   "source": [
    "# Export to csv...\n",
    "#df_preds.to_csv(\"../data/bluebook-for-bulldozers/predictions.csv\",\n",
    "#                index=False)"
   ]
  },
  {
   "cell_type": "markdown",
   "metadata": {},
   "source": [
    "## Feature Importance\n",
    "\n",
    "Since we've built a model which is able to make predictions. The people you share these predictions with (or yourself) might be curious of what parts of the data led to these predictions.\n",
    "\n",
    "This is where **feature importance** comes in. Feature importance seeks to figure out which different attributes of the data were most important when it comes to predicting the **target variable**.\n",
    "\n",
    "In our case, after our model learned the patterns in the data, which bulldozer sale attributes were most important for predicting its overall sale price?\n",
    "\n",
    "Beware: the default feature importances for random forests can lead to non-ideal results.\n",
    "\n",
    "To find which features were most important of a machine learning model, a good idea is to search something like \"\\[MODEL NAME\\] feature importance\".\n",
    "\n",
    "Doing this for our `RandomForestRegressor` leads us to find the `feature_importances_` attribute.\n",
    "\n",
    "Let's check it out."
   ]
  },
  {
   "cell_type": "code",
   "execution_count": 75,
   "metadata": {
    "ExecuteTime": {
     "end_time": "2024-03-19T19:25:01.007412Z",
     "start_time": "2024-03-19T19:25:00.979333Z"
    }
   },
   "outputs": [
    {
     "data": {
      "text/plain": "array([3.43769605e-02, 2.20970069e-02, 4.12305512e-02, 1.82864916e-03,\n       3.33811609e-03, 1.96541149e-01, 3.25469956e-03, 1.09382544e-03,\n       4.36278275e-02, 3.88848630e-02, 6.82678232e-02, 4.61862929e-03,\n       1.47733354e-02, 1.47465344e-01, 4.72422955e-02, 5.98374256e-03,\n       2.34403862e-03, 1.74575564e-03, 3.66050414e-03, 6.75300522e-02,\n       4.99438175e-04, 1.12151148e-03, 8.06059821e-04, 3.01089518e-04,\n       1.32626131e-03, 2.60345279e-05, 3.20794000e-04, 1.07851187e-02,\n       7.84756548e-04, 1.43128001e-03, 4.44320024e-03, 2.36222334e-03,\n       3.34342286e-03, 4.31576777e-04, 2.86615891e-03, 9.24056882e-03,\n       8.55605769e-04, 1.43996709e-02, 2.39267210e-03, 1.42284816e-03,\n       1.48035692e-03, 8.32525347e-04, 1.72430015e-03, 6.05421117e-04,\n       4.84495663e-04, 3.49140783e-04, 2.43123301e-04, 2.03014143e-03,\n       1.35582676e-03, 2.45648266e-04, 2.54429333e-04, 7.34663033e-02,\n       3.77913846e-03, 5.68600862e-03, 2.88073843e-03, 9.92593714e-03,\n       2.51411112e-04, 1.45679812e-03, 3.24959546e-04, 0.00000000e+00,\n       0.00000000e+00, 3.18761943e-03, 1.39764808e-03, 9.98787221e-03,\n       2.79640207e-02, 0.00000000e+00, 0.00000000e+00, 0.00000000e+00,\n       0.00000000e+00, 4.05285236e-05, 1.17428195e-05, 5.26106247e-04,\n       1.23164301e-05, 1.52855304e-04, 1.40294700e-04, 2.45842320e-04,\n       1.25913641e-04, 1.93191873e-03, 2.08297966e-03, 1.21667594e-03,\n       2.68078606e-03, 4.52755646e-03, 2.87237041e-03, 9.64171007e-04,\n       1.03783328e-03, 1.54408464e-04, 1.71101128e-03, 2.29579578e-04,\n       1.46332505e-02, 2.59648043e-03, 1.92321089e-03, 9.46051005e-05,\n       6.29013612e-05, 4.27413483e-05, 4.06345985e-05, 6.51293915e-05,\n       4.40393904e-05, 2.12417456e-04, 1.63834649e-04, 1.93368457e-04,\n       1.87741701e-04, 9.54290400e-05])"
     },
     "execution_count": 75,
     "metadata": {},
     "output_type": "execute_result"
    }
   ],
   "source": [
    "# Find feature importance of our best model\n",
    "ideal_model.feature_importances_"
   ]
  },
  {
   "cell_type": "code",
   "execution_count": 76,
   "metadata": {
    "ExecuteTime": {
     "end_time": "2024-03-19T19:25:01.009629Z",
     "start_time": "2024-03-19T19:25:01.008061Z"
    }
   },
   "outputs": [],
   "source": [
    "# Install Seaborn package in current environment (if you don't have it)\n",
    "# import sys\n",
    "# !conda install --yes --prefix {sys.prefix} seaborn"
   ]
  },
  {
   "cell_type": "code",
   "execution_count": 77,
   "metadata": {
    "ExecuteTime": {
     "end_time": "2024-03-19T19:25:01.012804Z",
     "start_time": "2024-03-19T19:25:01.010520Z"
    }
   },
   "outputs": [],
   "source": [
    "import seaborn as sns\n",
    "\n",
    "# Helper function for plotting feature importance\n",
    "def plot_features(columns, importances, n=20):\n",
    "    df = (pd.DataFrame({\"features\": columns,\n",
    "                        \"feature_importance\": importances})\n",
    "          .sort_values(\"feature_importance\", ascending=False)\n",
    "          .reset_index(drop=True))\n",
    "    \n",
    "    sns.barplot(x=\"feature_importance\",\n",
    "                y=\"features\",\n",
    "                data=df[:n],\n",
    "                orient=\"h\")"
   ]
  },
  {
   "cell_type": "code",
   "execution_count": 78,
   "metadata": {
    "ExecuteTime": {
     "end_time": "2024-03-19T19:25:01.196752Z",
     "start_time": "2024-03-19T19:25:01.013423Z"
    }
   },
   "outputs": [
    {
     "data": {
      "text/plain": "<Figure size 640x480 with 1 Axes>",
      "image/png": "[encoded data removed]"
     },
     "metadata": {},
     "output_type": "display_data"
    }
   ],
   "source": [
    "plot_features(X_train.columns, ideal_model.feature_importances_)"
   ]
  },
  {
   "cell_type": "code",
   "execution_count": 79,
   "metadata": {
    "ExecuteTime": {
     "end_time": "2024-03-19T19:25:01.253754Z",
     "start_time": "2024-03-19T19:25:01.197757Z"
    }
   },
   "outputs": [
    {
     "data": {
      "text/plain": "1.0"
     },
     "execution_count": 79,
     "metadata": {},
     "output_type": "execute_result"
    }
   ],
   "source": [
    "sum(ideal_model.feature_importances_)"
   ]
  },
  {
   "cell_type": "code",
   "execution_count": 80,
   "metadata": {
    "ExecuteTime": {
     "end_time": "2024-03-19T19:25:01.267489Z",
     "start_time": "2024-03-19T19:25:01.254504Z"
    }
   },
   "outputs": [
    {
     "data": {
      "text/plain": "216605"
     },
     "execution_count": 80,
     "metadata": {},
     "output_type": "execute_result"
    }
   ],
   "source": [
    "df.ProductSize.isna().sum()"
   ]
  },
  {
   "cell_type": "code",
   "execution_count": 81,
   "metadata": {
    "ExecuteTime": {
     "end_time": "2024-03-19T19:25:01.283054Z",
     "start_time": "2024-03-19T19:25:01.268264Z"
    }
   },
   "outputs": [
    {
     "data": {
      "text/plain": "ProductSize\nMedium            64342\nLarge / Medium    51297\nSmall             27057\nMini              25721\nLarge             21396\nCompact            6280\nName: count, dtype: int64"
     },
     "execution_count": 81,
     "metadata": {},
     "output_type": "execute_result"
    }
   ],
   "source": [
    "df.ProductSize.value_counts()"
   ]
  },
  {
   "cell_type": "code",
   "execution_count": 82,
   "metadata": {
    "ExecuteTime": {
     "end_time": "2024-03-19T19:25:01.294104Z",
     "start_time": "2024-03-19T19:25:01.283851Z"
    }
   },
   "outputs": [
    {
     "data": {
      "text/plain": "Turbocharged\nNone or Unspecified    77111\nYes                     3985\nName: count, dtype: int64"
     },
     "execution_count": 82,
     "metadata": {},
     "output_type": "execute_result"
    }
   ],
   "source": [
    "df.Turbocharged.value_counts()"
   ]
  },
  {
   "cell_type": "code",
   "execution_count": 83,
   "metadata": {
    "ExecuteTime": {
     "end_time": "2024-03-19T19:25:01.303715Z",
     "start_time": "2024-03-19T19:25:01.294639Z"
    }
   },
   "outputs": [
    {
     "data": {
      "text/plain": "Thumb\nNone or Unspecified    85074\nManual                  9678\nHydraulic               7580\nName: count, dtype: int64"
     },
     "execution_count": 83,
     "metadata": {},
     "output_type": "execute_result"
    }
   ],
   "source": [
    "df.Thumb.value_counts()"
   ]
  },
  {
   "cell_type": "code",
   "outputs": [],
   "source": [],
   "metadata": {
    "collapsed": false,
    "ExecuteTime": {
     "end_time": "2024-03-19T19:25:01.305458Z",
     "start_time": "2024-03-19T19:25:01.304284Z"
    }
   },
   "execution_count": 83
  }
 ],
 "metadata": {
  "kernelspec": {
   "display_name": "Python 3 (ipykernel)",
   "language": "python",
   "name": "python3"
  },
  "language_info": {
   "codemirror_mode": {
    "name": "ipython",
    "version": 3
   },
   "file_extension": ".py",
   "mimetype": "text/x-python",
   "name": "python",
   "nbconvert_exporter": "python",
   "pygments_lexer": "ipython3",
   "version": "3.8.13"
  }
 },
 "nbformat": 4,
 "nbformat_minor": 4
}
